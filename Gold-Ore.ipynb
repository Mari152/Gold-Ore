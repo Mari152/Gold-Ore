{
 "cells": [
  {
   "cell_type": "markdown",
   "metadata": {
    "toc": true
   },
   "source": [
    "<h1>Содержание<span class=\"tocSkip\"></span></h1>\n",
    "<div class=\"toc\"><ul class=\"toc-item\"><li><span><a href=\"#Подготовка-данных\" data-toc-modified-id=\"Подготовка-данных-1\"><span class=\"toc-item-num\">1&nbsp;&nbsp;</span>Подготовка данных</a></span><ul class=\"toc-item\"><li><span><a href=\"#Изучаем-файлы\" data-toc-modified-id=\"Изучаем-файлы-1.1\"><span class=\"toc-item-num\">1.1&nbsp;&nbsp;</span>Изучаем файлы</a></span></li><li><span><a href=\"#Проверим,-что-эффективность-обогащения-рассчитана-правильно.\" data-toc-modified-id=\"Проверим,-что-эффективность-обогащения-рассчитана-правильно.-1.2\"><span class=\"toc-item-num\">1.2&nbsp;&nbsp;</span>Проверим, что эффективность обогащения рассчитана правильно.</a></span></li><li><span><a href=\"#Проанализируем-признаки,-недоступные-в-тестовой-выборке.\" data-toc-modified-id=\"Проанализируем-признаки,-недоступные-в-тестовой-выборке.-1.3\"><span class=\"toc-item-num\">1.3&nbsp;&nbsp;</span>Проанализируем признаки, недоступные в тестовой выборке.</a></span></li><li><span><a href=\"#Проводим-предобработку-данных.\" data-toc-modified-id=\"Проводим-предобработку-данных.-1.4\"><span class=\"toc-item-num\">1.4&nbsp;&nbsp;</span>Проводим предобработку данных.</a></span></li></ul></li><li><span><a href=\"#Анализ-данных\" data-toc-modified-id=\"Анализ-данных-2\"><span class=\"toc-item-num\">2&nbsp;&nbsp;</span>Анализ данных</a></span><ul class=\"toc-item\"><li><span><a href=\"#Проверим,-как-меняется-концентрация-металлов-(Au,-Ag,-Pb)-на-различных-этапах-очистки.\" data-toc-modified-id=\"Проверим,-как-меняется-концентрация-металлов-(Au,-Ag,-Pb)-на-различных-этапах-очистки.-2.1\"><span class=\"toc-item-num\">2.1&nbsp;&nbsp;</span>Проверим, как меняется концентрация металлов (Au, Ag, Pb) на различных этапах очистки.</a></span></li><li><span><a href=\"#Сравниваем-распределения-размеров-гранул-сырья-на-обучающей-и-тестовой-выборках.\" data-toc-modified-id=\"Сравниваем-распределения-размеров-гранул-сырья-на-обучающей-и-тестовой-выборках.-2.2\"><span class=\"toc-item-num\">2.2&nbsp;&nbsp;</span>Сравниваем распределения размеров гранул сырья на обучающей и тестовой выборках.</a></span></li><li><span><a href=\"#Исследуем-суммарную-концентрацию-всех-веществ-на-разных-стадиях:-в-сырье,-в-черновом-и-финальном-концентратах.\" data-toc-modified-id=\"Исследуем-суммарную-концентрацию-всех-веществ-на-разных-стадиях:-в-сырье,-в-черновом-и-финальном-концентратах.-2.3\"><span class=\"toc-item-num\">2.3&nbsp;&nbsp;</span>Исследуем суммарную концентрацию всех веществ на разных стадиях: в сырье, в черновом и финальном концентратах.</a></span></li></ul></li><li><span><a href=\"#Модель\" data-toc-modified-id=\"Модель-3\"><span class=\"toc-item-num\">3&nbsp;&nbsp;</span>Модель</a></span><ul class=\"toc-item\"><li><span><a href=\"#Напишите-функцию-для-вычисления-итоговой-sMAPE.\" data-toc-modified-id=\"Напишите-функцию-для-вычисления-итоговой-sMAPE.-3.1\"><span class=\"toc-item-num\">3.1&nbsp;&nbsp;</span>Напишите функцию для вычисления итоговой sMAPE.</a></span></li><li><span><a href=\"#Обучите-разные-модели-и-оцените-их-качество-кросс-валидацией.-Выберите-лучшую-модель-и-проверьте-её-на-тестовой-выборке.\" data-toc-modified-id=\"Обучите-разные-модели-и-оцените-их-качество-кросс-валидацией.-Выберите-лучшую-модель-и-проверьте-её-на-тестовой-выборке.-3.2\"><span class=\"toc-item-num\">3.2&nbsp;&nbsp;</span>Обучите разные модели и оцените их качество кросс-валидацией. Выберите лучшую модель и проверьте её на тестовой выборке.</a></span></li><li><span><a href=\"#Проверьте-лучшую-модель-на-тестовой-выборке.\" data-toc-modified-id=\"Проверьте-лучшую-модель-на-тестовой-выборке.-3.3\"><span class=\"toc-item-num\">3.3&nbsp;&nbsp;</span>Проверьте лучшую модель на тестовой выборке.</a></span></li></ul></li><li><span><a href=\"#Чек-лист-готовности-проекта\" data-toc-modified-id=\"Чек-лист-готовности-проекта-4\"><span class=\"toc-item-num\">4&nbsp;&nbsp;</span>Чек-лист готовности проекта</a></span></li></ul></div>"
   ]
  },
  {
   "cell_type": "markdown",
   "metadata": {},
   "source": [
    "# Восстановление золота из руды"
   ]
  },
  {
   "cell_type": "markdown",
   "metadata": {},
   "source": [
    "Подготовьте прототип модели машинного обучения для «Цифры». Компания разрабатывает решения для эффективной работы промышленных предприятий.\n",
    "\n",
    "Модель должна предсказать коэффициент восстановления золота из золотосодержащей руды. Используйте данные с параметрами добычи и очистки. \n",
    "\n",
    "Модель поможет оптимизировать производство, чтобы не запускать предприятие с убыточными характеристиками.\n",
    "\n",
    "Вам нужно:\n",
    "\n",
    "1. Подготовить данные;\n",
    "2. Провести исследовательский анализ данных;\n",
    "3. Построить и обучить модель.\n",
    "\n",
    "Чтобы выполнить проект, обращайтесь к библиотекам *pandas*, *matplotlib* и *sklearn.* Вам поможет их документация."
   ]
  },
  {
   "cell_type": "markdown",
   "metadata": {},
   "source": [
    "## Подготовка данных"
   ]
  },
  {
   "cell_type": "code",
   "execution_count": 1,
   "metadata": {},
   "outputs": [],
   "source": [
    "import numpy as np\n",
    "import pandas as pd\n",
    "\n",
    "from sklearn.metrics import mean_absolute_error\n",
    "import matplotlib.pyplot as plt\n",
    "import seaborn as sns\n",
    "from sklearn.linear_model import LinearRegression\n",
    "from sklearn.ensemble import RandomForestRegressor\n",
    "from sklearn.ensemble import GradientBoostingRegressor\n",
    "from sklearn.model_selection import GridSearchCV\n",
    "from sklearn.model_selection import KFold\n",
    "from sklearn.metrics import mean_absolute_error\n",
    "from sklearn.model_selection import cross_val_score\n",
    "from sklearn.tree import DecisionTreeRegressor\n",
    "from sklearn.metrics import make_scorer\n",
    "from sklearn.model_selection import cross_val_score\n",
    "from sklearn.dummy import DummyRegressor\n",
    "\n",
    "import warnings\n",
    "warnings.simplefilter(action='ignore', category=FutureWarning)"
   ]
  },
  {
   "cell_type": "markdown",
   "metadata": {},
   "source": [
    "### Изучаем файлы"
   ]
  },
  {
   "cell_type": "code",
   "execution_count": 2,
   "metadata": {},
   "outputs": [],
   "source": [
    "train = pd.read_csv('/datasets/gold_recovery_train_new.csv')\n",
    "test = pd.read_csv('/datasets/gold_recovery_test_new.csv')\n",
    "full = pd.read_csv('/datasets/gold_recovery_full_new.csv')"
   ]
  },
  {
   "cell_type": "code",
   "execution_count": 3,
   "metadata": {},
   "outputs": [
    {
     "data": {
      "text/html": [
       "<div>\n",
       "<style scoped>\n",
       "    .dataframe tbody tr th:only-of-type {\n",
       "        vertical-align: middle;\n",
       "    }\n",
       "\n",
       "    .dataframe tbody tr th {\n",
       "        vertical-align: top;\n",
       "    }\n",
       "\n",
       "    .dataframe thead th {\n",
       "        text-align: right;\n",
       "    }\n",
       "</style>\n",
       "<table border=\"1\" class=\"dataframe\">\n",
       "  <thead>\n",
       "    <tr style=\"text-align: right;\">\n",
       "      <th></th>\n",
       "      <th>date</th>\n",
       "      <th>final.output.concentrate_ag</th>\n",
       "      <th>final.output.concentrate_pb</th>\n",
       "      <th>final.output.concentrate_sol</th>\n",
       "      <th>final.output.concentrate_au</th>\n",
       "      <th>final.output.recovery</th>\n",
       "      <th>final.output.tail_ag</th>\n",
       "      <th>final.output.tail_pb</th>\n",
       "      <th>final.output.tail_sol</th>\n",
       "      <th>final.output.tail_au</th>\n",
       "      <th>...</th>\n",
       "      <th>secondary_cleaner.state.floatbank4_a_air</th>\n",
       "      <th>secondary_cleaner.state.floatbank4_a_level</th>\n",
       "      <th>secondary_cleaner.state.floatbank4_b_air</th>\n",
       "      <th>secondary_cleaner.state.floatbank4_b_level</th>\n",
       "      <th>secondary_cleaner.state.floatbank5_a_air</th>\n",
       "      <th>secondary_cleaner.state.floatbank5_a_level</th>\n",
       "      <th>secondary_cleaner.state.floatbank5_b_air</th>\n",
       "      <th>secondary_cleaner.state.floatbank5_b_level</th>\n",
       "      <th>secondary_cleaner.state.floatbank6_a_air</th>\n",
       "      <th>secondary_cleaner.state.floatbank6_a_level</th>\n",
       "    </tr>\n",
       "  </thead>\n",
       "  <tbody>\n",
       "    <tr>\n",
       "      <th>0</th>\n",
       "      <td>2016-01-15 00:00:00</td>\n",
       "      <td>6.055403</td>\n",
       "      <td>9.889648</td>\n",
       "      <td>5.507324</td>\n",
       "      <td>42.192020</td>\n",
       "      <td>70.541216</td>\n",
       "      <td>10.411962</td>\n",
       "      <td>0.895447</td>\n",
       "      <td>16.904297</td>\n",
       "      <td>2.143149</td>\n",
       "      <td>...</td>\n",
       "      <td>14.016835</td>\n",
       "      <td>-502.488007</td>\n",
       "      <td>12.099931</td>\n",
       "      <td>-504.715942</td>\n",
       "      <td>9.925633</td>\n",
       "      <td>-498.310211</td>\n",
       "      <td>8.079666</td>\n",
       "      <td>-500.470978</td>\n",
       "      <td>14.151341</td>\n",
       "      <td>-605.841980</td>\n",
       "    </tr>\n",
       "    <tr>\n",
       "      <th>1</th>\n",
       "      <td>2016-01-15 01:00:00</td>\n",
       "      <td>6.029369</td>\n",
       "      <td>9.968944</td>\n",
       "      <td>5.257781</td>\n",
       "      <td>42.701629</td>\n",
       "      <td>69.266198</td>\n",
       "      <td>10.462676</td>\n",
       "      <td>0.927452</td>\n",
       "      <td>16.634514</td>\n",
       "      <td>2.224930</td>\n",
       "      <td>...</td>\n",
       "      <td>13.992281</td>\n",
       "      <td>-505.503262</td>\n",
       "      <td>11.950531</td>\n",
       "      <td>-501.331529</td>\n",
       "      <td>10.039245</td>\n",
       "      <td>-500.169983</td>\n",
       "      <td>7.984757</td>\n",
       "      <td>-500.582168</td>\n",
       "      <td>13.998353</td>\n",
       "      <td>-599.787184</td>\n",
       "    </tr>\n",
       "    <tr>\n",
       "      <th>2</th>\n",
       "      <td>2016-01-15 02:00:00</td>\n",
       "      <td>6.055926</td>\n",
       "      <td>10.213995</td>\n",
       "      <td>5.383759</td>\n",
       "      <td>42.657501</td>\n",
       "      <td>68.116445</td>\n",
       "      <td>10.507046</td>\n",
       "      <td>0.953716</td>\n",
       "      <td>16.208849</td>\n",
       "      <td>2.257889</td>\n",
       "      <td>...</td>\n",
       "      <td>14.015015</td>\n",
       "      <td>-502.520901</td>\n",
       "      <td>11.912783</td>\n",
       "      <td>-501.133383</td>\n",
       "      <td>10.070913</td>\n",
       "      <td>-500.129135</td>\n",
       "      <td>8.013877</td>\n",
       "      <td>-500.517572</td>\n",
       "      <td>14.028663</td>\n",
       "      <td>-601.427363</td>\n",
       "    </tr>\n",
       "    <tr>\n",
       "      <th>3</th>\n",
       "      <td>2016-01-15 03:00:00</td>\n",
       "      <td>6.047977</td>\n",
       "      <td>9.977019</td>\n",
       "      <td>4.858634</td>\n",
       "      <td>42.689819</td>\n",
       "      <td>68.347543</td>\n",
       "      <td>10.422762</td>\n",
       "      <td>0.883763</td>\n",
       "      <td>16.532835</td>\n",
       "      <td>2.146849</td>\n",
       "      <td>...</td>\n",
       "      <td>14.036510</td>\n",
       "      <td>-500.857308</td>\n",
       "      <td>11.999550</td>\n",
       "      <td>-501.193686</td>\n",
       "      <td>9.970366</td>\n",
       "      <td>-499.201640</td>\n",
       "      <td>7.977324</td>\n",
       "      <td>-500.255908</td>\n",
       "      <td>14.005551</td>\n",
       "      <td>-599.996129</td>\n",
       "    </tr>\n",
       "    <tr>\n",
       "      <th>4</th>\n",
       "      <td>2016-01-15 04:00:00</td>\n",
       "      <td>6.148599</td>\n",
       "      <td>10.142511</td>\n",
       "      <td>4.939416</td>\n",
       "      <td>42.774141</td>\n",
       "      <td>66.927016</td>\n",
       "      <td>10.360302</td>\n",
       "      <td>0.792826</td>\n",
       "      <td>16.525686</td>\n",
       "      <td>2.055292</td>\n",
       "      <td>...</td>\n",
       "      <td>14.027298</td>\n",
       "      <td>-499.838632</td>\n",
       "      <td>11.953070</td>\n",
       "      <td>-501.053894</td>\n",
       "      <td>9.925709</td>\n",
       "      <td>-501.686727</td>\n",
       "      <td>7.894242</td>\n",
       "      <td>-500.356035</td>\n",
       "      <td>13.996647</td>\n",
       "      <td>-601.496691</td>\n",
       "    </tr>\n",
       "  </tbody>\n",
       "</table>\n",
       "<p>5 rows × 87 columns</p>\n",
       "</div>"
      ],
      "text/plain": [
       "                  date  final.output.concentrate_ag  \\\n",
       "0  2016-01-15 00:00:00                     6.055403   \n",
       "1  2016-01-15 01:00:00                     6.029369   \n",
       "2  2016-01-15 02:00:00                     6.055926   \n",
       "3  2016-01-15 03:00:00                     6.047977   \n",
       "4  2016-01-15 04:00:00                     6.148599   \n",
       "\n",
       "   final.output.concentrate_pb  final.output.concentrate_sol  \\\n",
       "0                     9.889648                      5.507324   \n",
       "1                     9.968944                      5.257781   \n",
       "2                    10.213995                      5.383759   \n",
       "3                     9.977019                      4.858634   \n",
       "4                    10.142511                      4.939416   \n",
       "\n",
       "   final.output.concentrate_au  final.output.recovery  final.output.tail_ag  \\\n",
       "0                    42.192020              70.541216             10.411962   \n",
       "1                    42.701629              69.266198             10.462676   \n",
       "2                    42.657501              68.116445             10.507046   \n",
       "3                    42.689819              68.347543             10.422762   \n",
       "4                    42.774141              66.927016             10.360302   \n",
       "\n",
       "   final.output.tail_pb  final.output.tail_sol  final.output.tail_au  ...  \\\n",
       "0              0.895447              16.904297              2.143149  ...   \n",
       "1              0.927452              16.634514              2.224930  ...   \n",
       "2              0.953716              16.208849              2.257889  ...   \n",
       "3              0.883763              16.532835              2.146849  ...   \n",
       "4              0.792826              16.525686              2.055292  ...   \n",
       "\n",
       "   secondary_cleaner.state.floatbank4_a_air  \\\n",
       "0                                 14.016835   \n",
       "1                                 13.992281   \n",
       "2                                 14.015015   \n",
       "3                                 14.036510   \n",
       "4                                 14.027298   \n",
       "\n",
       "   secondary_cleaner.state.floatbank4_a_level  \\\n",
       "0                                 -502.488007   \n",
       "1                                 -505.503262   \n",
       "2                                 -502.520901   \n",
       "3                                 -500.857308   \n",
       "4                                 -499.838632   \n",
       "\n",
       "   secondary_cleaner.state.floatbank4_b_air  \\\n",
       "0                                 12.099931   \n",
       "1                                 11.950531   \n",
       "2                                 11.912783   \n",
       "3                                 11.999550   \n",
       "4                                 11.953070   \n",
       "\n",
       "   secondary_cleaner.state.floatbank4_b_level  \\\n",
       "0                                 -504.715942   \n",
       "1                                 -501.331529   \n",
       "2                                 -501.133383   \n",
       "3                                 -501.193686   \n",
       "4                                 -501.053894   \n",
       "\n",
       "   secondary_cleaner.state.floatbank5_a_air  \\\n",
       "0                                  9.925633   \n",
       "1                                 10.039245   \n",
       "2                                 10.070913   \n",
       "3                                  9.970366   \n",
       "4                                  9.925709   \n",
       "\n",
       "   secondary_cleaner.state.floatbank5_a_level  \\\n",
       "0                                 -498.310211   \n",
       "1                                 -500.169983   \n",
       "2                                 -500.129135   \n",
       "3                                 -499.201640   \n",
       "4                                 -501.686727   \n",
       "\n",
       "   secondary_cleaner.state.floatbank5_b_air  \\\n",
       "0                                  8.079666   \n",
       "1                                  7.984757   \n",
       "2                                  8.013877   \n",
       "3                                  7.977324   \n",
       "4                                  7.894242   \n",
       "\n",
       "   secondary_cleaner.state.floatbank5_b_level  \\\n",
       "0                                 -500.470978   \n",
       "1                                 -500.582168   \n",
       "2                                 -500.517572   \n",
       "3                                 -500.255908   \n",
       "4                                 -500.356035   \n",
       "\n",
       "   secondary_cleaner.state.floatbank6_a_air  \\\n",
       "0                                 14.151341   \n",
       "1                                 13.998353   \n",
       "2                                 14.028663   \n",
       "3                                 14.005551   \n",
       "4                                 13.996647   \n",
       "\n",
       "   secondary_cleaner.state.floatbank6_a_level  \n",
       "0                                 -605.841980  \n",
       "1                                 -599.787184  \n",
       "2                                 -601.427363  \n",
       "3                                 -599.996129  \n",
       "4                                 -601.496691  \n",
       "\n",
       "[5 rows x 87 columns]"
      ]
     },
     "metadata": {},
     "output_type": "display_data"
    },
    {
     "name": "stdout",
     "output_type": "stream",
     "text": [
      "<class 'pandas.core.frame.DataFrame'>\n",
      "RangeIndex: 14149 entries, 0 to 14148\n",
      "Data columns (total 87 columns):\n",
      " #   Column                                              Non-Null Count  Dtype  \n",
      "---  ------                                              --------------  -----  \n",
      " 0   date                                                14149 non-null  object \n",
      " 1   final.output.concentrate_ag                         14148 non-null  float64\n",
      " 2   final.output.concentrate_pb                         14148 non-null  float64\n",
      " 3   final.output.concentrate_sol                        13938 non-null  float64\n",
      " 4   final.output.concentrate_au                         14149 non-null  float64\n",
      " 5   final.output.recovery                               14149 non-null  float64\n",
      " 6   final.output.tail_ag                                14149 non-null  float64\n",
      " 7   final.output.tail_pb                                14049 non-null  float64\n",
      " 8   final.output.tail_sol                               14144 non-null  float64\n",
      " 9   final.output.tail_au                                14149 non-null  float64\n",
      " 10  primary_cleaner.input.sulfate                       14129 non-null  float64\n",
      " 11  primary_cleaner.input.depressant                    14117 non-null  float64\n",
      " 12  primary_cleaner.input.feed_size                     14149 non-null  float64\n",
      " 13  primary_cleaner.input.xanthate                      14049 non-null  float64\n",
      " 14  primary_cleaner.output.concentrate_ag               14149 non-null  float64\n",
      " 15  primary_cleaner.output.concentrate_pb               14063 non-null  float64\n",
      " 16  primary_cleaner.output.concentrate_sol              13863 non-null  float64\n",
      " 17  primary_cleaner.output.concentrate_au               14149 non-null  float64\n",
      " 18  primary_cleaner.output.tail_ag                      14148 non-null  float64\n",
      " 19  primary_cleaner.output.tail_pb                      14134 non-null  float64\n",
      " 20  primary_cleaner.output.tail_sol                     14103 non-null  float64\n",
      " 21  primary_cleaner.output.tail_au                      14149 non-null  float64\n",
      " 22  primary_cleaner.state.floatbank8_a_air              14145 non-null  float64\n",
      " 23  primary_cleaner.state.floatbank8_a_level            14148 non-null  float64\n",
      " 24  primary_cleaner.state.floatbank8_b_air              14145 non-null  float64\n",
      " 25  primary_cleaner.state.floatbank8_b_level            14148 non-null  float64\n",
      " 26  primary_cleaner.state.floatbank8_c_air              14147 non-null  float64\n",
      " 27  primary_cleaner.state.floatbank8_c_level            14148 non-null  float64\n",
      " 28  primary_cleaner.state.floatbank8_d_air              14146 non-null  float64\n",
      " 29  primary_cleaner.state.floatbank8_d_level            14148 non-null  float64\n",
      " 30  rougher.calculation.sulfate_to_au_concentrate       14148 non-null  float64\n",
      " 31  rougher.calculation.floatbank10_sulfate_to_au_feed  14148 non-null  float64\n",
      " 32  rougher.calculation.floatbank11_sulfate_to_au_feed  14148 non-null  float64\n",
      " 33  rougher.calculation.au_pb_ratio                     14149 non-null  float64\n",
      " 34  rougher.input.feed_ag                               14149 non-null  float64\n",
      " 35  rougher.input.feed_pb                               14049 non-null  float64\n",
      " 36  rougher.input.feed_rate                             14141 non-null  float64\n",
      " 37  rougher.input.feed_size                             14005 non-null  float64\n",
      " 38  rougher.input.feed_sol                              14071 non-null  float64\n",
      " 39  rougher.input.feed_au                               14149 non-null  float64\n",
      " 40  rougher.input.floatbank10_sulfate                   14120 non-null  float64\n",
      " 41  rougher.input.floatbank10_xanthate                  14141 non-null  float64\n",
      " 42  rougher.input.floatbank11_sulfate                   14113 non-null  float64\n",
      " 43  rougher.input.floatbank11_xanthate                  13721 non-null  float64\n",
      " 44  rougher.output.concentrate_ag                       14149 non-null  float64\n",
      " 45  rougher.output.concentrate_pb                       14149 non-null  float64\n",
      " 46  rougher.output.concentrate_sol                      14127 non-null  float64\n",
      " 47  rougher.output.concentrate_au                       14149 non-null  float64\n",
      " 48  rougher.output.recovery                             14149 non-null  float64\n",
      " 49  rougher.output.tail_ag                              14148 non-null  float64\n",
      " 50  rougher.output.tail_pb                              14149 non-null  float64\n",
      " 51  rougher.output.tail_sol                             14149 non-null  float64\n",
      " 52  rougher.output.tail_au                              14149 non-null  float64\n",
      " 53  rougher.state.floatbank10_a_air                     14148 non-null  float64\n",
      " 54  rougher.state.floatbank10_a_level                   14148 non-null  float64\n",
      " 55  rougher.state.floatbank10_b_air                     14148 non-null  float64\n",
      " 56  rougher.state.floatbank10_b_level                   14148 non-null  float64\n",
      " 57  rougher.state.floatbank10_c_air                     14148 non-null  float64\n",
      " 58  rougher.state.floatbank10_c_level                   14148 non-null  float64\n",
      " 59  rougher.state.floatbank10_d_air                     14149 non-null  float64\n",
      " 60  rougher.state.floatbank10_d_level                   14149 non-null  float64\n",
      " 61  rougher.state.floatbank10_e_air                     13713 non-null  float64\n",
      " 62  rougher.state.floatbank10_e_level                   14149 non-null  float64\n",
      " 63  rougher.state.floatbank10_f_air                     14149 non-null  float64\n",
      " 64  rougher.state.floatbank10_f_level                   14149 non-null  float64\n",
      " 65  secondary_cleaner.output.tail_ag                    14147 non-null  float64\n",
      " 66  secondary_cleaner.output.tail_pb                    14139 non-null  float64\n",
      " 67  secondary_cleaner.output.tail_sol                   12544 non-null  float64\n",
      " 68  secondary_cleaner.output.tail_au                    14149 non-null  float64\n",
      " 69  secondary_cleaner.state.floatbank2_a_air            13932 non-null  float64\n",
      " 70  secondary_cleaner.state.floatbank2_a_level          14148 non-null  float64\n",
      " 71  secondary_cleaner.state.floatbank2_b_air            14128 non-null  float64\n",
      " 72  secondary_cleaner.state.floatbank2_b_level          14148 non-null  float64\n",
      " 73  secondary_cleaner.state.floatbank3_a_air            14145 non-null  float64\n",
      " 74  secondary_cleaner.state.floatbank3_a_level          14148 non-null  float64\n",
      " 75  secondary_cleaner.state.floatbank3_b_air            14148 non-null  float64\n",
      " 76  secondary_cleaner.state.floatbank3_b_level          14148 non-null  float64\n",
      " 77  secondary_cleaner.state.floatbank4_a_air            14143 non-null  float64\n",
      " 78  secondary_cleaner.state.floatbank4_a_level          14148 non-null  float64\n",
      " 79  secondary_cleaner.state.floatbank4_b_air            14148 non-null  float64\n",
      " 80  secondary_cleaner.state.floatbank4_b_level          14148 non-null  float64\n",
      " 81  secondary_cleaner.state.floatbank5_a_air            14148 non-null  float64\n",
      " 82  secondary_cleaner.state.floatbank5_a_level          14148 non-null  float64\n",
      " 83  secondary_cleaner.state.floatbank5_b_air            14148 non-null  float64\n",
      " 84  secondary_cleaner.state.floatbank5_b_level          14148 non-null  float64\n",
      " 85  secondary_cleaner.state.floatbank6_a_air            14147 non-null  float64\n",
      " 86  secondary_cleaner.state.floatbank6_a_level          14148 non-null  float64\n",
      "dtypes: float64(86), object(1)\n",
      "memory usage: 9.4+ MB\n"
     ]
    },
    {
     "data": {
      "text/html": [
       "<div>\n",
       "<style scoped>\n",
       "    .dataframe tbody tr th:only-of-type {\n",
       "        vertical-align: middle;\n",
       "    }\n",
       "\n",
       "    .dataframe tbody tr th {\n",
       "        vertical-align: top;\n",
       "    }\n",
       "\n",
       "    .dataframe thead th {\n",
       "        text-align: right;\n",
       "    }\n",
       "</style>\n",
       "<table border=\"1\" class=\"dataframe\">\n",
       "  <thead>\n",
       "    <tr style=\"text-align: right;\">\n",
       "      <th></th>\n",
       "      <th>final.output.concentrate_ag</th>\n",
       "      <th>final.output.concentrate_pb</th>\n",
       "      <th>final.output.concentrate_sol</th>\n",
       "      <th>final.output.concentrate_au</th>\n",
       "      <th>final.output.recovery</th>\n",
       "      <th>final.output.tail_ag</th>\n",
       "      <th>final.output.tail_pb</th>\n",
       "      <th>final.output.tail_sol</th>\n",
       "      <th>final.output.tail_au</th>\n",
       "      <th>primary_cleaner.input.sulfate</th>\n",
       "      <th>...</th>\n",
       "      <th>secondary_cleaner.state.floatbank4_a_air</th>\n",
       "      <th>secondary_cleaner.state.floatbank4_a_level</th>\n",
       "      <th>secondary_cleaner.state.floatbank4_b_air</th>\n",
       "      <th>secondary_cleaner.state.floatbank4_b_level</th>\n",
       "      <th>secondary_cleaner.state.floatbank5_a_air</th>\n",
       "      <th>secondary_cleaner.state.floatbank5_a_level</th>\n",
       "      <th>secondary_cleaner.state.floatbank5_b_air</th>\n",
       "      <th>secondary_cleaner.state.floatbank5_b_level</th>\n",
       "      <th>secondary_cleaner.state.floatbank6_a_air</th>\n",
       "      <th>secondary_cleaner.state.floatbank6_a_level</th>\n",
       "    </tr>\n",
       "  </thead>\n",
       "  <tbody>\n",
       "    <tr>\n",
       "      <th>count</th>\n",
       "      <td>14148.000000</td>\n",
       "      <td>14148.000000</td>\n",
       "      <td>13938.000000</td>\n",
       "      <td>14149.000000</td>\n",
       "      <td>14149.000000</td>\n",
       "      <td>14149.000000</td>\n",
       "      <td>14049.000000</td>\n",
       "      <td>14144.000000</td>\n",
       "      <td>14149.000000</td>\n",
       "      <td>14129.000000</td>\n",
       "      <td>...</td>\n",
       "      <td>14143.000000</td>\n",
       "      <td>14148.000000</td>\n",
       "      <td>14148.000000</td>\n",
       "      <td>14148.000000</td>\n",
       "      <td>14148.000000</td>\n",
       "      <td>14148.000000</td>\n",
       "      <td>14148.000000</td>\n",
       "      <td>14148.000000</td>\n",
       "      <td>14147.000000</td>\n",
       "      <td>14148.000000</td>\n",
       "    </tr>\n",
       "    <tr>\n",
       "      <th>mean</th>\n",
       "      <td>5.142034</td>\n",
       "      <td>10.132960</td>\n",
       "      <td>9.202849</td>\n",
       "      <td>44.003792</td>\n",
       "      <td>66.518832</td>\n",
       "      <td>9.607035</td>\n",
       "      <td>2.597298</td>\n",
       "      <td>10.512122</td>\n",
       "      <td>2.918421</td>\n",
       "      <td>133.320659</td>\n",
       "      <td>...</td>\n",
       "      <td>19.985454</td>\n",
       "      <td>-478.696836</td>\n",
       "      <td>15.487065</td>\n",
       "      <td>-460.229416</td>\n",
       "      <td>16.775136</td>\n",
       "      <td>-483.956022</td>\n",
       "      <td>13.064590</td>\n",
       "      <td>-483.966564</td>\n",
       "      <td>19.577539</td>\n",
       "      <td>-506.798480</td>\n",
       "    </tr>\n",
       "    <tr>\n",
       "      <th>std</th>\n",
       "      <td>1.369586</td>\n",
       "      <td>1.654930</td>\n",
       "      <td>2.790516</td>\n",
       "      <td>4.905261</td>\n",
       "      <td>10.295402</td>\n",
       "      <td>2.319069</td>\n",
       "      <td>0.971843</td>\n",
       "      <td>3.003617</td>\n",
       "      <td>0.903712</td>\n",
       "      <td>39.431659</td>\n",
       "      <td>...</td>\n",
       "      <td>5.657723</td>\n",
       "      <td>50.736021</td>\n",
       "      <td>5.255655</td>\n",
       "      <td>58.843586</td>\n",
       "      <td>5.831906</td>\n",
       "      <td>37.892788</td>\n",
       "      <td>5.765617</td>\n",
       "      <td>39.207913</td>\n",
       "      <td>5.764417</td>\n",
       "      <td>37.079249</td>\n",
       "    </tr>\n",
       "    <tr>\n",
       "      <th>min</th>\n",
       "      <td>0.000000</td>\n",
       "      <td>0.000000</td>\n",
       "      <td>0.000000</td>\n",
       "      <td>0.000000</td>\n",
       "      <td>0.000000</td>\n",
       "      <td>0.000000</td>\n",
       "      <td>0.000000</td>\n",
       "      <td>0.000000</td>\n",
       "      <td>0.000000</td>\n",
       "      <td>0.003112</td>\n",
       "      <td>...</td>\n",
       "      <td>0.000000</td>\n",
       "      <td>-799.709069</td>\n",
       "      <td>0.000000</td>\n",
       "      <td>-799.889113</td>\n",
       "      <td>-0.372054</td>\n",
       "      <td>-797.142475</td>\n",
       "      <td>0.646208</td>\n",
       "      <td>-800.006180</td>\n",
       "      <td>0.195324</td>\n",
       "      <td>-809.398668</td>\n",
       "    </tr>\n",
       "    <tr>\n",
       "      <th>25%</th>\n",
       "      <td>4.211620</td>\n",
       "      <td>9.297355</td>\n",
       "      <td>7.484645</td>\n",
       "      <td>43.276111</td>\n",
       "      <td>62.545817</td>\n",
       "      <td>7.997429</td>\n",
       "      <td>1.905973</td>\n",
       "      <td>8.811324</td>\n",
       "      <td>2.368607</td>\n",
       "      <td>107.006651</td>\n",
       "      <td>...</td>\n",
       "      <td>14.990775</td>\n",
       "      <td>-500.628656</td>\n",
       "      <td>11.894558</td>\n",
       "      <td>-500.149000</td>\n",
       "      <td>11.083980</td>\n",
       "      <td>-500.363177</td>\n",
       "      <td>8.994405</td>\n",
       "      <td>-500.105994</td>\n",
       "      <td>14.989304</td>\n",
       "      <td>-500.745104</td>\n",
       "    </tr>\n",
       "    <tr>\n",
       "      <th>50%</th>\n",
       "      <td>4.994652</td>\n",
       "      <td>10.297144</td>\n",
       "      <td>8.845462</td>\n",
       "      <td>44.872436</td>\n",
       "      <td>67.432775</td>\n",
       "      <td>9.480270</td>\n",
       "      <td>2.592022</td>\n",
       "      <td>10.514621</td>\n",
       "      <td>2.851025</td>\n",
       "      <td>133.018328</td>\n",
       "      <td>...</td>\n",
       "      <td>20.001789</td>\n",
       "      <td>-499.681450</td>\n",
       "      <td>14.975536</td>\n",
       "      <td>-499.388738</td>\n",
       "      <td>17.932223</td>\n",
       "      <td>-499.702452</td>\n",
       "      <td>11.997547</td>\n",
       "      <td>-499.914556</td>\n",
       "      <td>19.984175</td>\n",
       "      <td>-500.061431</td>\n",
       "    </tr>\n",
       "    <tr>\n",
       "      <th>75%</th>\n",
       "      <td>5.859540</td>\n",
       "      <td>11.170603</td>\n",
       "      <td>10.487508</td>\n",
       "      <td>46.166425</td>\n",
       "      <td>72.346428</td>\n",
       "      <td>11.003707</td>\n",
       "      <td>3.241723</td>\n",
       "      <td>11.933009</td>\n",
       "      <td>3.434764</td>\n",
       "      <td>159.825396</td>\n",
       "      <td>...</td>\n",
       "      <td>24.990826</td>\n",
       "      <td>-477.472413</td>\n",
       "      <td>20.059375</td>\n",
       "      <td>-400.039008</td>\n",
       "      <td>21.346550</td>\n",
       "      <td>-487.712108</td>\n",
       "      <td>17.982903</td>\n",
       "      <td>-453.186936</td>\n",
       "      <td>24.991623</td>\n",
       "      <td>-499.536466</td>\n",
       "    </tr>\n",
       "    <tr>\n",
       "      <th>max</th>\n",
       "      <td>16.001945</td>\n",
       "      <td>17.031899</td>\n",
       "      <td>18.124851</td>\n",
       "      <td>52.756638</td>\n",
       "      <td>100.000000</td>\n",
       "      <td>19.552149</td>\n",
       "      <td>5.639565</td>\n",
       "      <td>22.317730</td>\n",
       "      <td>8.197408</td>\n",
       "      <td>250.127834</td>\n",
       "      <td>...</td>\n",
       "      <td>30.115735</td>\n",
       "      <td>-245.239184</td>\n",
       "      <td>24.007913</td>\n",
       "      <td>-145.071088</td>\n",
       "      <td>43.709931</td>\n",
       "      <td>-275.073125</td>\n",
       "      <td>27.926001</td>\n",
       "      <td>-157.396071</td>\n",
       "      <td>32.188906</td>\n",
       "      <td>-104.427459</td>\n",
       "    </tr>\n",
       "  </tbody>\n",
       "</table>\n",
       "<p>8 rows × 86 columns</p>\n",
       "</div>"
      ],
      "text/plain": [
       "       final.output.concentrate_ag  final.output.concentrate_pb  \\\n",
       "count                 14148.000000                 14148.000000   \n",
       "mean                      5.142034                    10.132960   \n",
       "std                       1.369586                     1.654930   \n",
       "min                       0.000000                     0.000000   \n",
       "25%                       4.211620                     9.297355   \n",
       "50%                       4.994652                    10.297144   \n",
       "75%                       5.859540                    11.170603   \n",
       "max                      16.001945                    17.031899   \n",
       "\n",
       "       final.output.concentrate_sol  final.output.concentrate_au  \\\n",
       "count                  13938.000000                 14149.000000   \n",
       "mean                       9.202849                    44.003792   \n",
       "std                        2.790516                     4.905261   \n",
       "min                        0.000000                     0.000000   \n",
       "25%                        7.484645                    43.276111   \n",
       "50%                        8.845462                    44.872436   \n",
       "75%                       10.487508                    46.166425   \n",
       "max                       18.124851                    52.756638   \n",
       "\n",
       "       final.output.recovery  final.output.tail_ag  final.output.tail_pb  \\\n",
       "count           14149.000000          14149.000000          14049.000000   \n",
       "mean               66.518832              9.607035              2.597298   \n",
       "std                10.295402              2.319069              0.971843   \n",
       "min                 0.000000              0.000000              0.000000   \n",
       "25%                62.545817              7.997429              1.905973   \n",
       "50%                67.432775              9.480270              2.592022   \n",
       "75%                72.346428             11.003707              3.241723   \n",
       "max               100.000000             19.552149              5.639565   \n",
       "\n",
       "       final.output.tail_sol  final.output.tail_au  \\\n",
       "count           14144.000000          14149.000000   \n",
       "mean               10.512122              2.918421   \n",
       "std                 3.003617              0.903712   \n",
       "min                 0.000000              0.000000   \n",
       "25%                 8.811324              2.368607   \n",
       "50%                10.514621              2.851025   \n",
       "75%                11.933009              3.434764   \n",
       "max                22.317730              8.197408   \n",
       "\n",
       "       primary_cleaner.input.sulfate  ...  \\\n",
       "count                   14129.000000  ...   \n",
       "mean                      133.320659  ...   \n",
       "std                        39.431659  ...   \n",
       "min                         0.003112  ...   \n",
       "25%                       107.006651  ...   \n",
       "50%                       133.018328  ...   \n",
       "75%                       159.825396  ...   \n",
       "max                       250.127834  ...   \n",
       "\n",
       "       secondary_cleaner.state.floatbank4_a_air  \\\n",
       "count                              14143.000000   \n",
       "mean                                  19.985454   \n",
       "std                                    5.657723   \n",
       "min                                    0.000000   \n",
       "25%                                   14.990775   \n",
       "50%                                   20.001789   \n",
       "75%                                   24.990826   \n",
       "max                                   30.115735   \n",
       "\n",
       "       secondary_cleaner.state.floatbank4_a_level  \\\n",
       "count                                14148.000000   \n",
       "mean                                  -478.696836   \n",
       "std                                     50.736021   \n",
       "min                                   -799.709069   \n",
       "25%                                   -500.628656   \n",
       "50%                                   -499.681450   \n",
       "75%                                   -477.472413   \n",
       "max                                   -245.239184   \n",
       "\n",
       "       secondary_cleaner.state.floatbank4_b_air  \\\n",
       "count                              14148.000000   \n",
       "mean                                  15.487065   \n",
       "std                                    5.255655   \n",
       "min                                    0.000000   \n",
       "25%                                   11.894558   \n",
       "50%                                   14.975536   \n",
       "75%                                   20.059375   \n",
       "max                                   24.007913   \n",
       "\n",
       "       secondary_cleaner.state.floatbank4_b_level  \\\n",
       "count                                14148.000000   \n",
       "mean                                  -460.229416   \n",
       "std                                     58.843586   \n",
       "min                                   -799.889113   \n",
       "25%                                   -500.149000   \n",
       "50%                                   -499.388738   \n",
       "75%                                   -400.039008   \n",
       "max                                   -145.071088   \n",
       "\n",
       "       secondary_cleaner.state.floatbank5_a_air  \\\n",
       "count                              14148.000000   \n",
       "mean                                  16.775136   \n",
       "std                                    5.831906   \n",
       "min                                   -0.372054   \n",
       "25%                                   11.083980   \n",
       "50%                                   17.932223   \n",
       "75%                                   21.346550   \n",
       "max                                   43.709931   \n",
       "\n",
       "       secondary_cleaner.state.floatbank5_a_level  \\\n",
       "count                                14148.000000   \n",
       "mean                                  -483.956022   \n",
       "std                                     37.892788   \n",
       "min                                   -797.142475   \n",
       "25%                                   -500.363177   \n",
       "50%                                   -499.702452   \n",
       "75%                                   -487.712108   \n",
       "max                                   -275.073125   \n",
       "\n",
       "       secondary_cleaner.state.floatbank5_b_air  \\\n",
       "count                              14148.000000   \n",
       "mean                                  13.064590   \n",
       "std                                    5.765617   \n",
       "min                                    0.646208   \n",
       "25%                                    8.994405   \n",
       "50%                                   11.997547   \n",
       "75%                                   17.982903   \n",
       "max                                   27.926001   \n",
       "\n",
       "       secondary_cleaner.state.floatbank5_b_level  \\\n",
       "count                                14148.000000   \n",
       "mean                                  -483.966564   \n",
       "std                                     39.207913   \n",
       "min                                   -800.006180   \n",
       "25%                                   -500.105994   \n",
       "50%                                   -499.914556   \n",
       "75%                                   -453.186936   \n",
       "max                                   -157.396071   \n",
       "\n",
       "       secondary_cleaner.state.floatbank6_a_air  \\\n",
       "count                              14147.000000   \n",
       "mean                                  19.577539   \n",
       "std                                    5.764417   \n",
       "min                                    0.195324   \n",
       "25%                                   14.989304   \n",
       "50%                                   19.984175   \n",
       "75%                                   24.991623   \n",
       "max                                   32.188906   \n",
       "\n",
       "       secondary_cleaner.state.floatbank6_a_level  \n",
       "count                                14148.000000  \n",
       "mean                                  -506.798480  \n",
       "std                                     37.079249  \n",
       "min                                   -809.398668  \n",
       "25%                                   -500.745104  \n",
       "50%                                   -500.061431  \n",
       "75%                                   -499.536466  \n",
       "max                                   -104.427459  \n",
       "\n",
       "[8 rows x 86 columns]"
      ]
     },
     "metadata": {},
     "output_type": "display_data"
    },
    {
     "data": {
      "text/html": [
       "<div>\n",
       "<style scoped>\n",
       "    .dataframe tbody tr th:only-of-type {\n",
       "        vertical-align: middle;\n",
       "    }\n",
       "\n",
       "    .dataframe tbody tr th {\n",
       "        vertical-align: top;\n",
       "    }\n",
       "\n",
       "    .dataframe thead th {\n",
       "        text-align: right;\n",
       "    }\n",
       "</style>\n",
       "<table border=\"1\" class=\"dataframe\">\n",
       "  <thead>\n",
       "    <tr style=\"text-align: right;\">\n",
       "      <th></th>\n",
       "      <th>date</th>\n",
       "      <th>primary_cleaner.input.sulfate</th>\n",
       "      <th>primary_cleaner.input.depressant</th>\n",
       "      <th>primary_cleaner.input.feed_size</th>\n",
       "      <th>primary_cleaner.input.xanthate</th>\n",
       "      <th>primary_cleaner.state.floatbank8_a_air</th>\n",
       "      <th>primary_cleaner.state.floatbank8_a_level</th>\n",
       "      <th>primary_cleaner.state.floatbank8_b_air</th>\n",
       "      <th>primary_cleaner.state.floatbank8_b_level</th>\n",
       "      <th>primary_cleaner.state.floatbank8_c_air</th>\n",
       "      <th>...</th>\n",
       "      <th>secondary_cleaner.state.floatbank4_a_air</th>\n",
       "      <th>secondary_cleaner.state.floatbank4_a_level</th>\n",
       "      <th>secondary_cleaner.state.floatbank4_b_air</th>\n",
       "      <th>secondary_cleaner.state.floatbank4_b_level</th>\n",
       "      <th>secondary_cleaner.state.floatbank5_a_air</th>\n",
       "      <th>secondary_cleaner.state.floatbank5_a_level</th>\n",
       "      <th>secondary_cleaner.state.floatbank5_b_air</th>\n",
       "      <th>secondary_cleaner.state.floatbank5_b_level</th>\n",
       "      <th>secondary_cleaner.state.floatbank6_a_air</th>\n",
       "      <th>secondary_cleaner.state.floatbank6_a_level</th>\n",
       "    </tr>\n",
       "  </thead>\n",
       "  <tbody>\n",
       "    <tr>\n",
       "      <th>0</th>\n",
       "      <td>2016-09-01 00:59:59</td>\n",
       "      <td>210.800909</td>\n",
       "      <td>14.993118</td>\n",
       "      <td>8.080000</td>\n",
       "      <td>1.005021</td>\n",
       "      <td>1398.981301</td>\n",
       "      <td>-500.225577</td>\n",
       "      <td>1399.144926</td>\n",
       "      <td>-499.919735</td>\n",
       "      <td>1400.102998</td>\n",
       "      <td>...</td>\n",
       "      <td>12.023554</td>\n",
       "      <td>-497.795834</td>\n",
       "      <td>8.016656</td>\n",
       "      <td>-501.289139</td>\n",
       "      <td>7.946562</td>\n",
       "      <td>-432.317850</td>\n",
       "      <td>4.872511</td>\n",
       "      <td>-500.037437</td>\n",
       "      <td>26.705889</td>\n",
       "      <td>-499.709414</td>\n",
       "    </tr>\n",
       "    <tr>\n",
       "      <th>1</th>\n",
       "      <td>2016-09-01 01:59:59</td>\n",
       "      <td>215.392455</td>\n",
       "      <td>14.987471</td>\n",
       "      <td>8.080000</td>\n",
       "      <td>0.990469</td>\n",
       "      <td>1398.777912</td>\n",
       "      <td>-500.057435</td>\n",
       "      <td>1398.055362</td>\n",
       "      <td>-499.778182</td>\n",
       "      <td>1396.151033</td>\n",
       "      <td>...</td>\n",
       "      <td>12.058140</td>\n",
       "      <td>-498.695773</td>\n",
       "      <td>8.130979</td>\n",
       "      <td>-499.634209</td>\n",
       "      <td>7.958270</td>\n",
       "      <td>-525.839648</td>\n",
       "      <td>4.878850</td>\n",
       "      <td>-500.162375</td>\n",
       "      <td>25.019940</td>\n",
       "      <td>-499.819438</td>\n",
       "    </tr>\n",
       "    <tr>\n",
       "      <th>2</th>\n",
       "      <td>2016-09-01 02:59:59</td>\n",
       "      <td>215.259946</td>\n",
       "      <td>12.884934</td>\n",
       "      <td>7.786667</td>\n",
       "      <td>0.996043</td>\n",
       "      <td>1398.493666</td>\n",
       "      <td>-500.868360</td>\n",
       "      <td>1398.860436</td>\n",
       "      <td>-499.764529</td>\n",
       "      <td>1398.075709</td>\n",
       "      <td>...</td>\n",
       "      <td>11.962366</td>\n",
       "      <td>-498.767484</td>\n",
       "      <td>8.096893</td>\n",
       "      <td>-500.827423</td>\n",
       "      <td>8.071056</td>\n",
       "      <td>-500.801673</td>\n",
       "      <td>4.905125</td>\n",
       "      <td>-499.828510</td>\n",
       "      <td>24.994862</td>\n",
       "      <td>-500.622559</td>\n",
       "    </tr>\n",
       "    <tr>\n",
       "      <th>3</th>\n",
       "      <td>2016-09-01 03:59:59</td>\n",
       "      <td>215.336236</td>\n",
       "      <td>12.006805</td>\n",
       "      <td>7.640000</td>\n",
       "      <td>0.863514</td>\n",
       "      <td>1399.618111</td>\n",
       "      <td>-498.863574</td>\n",
       "      <td>1397.440120</td>\n",
       "      <td>-499.211024</td>\n",
       "      <td>1400.129303</td>\n",
       "      <td>...</td>\n",
       "      <td>12.033091</td>\n",
       "      <td>-498.350935</td>\n",
       "      <td>8.074946</td>\n",
       "      <td>-499.474407</td>\n",
       "      <td>7.897085</td>\n",
       "      <td>-500.868509</td>\n",
       "      <td>4.931400</td>\n",
       "      <td>-499.963623</td>\n",
       "      <td>24.948919</td>\n",
       "      <td>-498.709987</td>\n",
       "    </tr>\n",
       "    <tr>\n",
       "      <th>4</th>\n",
       "      <td>2016-09-01 04:59:59</td>\n",
       "      <td>199.099327</td>\n",
       "      <td>10.682530</td>\n",
       "      <td>7.530000</td>\n",
       "      <td>0.805575</td>\n",
       "      <td>1401.268123</td>\n",
       "      <td>-500.808305</td>\n",
       "      <td>1398.128818</td>\n",
       "      <td>-499.504543</td>\n",
       "      <td>1402.172226</td>\n",
       "      <td>...</td>\n",
       "      <td>12.025367</td>\n",
       "      <td>-500.786497</td>\n",
       "      <td>8.054678</td>\n",
       "      <td>-500.397500</td>\n",
       "      <td>8.107890</td>\n",
       "      <td>-509.526725</td>\n",
       "      <td>4.957674</td>\n",
       "      <td>-500.360026</td>\n",
       "      <td>25.003331</td>\n",
       "      <td>-500.856333</td>\n",
       "    </tr>\n",
       "  </tbody>\n",
       "</table>\n",
       "<p>5 rows × 53 columns</p>\n",
       "</div>"
      ],
      "text/plain": [
       "                  date  primary_cleaner.input.sulfate  \\\n",
       "0  2016-09-01 00:59:59                     210.800909   \n",
       "1  2016-09-01 01:59:59                     215.392455   \n",
       "2  2016-09-01 02:59:59                     215.259946   \n",
       "3  2016-09-01 03:59:59                     215.336236   \n",
       "4  2016-09-01 04:59:59                     199.099327   \n",
       "\n",
       "   primary_cleaner.input.depressant  primary_cleaner.input.feed_size  \\\n",
       "0                         14.993118                         8.080000   \n",
       "1                         14.987471                         8.080000   \n",
       "2                         12.884934                         7.786667   \n",
       "3                         12.006805                         7.640000   \n",
       "4                         10.682530                         7.530000   \n",
       "\n",
       "   primary_cleaner.input.xanthate  primary_cleaner.state.floatbank8_a_air  \\\n",
       "0                        1.005021                             1398.981301   \n",
       "1                        0.990469                             1398.777912   \n",
       "2                        0.996043                             1398.493666   \n",
       "3                        0.863514                             1399.618111   \n",
       "4                        0.805575                             1401.268123   \n",
       "\n",
       "   primary_cleaner.state.floatbank8_a_level  \\\n",
       "0                               -500.225577   \n",
       "1                               -500.057435   \n",
       "2                               -500.868360   \n",
       "3                               -498.863574   \n",
       "4                               -500.808305   \n",
       "\n",
       "   primary_cleaner.state.floatbank8_b_air  \\\n",
       "0                             1399.144926   \n",
       "1                             1398.055362   \n",
       "2                             1398.860436   \n",
       "3                             1397.440120   \n",
       "4                             1398.128818   \n",
       "\n",
       "   primary_cleaner.state.floatbank8_b_level  \\\n",
       "0                               -499.919735   \n",
       "1                               -499.778182   \n",
       "2                               -499.764529   \n",
       "3                               -499.211024   \n",
       "4                               -499.504543   \n",
       "\n",
       "   primary_cleaner.state.floatbank8_c_air  ...  \\\n",
       "0                             1400.102998  ...   \n",
       "1                             1396.151033  ...   \n",
       "2                             1398.075709  ...   \n",
       "3                             1400.129303  ...   \n",
       "4                             1402.172226  ...   \n",
       "\n",
       "   secondary_cleaner.state.floatbank4_a_air  \\\n",
       "0                                 12.023554   \n",
       "1                                 12.058140   \n",
       "2                                 11.962366   \n",
       "3                                 12.033091   \n",
       "4                                 12.025367   \n",
       "\n",
       "   secondary_cleaner.state.floatbank4_a_level  \\\n",
       "0                                 -497.795834   \n",
       "1                                 -498.695773   \n",
       "2                                 -498.767484   \n",
       "3                                 -498.350935   \n",
       "4                                 -500.786497   \n",
       "\n",
       "   secondary_cleaner.state.floatbank4_b_air  \\\n",
       "0                                  8.016656   \n",
       "1                                  8.130979   \n",
       "2                                  8.096893   \n",
       "3                                  8.074946   \n",
       "4                                  8.054678   \n",
       "\n",
       "   secondary_cleaner.state.floatbank4_b_level  \\\n",
       "0                                 -501.289139   \n",
       "1                                 -499.634209   \n",
       "2                                 -500.827423   \n",
       "3                                 -499.474407   \n",
       "4                                 -500.397500   \n",
       "\n",
       "   secondary_cleaner.state.floatbank5_a_air  \\\n",
       "0                                  7.946562   \n",
       "1                                  7.958270   \n",
       "2                                  8.071056   \n",
       "3                                  7.897085   \n",
       "4                                  8.107890   \n",
       "\n",
       "   secondary_cleaner.state.floatbank5_a_level  \\\n",
       "0                                 -432.317850   \n",
       "1                                 -525.839648   \n",
       "2                                 -500.801673   \n",
       "3                                 -500.868509   \n",
       "4                                 -509.526725   \n",
       "\n",
       "   secondary_cleaner.state.floatbank5_b_air  \\\n",
       "0                                  4.872511   \n",
       "1                                  4.878850   \n",
       "2                                  4.905125   \n",
       "3                                  4.931400   \n",
       "4                                  4.957674   \n",
       "\n",
       "   secondary_cleaner.state.floatbank5_b_level  \\\n",
       "0                                 -500.037437   \n",
       "1                                 -500.162375   \n",
       "2                                 -499.828510   \n",
       "3                                 -499.963623   \n",
       "4                                 -500.360026   \n",
       "\n",
       "   secondary_cleaner.state.floatbank6_a_air  \\\n",
       "0                                 26.705889   \n",
       "1                                 25.019940   \n",
       "2                                 24.994862   \n",
       "3                                 24.948919   \n",
       "4                                 25.003331   \n",
       "\n",
       "   secondary_cleaner.state.floatbank6_a_level  \n",
       "0                                 -499.709414  \n",
       "1                                 -499.819438  \n",
       "2                                 -500.622559  \n",
       "3                                 -498.709987  \n",
       "4                                 -500.856333  \n",
       "\n",
       "[5 rows x 53 columns]"
      ]
     },
     "metadata": {},
     "output_type": "display_data"
    },
    {
     "name": "stdout",
     "output_type": "stream",
     "text": [
      "<class 'pandas.core.frame.DataFrame'>\n",
      "RangeIndex: 5290 entries, 0 to 5289\n",
      "Data columns (total 53 columns):\n",
      " #   Column                                      Non-Null Count  Dtype  \n",
      "---  ------                                      --------------  -----  \n",
      " 0   date                                        5290 non-null   object \n",
      " 1   primary_cleaner.input.sulfate               5286 non-null   float64\n",
      " 2   primary_cleaner.input.depressant            5285 non-null   float64\n",
      " 3   primary_cleaner.input.feed_size             5290 non-null   float64\n",
      " 4   primary_cleaner.input.xanthate              5286 non-null   float64\n",
      " 5   primary_cleaner.state.floatbank8_a_air      5290 non-null   float64\n",
      " 6   primary_cleaner.state.floatbank8_a_level    5290 non-null   float64\n",
      " 7   primary_cleaner.state.floatbank8_b_air      5290 non-null   float64\n",
      " 8   primary_cleaner.state.floatbank8_b_level    5290 non-null   float64\n",
      " 9   primary_cleaner.state.floatbank8_c_air      5290 non-null   float64\n",
      " 10  primary_cleaner.state.floatbank8_c_level    5290 non-null   float64\n",
      " 11  primary_cleaner.state.floatbank8_d_air      5290 non-null   float64\n",
      " 12  primary_cleaner.state.floatbank8_d_level    5290 non-null   float64\n",
      " 13  rougher.input.feed_ag                       5290 non-null   float64\n",
      " 14  rougher.input.feed_pb                       5290 non-null   float64\n",
      " 15  rougher.input.feed_rate                     5287 non-null   float64\n",
      " 16  rougher.input.feed_size                     5289 non-null   float64\n",
      " 17  rougher.input.feed_sol                      5269 non-null   float64\n",
      " 18  rougher.input.feed_au                       5290 non-null   float64\n",
      " 19  rougher.input.floatbank10_sulfate           5285 non-null   float64\n",
      " 20  rougher.input.floatbank10_xanthate          5290 non-null   float64\n",
      " 21  rougher.input.floatbank11_sulfate           5282 non-null   float64\n",
      " 22  rougher.input.floatbank11_xanthate          5265 non-null   float64\n",
      " 23  rougher.state.floatbank10_a_air             5290 non-null   float64\n",
      " 24  rougher.state.floatbank10_a_level           5290 non-null   float64\n",
      " 25  rougher.state.floatbank10_b_air             5290 non-null   float64\n",
      " 26  rougher.state.floatbank10_b_level           5290 non-null   float64\n",
      " 27  rougher.state.floatbank10_c_air             5290 non-null   float64\n",
      " 28  rougher.state.floatbank10_c_level           5290 non-null   float64\n",
      " 29  rougher.state.floatbank10_d_air             5290 non-null   float64\n",
      " 30  rougher.state.floatbank10_d_level           5290 non-null   float64\n",
      " 31  rougher.state.floatbank10_e_air             5290 non-null   float64\n",
      " 32  rougher.state.floatbank10_e_level           5290 non-null   float64\n",
      " 33  rougher.state.floatbank10_f_air             5290 non-null   float64\n",
      " 34  rougher.state.floatbank10_f_level           5290 non-null   float64\n",
      " 35  secondary_cleaner.state.floatbank2_a_air    5287 non-null   float64\n",
      " 36  secondary_cleaner.state.floatbank2_a_level  5290 non-null   float64\n",
      " 37  secondary_cleaner.state.floatbank2_b_air    5288 non-null   float64\n",
      " 38  secondary_cleaner.state.floatbank2_b_level  5290 non-null   float64\n",
      " 39  secondary_cleaner.state.floatbank3_a_air    5281 non-null   float64\n",
      " 40  secondary_cleaner.state.floatbank3_a_level  5290 non-null   float64\n",
      " 41  secondary_cleaner.state.floatbank3_b_air    5290 non-null   float64\n",
      " 42  secondary_cleaner.state.floatbank3_b_level  5290 non-null   float64\n",
      " 43  secondary_cleaner.state.floatbank4_a_air    5290 non-null   float64\n",
      " 44  secondary_cleaner.state.floatbank4_a_level  5290 non-null   float64\n",
      " 45  secondary_cleaner.state.floatbank4_b_air    5290 non-null   float64\n",
      " 46  secondary_cleaner.state.floatbank4_b_level  5290 non-null   float64\n",
      " 47  secondary_cleaner.state.floatbank5_a_air    5290 non-null   float64\n",
      " 48  secondary_cleaner.state.floatbank5_a_level  5290 non-null   float64\n",
      " 49  secondary_cleaner.state.floatbank5_b_air    5290 non-null   float64\n",
      " 50  secondary_cleaner.state.floatbank5_b_level  5290 non-null   float64\n",
      " 51  secondary_cleaner.state.floatbank6_a_air    5290 non-null   float64\n",
      " 52  secondary_cleaner.state.floatbank6_a_level  5290 non-null   float64\n",
      "dtypes: float64(52), object(1)\n",
      "memory usage: 2.1+ MB\n"
     ]
    },
    {
     "data": {
      "text/html": [
       "<div>\n",
       "<style scoped>\n",
       "    .dataframe tbody tr th:only-of-type {\n",
       "        vertical-align: middle;\n",
       "    }\n",
       "\n",
       "    .dataframe tbody tr th {\n",
       "        vertical-align: top;\n",
       "    }\n",
       "\n",
       "    .dataframe thead th {\n",
       "        text-align: right;\n",
       "    }\n",
       "</style>\n",
       "<table border=\"1\" class=\"dataframe\">\n",
       "  <thead>\n",
       "    <tr style=\"text-align: right;\">\n",
       "      <th></th>\n",
       "      <th>primary_cleaner.input.sulfate</th>\n",
       "      <th>primary_cleaner.input.depressant</th>\n",
       "      <th>primary_cleaner.input.feed_size</th>\n",
       "      <th>primary_cleaner.input.xanthate</th>\n",
       "      <th>primary_cleaner.state.floatbank8_a_air</th>\n",
       "      <th>primary_cleaner.state.floatbank8_a_level</th>\n",
       "      <th>primary_cleaner.state.floatbank8_b_air</th>\n",
       "      <th>primary_cleaner.state.floatbank8_b_level</th>\n",
       "      <th>primary_cleaner.state.floatbank8_c_air</th>\n",
       "      <th>primary_cleaner.state.floatbank8_c_level</th>\n",
       "      <th>...</th>\n",
       "      <th>secondary_cleaner.state.floatbank4_a_air</th>\n",
       "      <th>secondary_cleaner.state.floatbank4_a_level</th>\n",
       "      <th>secondary_cleaner.state.floatbank4_b_air</th>\n",
       "      <th>secondary_cleaner.state.floatbank4_b_level</th>\n",
       "      <th>secondary_cleaner.state.floatbank5_a_air</th>\n",
       "      <th>secondary_cleaner.state.floatbank5_a_level</th>\n",
       "      <th>secondary_cleaner.state.floatbank5_b_air</th>\n",
       "      <th>secondary_cleaner.state.floatbank5_b_level</th>\n",
       "      <th>secondary_cleaner.state.floatbank6_a_air</th>\n",
       "      <th>secondary_cleaner.state.floatbank6_a_level</th>\n",
       "    </tr>\n",
       "  </thead>\n",
       "  <tbody>\n",
       "    <tr>\n",
       "      <th>count</th>\n",
       "      <td>5286.000000</td>\n",
       "      <td>5285.000000</td>\n",
       "      <td>5290.000000</td>\n",
       "      <td>5286.000000</td>\n",
       "      <td>5.290000e+03</td>\n",
       "      <td>5290.000000</td>\n",
       "      <td>5.290000e+03</td>\n",
       "      <td>5290.000000</td>\n",
       "      <td>5.290000e+03</td>\n",
       "      <td>5290.000000</td>\n",
       "      <td>...</td>\n",
       "      <td>5.290000e+03</td>\n",
       "      <td>5290.000000</td>\n",
       "      <td>5.290000e+03</td>\n",
       "      <td>5290.000000</td>\n",
       "      <td>5290.000000</td>\n",
       "      <td>5290.000000</td>\n",
       "      <td>5290.000000</td>\n",
       "      <td>5290.000000</td>\n",
       "      <td>5290.000000</td>\n",
       "      <td>5290.000000</td>\n",
       "    </tr>\n",
       "    <tr>\n",
       "      <th>mean</th>\n",
       "      <td>174.839652</td>\n",
       "      <td>8.683596</td>\n",
       "      <td>7.266339</td>\n",
       "      <td>1.383803</td>\n",
       "      <td>1.539494e+03</td>\n",
       "      <td>-497.665883</td>\n",
       "      <td>1.545174e+03</td>\n",
       "      <td>-500.273098</td>\n",
       "      <td>1.527272e+03</td>\n",
       "      <td>-498.330680</td>\n",
       "      <td>...</td>\n",
       "      <td>1.632007e+01</td>\n",
       "      <td>-505.144570</td>\n",
       "      <td>1.373544e+01</td>\n",
       "      <td>-463.349858</td>\n",
       "      <td>12.804186</td>\n",
       "      <td>-501.329122</td>\n",
       "      <td>9.881145</td>\n",
       "      <td>-495.663398</td>\n",
       "      <td>17.304935</td>\n",
       "      <td>-501.793193</td>\n",
       "    </tr>\n",
       "    <tr>\n",
       "      <th>std</th>\n",
       "      <td>43.027080</td>\n",
       "      <td>3.072050</td>\n",
       "      <td>0.610219</td>\n",
       "      <td>0.643474</td>\n",
       "      <td>1.167979e+02</td>\n",
       "      <td>19.952431</td>\n",
       "      <td>1.222246e+02</td>\n",
       "      <td>32.968307</td>\n",
       "      <td>1.225380e+02</td>\n",
       "      <td>21.964876</td>\n",
       "      <td>...</td>\n",
       "      <td>3.493583e+00</td>\n",
       "      <td>31.427337</td>\n",
       "      <td>3.430484e+00</td>\n",
       "      <td>86.189107</td>\n",
       "      <td>3.026591</td>\n",
       "      <td>17.951495</td>\n",
       "      <td>2.868205</td>\n",
       "      <td>34.535007</td>\n",
       "      <td>4.536544</td>\n",
       "      <td>39.044215</td>\n",
       "    </tr>\n",
       "    <tr>\n",
       "      <th>min</th>\n",
       "      <td>2.566156</td>\n",
       "      <td>0.003839</td>\n",
       "      <td>5.650000</td>\n",
       "      <td>0.004984</td>\n",
       "      <td>5.445860e-32</td>\n",
       "      <td>-795.316337</td>\n",
       "      <td>6.647490e-32</td>\n",
       "      <td>-799.997015</td>\n",
       "      <td>4.033736e-32</td>\n",
       "      <td>-799.960571</td>\n",
       "      <td>...</td>\n",
       "      <td>1.079872e-16</td>\n",
       "      <td>-799.798523</td>\n",
       "      <td>2.489718e-17</td>\n",
       "      <td>-800.836914</td>\n",
       "      <td>0.069227</td>\n",
       "      <td>-797.323986</td>\n",
       "      <td>0.528083</td>\n",
       "      <td>-800.220337</td>\n",
       "      <td>-0.079426</td>\n",
       "      <td>-809.741464</td>\n",
       "    </tr>\n",
       "    <tr>\n",
       "      <th>25%</th>\n",
       "      <td>147.121401</td>\n",
       "      <td>6.489555</td>\n",
       "      <td>6.890000</td>\n",
       "      <td>0.907623</td>\n",
       "      <td>1.498936e+03</td>\n",
       "      <td>-500.357298</td>\n",
       "      <td>1.498971e+03</td>\n",
       "      <td>-500.703002</td>\n",
       "      <td>1.473230e+03</td>\n",
       "      <td>-501.018117</td>\n",
       "      <td>...</td>\n",
       "      <td>1.403618e+01</td>\n",
       "      <td>-500.868258</td>\n",
       "      <td>1.202862e+01</td>\n",
       "      <td>-500.323028</td>\n",
       "      <td>10.914838</td>\n",
       "      <td>-500.726841</td>\n",
       "      <td>8.036719</td>\n",
       "      <td>-500.194668</td>\n",
       "      <td>13.997317</td>\n",
       "      <td>-500.690984</td>\n",
       "    </tr>\n",
       "    <tr>\n",
       "      <th>50%</th>\n",
       "      <td>177.828489</td>\n",
       "      <td>8.052207</td>\n",
       "      <td>7.250000</td>\n",
       "      <td>1.197610</td>\n",
       "      <td>1.585129e+03</td>\n",
       "      <td>-499.969164</td>\n",
       "      <td>1.595622e+03</td>\n",
       "      <td>-500.028514</td>\n",
       "      <td>1.549595e+03</td>\n",
       "      <td>-500.017711</td>\n",
       "      <td>...</td>\n",
       "      <td>1.700847e+01</td>\n",
       "      <td>-500.115727</td>\n",
       "      <td>1.496486e+01</td>\n",
       "      <td>-499.576513</td>\n",
       "      <td>12.954182</td>\n",
       "      <td>-499.990332</td>\n",
       "      <td>10.004301</td>\n",
       "      <td>-499.990535</td>\n",
       "      <td>16.014935</td>\n",
       "      <td>-500.007126</td>\n",
       "    </tr>\n",
       "    <tr>\n",
       "      <th>75%</th>\n",
       "      <td>208.125438</td>\n",
       "      <td>10.027764</td>\n",
       "      <td>7.600000</td>\n",
       "      <td>1.797819</td>\n",
       "      <td>1.602077e+03</td>\n",
       "      <td>-499.568951</td>\n",
       "      <td>1.602324e+03</td>\n",
       "      <td>-499.293257</td>\n",
       "      <td>1.601144e+03</td>\n",
       "      <td>-498.994130</td>\n",
       "      <td>...</td>\n",
       "      <td>1.803862e+01</td>\n",
       "      <td>-499.404224</td>\n",
       "      <td>1.596213e+01</td>\n",
       "      <td>-400.933805</td>\n",
       "      <td>15.097528</td>\n",
       "      <td>-499.283191</td>\n",
       "      <td>11.997467</td>\n",
       "      <td>-499.719913</td>\n",
       "      <td>21.020013</td>\n",
       "      <td>-499.373018</td>\n",
       "    </tr>\n",
       "    <tr>\n",
       "      <th>max</th>\n",
       "      <td>265.983123</td>\n",
       "      <td>40.000000</td>\n",
       "      <td>15.500000</td>\n",
       "      <td>4.102454</td>\n",
       "      <td>2.103104e+03</td>\n",
       "      <td>-57.195404</td>\n",
       "      <td>1.813084e+03</td>\n",
       "      <td>-142.527229</td>\n",
       "      <td>1.715054e+03</td>\n",
       "      <td>-150.937035</td>\n",
       "      <td>...</td>\n",
       "      <td>3.005180e+01</td>\n",
       "      <td>-401.565212</td>\n",
       "      <td>3.126971e+01</td>\n",
       "      <td>-6.506986</td>\n",
       "      <td>25.258848</td>\n",
       "      <td>-244.483566</td>\n",
       "      <td>14.086866</td>\n",
       "      <td>-137.740004</td>\n",
       "      <td>26.705889</td>\n",
       "      <td>-123.307487</td>\n",
       "    </tr>\n",
       "  </tbody>\n",
       "</table>\n",
       "<p>8 rows × 52 columns</p>\n",
       "</div>"
      ],
      "text/plain": [
       "       primary_cleaner.input.sulfate  primary_cleaner.input.depressant  \\\n",
       "count                    5286.000000                       5285.000000   \n",
       "mean                      174.839652                          8.683596   \n",
       "std                        43.027080                          3.072050   \n",
       "min                         2.566156                          0.003839   \n",
       "25%                       147.121401                          6.489555   \n",
       "50%                       177.828489                          8.052207   \n",
       "75%                       208.125438                         10.027764   \n",
       "max                       265.983123                         40.000000   \n",
       "\n",
       "       primary_cleaner.input.feed_size  primary_cleaner.input.xanthate  \\\n",
       "count                      5290.000000                     5286.000000   \n",
       "mean                          7.266339                        1.383803   \n",
       "std                           0.610219                        0.643474   \n",
       "min                           5.650000                        0.004984   \n",
       "25%                           6.890000                        0.907623   \n",
       "50%                           7.250000                        1.197610   \n",
       "75%                           7.600000                        1.797819   \n",
       "max                          15.500000                        4.102454   \n",
       "\n",
       "       primary_cleaner.state.floatbank8_a_air  \\\n",
       "count                            5.290000e+03   \n",
       "mean                             1.539494e+03   \n",
       "std                              1.167979e+02   \n",
       "min                              5.445860e-32   \n",
       "25%                              1.498936e+03   \n",
       "50%                              1.585129e+03   \n",
       "75%                              1.602077e+03   \n",
       "max                              2.103104e+03   \n",
       "\n",
       "       primary_cleaner.state.floatbank8_a_level  \\\n",
       "count                               5290.000000   \n",
       "mean                                -497.665883   \n",
       "std                                   19.952431   \n",
       "min                                 -795.316337   \n",
       "25%                                 -500.357298   \n",
       "50%                                 -499.969164   \n",
       "75%                                 -499.568951   \n",
       "max                                  -57.195404   \n",
       "\n",
       "       primary_cleaner.state.floatbank8_b_air  \\\n",
       "count                            5.290000e+03   \n",
       "mean                             1.545174e+03   \n",
       "std                              1.222246e+02   \n",
       "min                              6.647490e-32   \n",
       "25%                              1.498971e+03   \n",
       "50%                              1.595622e+03   \n",
       "75%                              1.602324e+03   \n",
       "max                              1.813084e+03   \n",
       "\n",
       "       primary_cleaner.state.floatbank8_b_level  \\\n",
       "count                               5290.000000   \n",
       "mean                                -500.273098   \n",
       "std                                   32.968307   \n",
       "min                                 -799.997015   \n",
       "25%                                 -500.703002   \n",
       "50%                                 -500.028514   \n",
       "75%                                 -499.293257   \n",
       "max                                 -142.527229   \n",
       "\n",
       "       primary_cleaner.state.floatbank8_c_air  \\\n",
       "count                            5.290000e+03   \n",
       "mean                             1.527272e+03   \n",
       "std                              1.225380e+02   \n",
       "min                              4.033736e-32   \n",
       "25%                              1.473230e+03   \n",
       "50%                              1.549595e+03   \n",
       "75%                              1.601144e+03   \n",
       "max                              1.715054e+03   \n",
       "\n",
       "       primary_cleaner.state.floatbank8_c_level  ...  \\\n",
       "count                               5290.000000  ...   \n",
       "mean                                -498.330680  ...   \n",
       "std                                   21.964876  ...   \n",
       "min                                 -799.960571  ...   \n",
       "25%                                 -501.018117  ...   \n",
       "50%                                 -500.017711  ...   \n",
       "75%                                 -498.994130  ...   \n",
       "max                                 -150.937035  ...   \n",
       "\n",
       "       secondary_cleaner.state.floatbank4_a_air  \\\n",
       "count                              5.290000e+03   \n",
       "mean                               1.632007e+01   \n",
       "std                                3.493583e+00   \n",
       "min                                1.079872e-16   \n",
       "25%                                1.403618e+01   \n",
       "50%                                1.700847e+01   \n",
       "75%                                1.803862e+01   \n",
       "max                                3.005180e+01   \n",
       "\n",
       "       secondary_cleaner.state.floatbank4_a_level  \\\n",
       "count                                 5290.000000   \n",
       "mean                                  -505.144570   \n",
       "std                                     31.427337   \n",
       "min                                   -799.798523   \n",
       "25%                                   -500.868258   \n",
       "50%                                   -500.115727   \n",
       "75%                                   -499.404224   \n",
       "max                                   -401.565212   \n",
       "\n",
       "       secondary_cleaner.state.floatbank4_b_air  \\\n",
       "count                              5.290000e+03   \n",
       "mean                               1.373544e+01   \n",
       "std                                3.430484e+00   \n",
       "min                                2.489718e-17   \n",
       "25%                                1.202862e+01   \n",
       "50%                                1.496486e+01   \n",
       "75%                                1.596213e+01   \n",
       "max                                3.126971e+01   \n",
       "\n",
       "       secondary_cleaner.state.floatbank4_b_level  \\\n",
       "count                                 5290.000000   \n",
       "mean                                  -463.349858   \n",
       "std                                     86.189107   \n",
       "min                                   -800.836914   \n",
       "25%                                   -500.323028   \n",
       "50%                                   -499.576513   \n",
       "75%                                   -400.933805   \n",
       "max                                     -6.506986   \n",
       "\n",
       "       secondary_cleaner.state.floatbank5_a_air  \\\n",
       "count                               5290.000000   \n",
       "mean                                  12.804186   \n",
       "std                                    3.026591   \n",
       "min                                    0.069227   \n",
       "25%                                   10.914838   \n",
       "50%                                   12.954182   \n",
       "75%                                   15.097528   \n",
       "max                                   25.258848   \n",
       "\n",
       "       secondary_cleaner.state.floatbank5_a_level  \\\n",
       "count                                 5290.000000   \n",
       "mean                                  -501.329122   \n",
       "std                                     17.951495   \n",
       "min                                   -797.323986   \n",
       "25%                                   -500.726841   \n",
       "50%                                   -499.990332   \n",
       "75%                                   -499.283191   \n",
       "max                                   -244.483566   \n",
       "\n",
       "       secondary_cleaner.state.floatbank5_b_air  \\\n",
       "count                               5290.000000   \n",
       "mean                                   9.881145   \n",
       "std                                    2.868205   \n",
       "min                                    0.528083   \n",
       "25%                                    8.036719   \n",
       "50%                                   10.004301   \n",
       "75%                                   11.997467   \n",
       "max                                   14.086866   \n",
       "\n",
       "       secondary_cleaner.state.floatbank5_b_level  \\\n",
       "count                                 5290.000000   \n",
       "mean                                  -495.663398   \n",
       "std                                     34.535007   \n",
       "min                                   -800.220337   \n",
       "25%                                   -500.194668   \n",
       "50%                                   -499.990535   \n",
       "75%                                   -499.719913   \n",
       "max                                   -137.740004   \n",
       "\n",
       "       secondary_cleaner.state.floatbank6_a_air  \\\n",
       "count                               5290.000000   \n",
       "mean                                  17.304935   \n",
       "std                                    4.536544   \n",
       "min                                   -0.079426   \n",
       "25%                                   13.997317   \n",
       "50%                                   16.014935   \n",
       "75%                                   21.020013   \n",
       "max                                   26.705889   \n",
       "\n",
       "       secondary_cleaner.state.floatbank6_a_level  \n",
       "count                                 5290.000000  \n",
       "mean                                  -501.793193  \n",
       "std                                     39.044215  \n",
       "min                                   -809.741464  \n",
       "25%                                   -500.690984  \n",
       "50%                                   -500.007126  \n",
       "75%                                   -499.373018  \n",
       "max                                   -123.307487  \n",
       "\n",
       "[8 rows x 52 columns]"
      ]
     },
     "metadata": {},
     "output_type": "display_data"
    },
    {
     "data": {
      "text/html": [
       "<div>\n",
       "<style scoped>\n",
       "    .dataframe tbody tr th:only-of-type {\n",
       "        vertical-align: middle;\n",
       "    }\n",
       "\n",
       "    .dataframe tbody tr th {\n",
       "        vertical-align: top;\n",
       "    }\n",
       "\n",
       "    .dataframe thead th {\n",
       "        text-align: right;\n",
       "    }\n",
       "</style>\n",
       "<table border=\"1\" class=\"dataframe\">\n",
       "  <thead>\n",
       "    <tr style=\"text-align: right;\">\n",
       "      <th></th>\n",
       "      <th>date</th>\n",
       "      <th>final.output.concentrate_ag</th>\n",
       "      <th>final.output.concentrate_pb</th>\n",
       "      <th>final.output.concentrate_sol</th>\n",
       "      <th>final.output.concentrate_au</th>\n",
       "      <th>final.output.recovery</th>\n",
       "      <th>final.output.tail_ag</th>\n",
       "      <th>final.output.tail_pb</th>\n",
       "      <th>final.output.tail_sol</th>\n",
       "      <th>final.output.tail_au</th>\n",
       "      <th>...</th>\n",
       "      <th>secondary_cleaner.state.floatbank4_a_air</th>\n",
       "      <th>secondary_cleaner.state.floatbank4_a_level</th>\n",
       "      <th>secondary_cleaner.state.floatbank4_b_air</th>\n",
       "      <th>secondary_cleaner.state.floatbank4_b_level</th>\n",
       "      <th>secondary_cleaner.state.floatbank5_a_air</th>\n",
       "      <th>secondary_cleaner.state.floatbank5_a_level</th>\n",
       "      <th>secondary_cleaner.state.floatbank5_b_air</th>\n",
       "      <th>secondary_cleaner.state.floatbank5_b_level</th>\n",
       "      <th>secondary_cleaner.state.floatbank6_a_air</th>\n",
       "      <th>secondary_cleaner.state.floatbank6_a_level</th>\n",
       "    </tr>\n",
       "  </thead>\n",
       "  <tbody>\n",
       "    <tr>\n",
       "      <th>0</th>\n",
       "      <td>2016-01-15 00:00:00</td>\n",
       "      <td>6.055403</td>\n",
       "      <td>9.889648</td>\n",
       "      <td>5.507324</td>\n",
       "      <td>42.192020</td>\n",
       "      <td>70.541216</td>\n",
       "      <td>10.411962</td>\n",
       "      <td>0.895447</td>\n",
       "      <td>16.904297</td>\n",
       "      <td>2.143149</td>\n",
       "      <td>...</td>\n",
       "      <td>14.016835</td>\n",
       "      <td>-502.488007</td>\n",
       "      <td>12.099931</td>\n",
       "      <td>-504.715942</td>\n",
       "      <td>9.925633</td>\n",
       "      <td>-498.310211</td>\n",
       "      <td>8.079666</td>\n",
       "      <td>-500.470978</td>\n",
       "      <td>14.151341</td>\n",
       "      <td>-605.841980</td>\n",
       "    </tr>\n",
       "    <tr>\n",
       "      <th>1</th>\n",
       "      <td>2016-01-15 01:00:00</td>\n",
       "      <td>6.029369</td>\n",
       "      <td>9.968944</td>\n",
       "      <td>5.257781</td>\n",
       "      <td>42.701629</td>\n",
       "      <td>69.266198</td>\n",
       "      <td>10.462676</td>\n",
       "      <td>0.927452</td>\n",
       "      <td>16.634514</td>\n",
       "      <td>2.224930</td>\n",
       "      <td>...</td>\n",
       "      <td>13.992281</td>\n",
       "      <td>-505.503262</td>\n",
       "      <td>11.950531</td>\n",
       "      <td>-501.331529</td>\n",
       "      <td>10.039245</td>\n",
       "      <td>-500.169983</td>\n",
       "      <td>7.984757</td>\n",
       "      <td>-500.582168</td>\n",
       "      <td>13.998353</td>\n",
       "      <td>-599.787184</td>\n",
       "    </tr>\n",
       "    <tr>\n",
       "      <th>2</th>\n",
       "      <td>2016-01-15 02:00:00</td>\n",
       "      <td>6.055926</td>\n",
       "      <td>10.213995</td>\n",
       "      <td>5.383759</td>\n",
       "      <td>42.657501</td>\n",
       "      <td>68.116445</td>\n",
       "      <td>10.507046</td>\n",
       "      <td>0.953716</td>\n",
       "      <td>16.208849</td>\n",
       "      <td>2.257889</td>\n",
       "      <td>...</td>\n",
       "      <td>14.015015</td>\n",
       "      <td>-502.520901</td>\n",
       "      <td>11.912783</td>\n",
       "      <td>-501.133383</td>\n",
       "      <td>10.070913</td>\n",
       "      <td>-500.129135</td>\n",
       "      <td>8.013877</td>\n",
       "      <td>-500.517572</td>\n",
       "      <td>14.028663</td>\n",
       "      <td>-601.427363</td>\n",
       "    </tr>\n",
       "    <tr>\n",
       "      <th>3</th>\n",
       "      <td>2016-01-15 03:00:00</td>\n",
       "      <td>6.047977</td>\n",
       "      <td>9.977019</td>\n",
       "      <td>4.858634</td>\n",
       "      <td>42.689819</td>\n",
       "      <td>68.347543</td>\n",
       "      <td>10.422762</td>\n",
       "      <td>0.883763</td>\n",
       "      <td>16.532835</td>\n",
       "      <td>2.146849</td>\n",
       "      <td>...</td>\n",
       "      <td>14.036510</td>\n",
       "      <td>-500.857308</td>\n",
       "      <td>11.999550</td>\n",
       "      <td>-501.193686</td>\n",
       "      <td>9.970366</td>\n",
       "      <td>-499.201640</td>\n",
       "      <td>7.977324</td>\n",
       "      <td>-500.255908</td>\n",
       "      <td>14.005551</td>\n",
       "      <td>-599.996129</td>\n",
       "    </tr>\n",
       "    <tr>\n",
       "      <th>4</th>\n",
       "      <td>2016-01-15 04:00:00</td>\n",
       "      <td>6.148599</td>\n",
       "      <td>10.142511</td>\n",
       "      <td>4.939416</td>\n",
       "      <td>42.774141</td>\n",
       "      <td>66.927016</td>\n",
       "      <td>10.360302</td>\n",
       "      <td>0.792826</td>\n",
       "      <td>16.525686</td>\n",
       "      <td>2.055292</td>\n",
       "      <td>...</td>\n",
       "      <td>14.027298</td>\n",
       "      <td>-499.838632</td>\n",
       "      <td>11.953070</td>\n",
       "      <td>-501.053894</td>\n",
       "      <td>9.925709</td>\n",
       "      <td>-501.686727</td>\n",
       "      <td>7.894242</td>\n",
       "      <td>-500.356035</td>\n",
       "      <td>13.996647</td>\n",
       "      <td>-601.496691</td>\n",
       "    </tr>\n",
       "  </tbody>\n",
       "</table>\n",
       "<p>5 rows × 87 columns</p>\n",
       "</div>"
      ],
      "text/plain": [
       "                  date  final.output.concentrate_ag  \\\n",
       "0  2016-01-15 00:00:00                     6.055403   \n",
       "1  2016-01-15 01:00:00                     6.029369   \n",
       "2  2016-01-15 02:00:00                     6.055926   \n",
       "3  2016-01-15 03:00:00                     6.047977   \n",
       "4  2016-01-15 04:00:00                     6.148599   \n",
       "\n",
       "   final.output.concentrate_pb  final.output.concentrate_sol  \\\n",
       "0                     9.889648                      5.507324   \n",
       "1                     9.968944                      5.257781   \n",
       "2                    10.213995                      5.383759   \n",
       "3                     9.977019                      4.858634   \n",
       "4                    10.142511                      4.939416   \n",
       "\n",
       "   final.output.concentrate_au  final.output.recovery  final.output.tail_ag  \\\n",
       "0                    42.192020              70.541216             10.411962   \n",
       "1                    42.701629              69.266198             10.462676   \n",
       "2                    42.657501              68.116445             10.507046   \n",
       "3                    42.689819              68.347543             10.422762   \n",
       "4                    42.774141              66.927016             10.360302   \n",
       "\n",
       "   final.output.tail_pb  final.output.tail_sol  final.output.tail_au  ...  \\\n",
       "0              0.895447              16.904297              2.143149  ...   \n",
       "1              0.927452              16.634514              2.224930  ...   \n",
       "2              0.953716              16.208849              2.257889  ...   \n",
       "3              0.883763              16.532835              2.146849  ...   \n",
       "4              0.792826              16.525686              2.055292  ...   \n",
       "\n",
       "   secondary_cleaner.state.floatbank4_a_air  \\\n",
       "0                                 14.016835   \n",
       "1                                 13.992281   \n",
       "2                                 14.015015   \n",
       "3                                 14.036510   \n",
       "4                                 14.027298   \n",
       "\n",
       "   secondary_cleaner.state.floatbank4_a_level  \\\n",
       "0                                 -502.488007   \n",
       "1                                 -505.503262   \n",
       "2                                 -502.520901   \n",
       "3                                 -500.857308   \n",
       "4                                 -499.838632   \n",
       "\n",
       "   secondary_cleaner.state.floatbank4_b_air  \\\n",
       "0                                 12.099931   \n",
       "1                                 11.950531   \n",
       "2                                 11.912783   \n",
       "3                                 11.999550   \n",
       "4                                 11.953070   \n",
       "\n",
       "   secondary_cleaner.state.floatbank4_b_level  \\\n",
       "0                                 -504.715942   \n",
       "1                                 -501.331529   \n",
       "2                                 -501.133383   \n",
       "3                                 -501.193686   \n",
       "4                                 -501.053894   \n",
       "\n",
       "   secondary_cleaner.state.floatbank5_a_air  \\\n",
       "0                                  9.925633   \n",
       "1                                 10.039245   \n",
       "2                                 10.070913   \n",
       "3                                  9.970366   \n",
       "4                                  9.925709   \n",
       "\n",
       "   secondary_cleaner.state.floatbank5_a_level  \\\n",
       "0                                 -498.310211   \n",
       "1                                 -500.169983   \n",
       "2                                 -500.129135   \n",
       "3                                 -499.201640   \n",
       "4                                 -501.686727   \n",
       "\n",
       "   secondary_cleaner.state.floatbank5_b_air  \\\n",
       "0                                  8.079666   \n",
       "1                                  7.984757   \n",
       "2                                  8.013877   \n",
       "3                                  7.977324   \n",
       "4                                  7.894242   \n",
       "\n",
       "   secondary_cleaner.state.floatbank5_b_level  \\\n",
       "0                                 -500.470978   \n",
       "1                                 -500.582168   \n",
       "2                                 -500.517572   \n",
       "3                                 -500.255908   \n",
       "4                                 -500.356035   \n",
       "\n",
       "   secondary_cleaner.state.floatbank6_a_air  \\\n",
       "0                                 14.151341   \n",
       "1                                 13.998353   \n",
       "2                                 14.028663   \n",
       "3                                 14.005551   \n",
       "4                                 13.996647   \n",
       "\n",
       "   secondary_cleaner.state.floatbank6_a_level  \n",
       "0                                 -605.841980  \n",
       "1                                 -599.787184  \n",
       "2                                 -601.427363  \n",
       "3                                 -599.996129  \n",
       "4                                 -601.496691  \n",
       "\n",
       "[5 rows x 87 columns]"
      ]
     },
     "metadata": {},
     "output_type": "display_data"
    },
    {
     "name": "stdout",
     "output_type": "stream",
     "text": [
      "<class 'pandas.core.frame.DataFrame'>\n",
      "RangeIndex: 19439 entries, 0 to 19438\n",
      "Data columns (total 87 columns):\n",
      " #   Column                                              Non-Null Count  Dtype  \n",
      "---  ------                                              --------------  -----  \n",
      " 0   date                                                19439 non-null  object \n",
      " 1   final.output.concentrate_ag                         19438 non-null  float64\n",
      " 2   final.output.concentrate_pb                         19438 non-null  float64\n",
      " 3   final.output.concentrate_sol                        19228 non-null  float64\n",
      " 4   final.output.concentrate_au                         19439 non-null  float64\n",
      " 5   final.output.recovery                               19439 non-null  float64\n",
      " 6   final.output.tail_ag                                19438 non-null  float64\n",
      " 7   final.output.tail_pb                                19338 non-null  float64\n",
      " 8   final.output.tail_sol                               19433 non-null  float64\n",
      " 9   final.output.tail_au                                19439 non-null  float64\n",
      " 10  primary_cleaner.input.sulfate                       19415 non-null  float64\n",
      " 11  primary_cleaner.input.depressant                    19402 non-null  float64\n",
      " 12  primary_cleaner.input.feed_size                     19439 non-null  float64\n",
      " 13  primary_cleaner.input.xanthate                      19335 non-null  float64\n",
      " 14  primary_cleaner.output.concentrate_ag               19439 non-null  float64\n",
      " 15  primary_cleaner.output.concentrate_pb               19323 non-null  float64\n",
      " 16  primary_cleaner.output.concentrate_sol              19069 non-null  float64\n",
      " 17  primary_cleaner.output.concentrate_au               19439 non-null  float64\n",
      " 18  primary_cleaner.output.tail_ag                      19435 non-null  float64\n",
      " 19  primary_cleaner.output.tail_pb                      19418 non-null  float64\n",
      " 20  primary_cleaner.output.tail_sol                     19377 non-null  float64\n",
      " 21  primary_cleaner.output.tail_au                      19439 non-null  float64\n",
      " 22  primary_cleaner.state.floatbank8_a_air              19435 non-null  float64\n",
      " 23  primary_cleaner.state.floatbank8_a_level            19438 non-null  float64\n",
      " 24  primary_cleaner.state.floatbank8_b_air              19435 non-null  float64\n",
      " 25  primary_cleaner.state.floatbank8_b_level            19438 non-null  float64\n",
      " 26  primary_cleaner.state.floatbank8_c_air              19437 non-null  float64\n",
      " 27  primary_cleaner.state.floatbank8_c_level            19438 non-null  float64\n",
      " 28  primary_cleaner.state.floatbank8_d_air              19436 non-null  float64\n",
      " 29  primary_cleaner.state.floatbank8_d_level            19438 non-null  float64\n",
      " 30  rougher.calculation.sulfate_to_au_concentrate       19437 non-null  float64\n",
      " 31  rougher.calculation.floatbank10_sulfate_to_au_feed  19437 non-null  float64\n",
      " 32  rougher.calculation.floatbank11_sulfate_to_au_feed  19437 non-null  float64\n",
      " 33  rougher.calculation.au_pb_ratio                     19439 non-null  float64\n",
      " 34  rougher.input.feed_ag                               19439 non-null  float64\n",
      " 35  rougher.input.feed_pb                               19339 non-null  float64\n",
      " 36  rougher.input.feed_rate                             19428 non-null  float64\n",
      " 37  rougher.input.feed_size                             19294 non-null  float64\n",
      " 38  rougher.input.feed_sol                              19340 non-null  float64\n",
      " 39  rougher.input.feed_au                               19439 non-null  float64\n",
      " 40  rougher.input.floatbank10_sulfate                   19405 non-null  float64\n",
      " 41  rougher.input.floatbank10_xanthate                  19431 non-null  float64\n",
      " 42  rougher.input.floatbank11_sulfate                   19395 non-null  float64\n",
      " 43  rougher.input.floatbank11_xanthate                  18986 non-null  float64\n",
      " 44  rougher.output.concentrate_ag                       19439 non-null  float64\n",
      " 45  rougher.output.concentrate_pb                       19439 non-null  float64\n",
      " 46  rougher.output.concentrate_sol                      19416 non-null  float64\n",
      " 47  rougher.output.concentrate_au                       19439 non-null  float64\n",
      " 48  rougher.output.recovery                             19439 non-null  float64\n",
      " 49  rougher.output.tail_ag                              19438 non-null  float64\n",
      " 50  rougher.output.tail_pb                              19439 non-null  float64\n",
      " 51  rougher.output.tail_sol                             19439 non-null  float64\n",
      " 52  rougher.output.tail_au                              19439 non-null  float64\n",
      " 53  rougher.state.floatbank10_a_air                     19438 non-null  float64\n",
      " 54  rougher.state.floatbank10_a_level                   19438 non-null  float64\n",
      " 55  rougher.state.floatbank10_b_air                     19438 non-null  float64\n",
      " 56  rougher.state.floatbank10_b_level                   19438 non-null  float64\n",
      " 57  rougher.state.floatbank10_c_air                     19438 non-null  float64\n",
      " 58  rougher.state.floatbank10_c_level                   19438 non-null  float64\n",
      " 59  rougher.state.floatbank10_d_air                     19439 non-null  float64\n",
      " 60  rougher.state.floatbank10_d_level                   19439 non-null  float64\n",
      " 61  rougher.state.floatbank10_e_air                     19003 non-null  float64\n",
      " 62  rougher.state.floatbank10_e_level                   19439 non-null  float64\n",
      " 63  rougher.state.floatbank10_f_air                     19439 non-null  float64\n",
      " 64  rougher.state.floatbank10_f_level                   19439 non-null  float64\n",
      " 65  secondary_cleaner.output.tail_ag                    19437 non-null  float64\n",
      " 66  secondary_cleaner.output.tail_pb                    19427 non-null  float64\n",
      " 67  secondary_cleaner.output.tail_sol                   17691 non-null  float64\n",
      " 68  secondary_cleaner.output.tail_au                    19439 non-null  float64\n",
      " 69  secondary_cleaner.state.floatbank2_a_air            19219 non-null  float64\n",
      " 70  secondary_cleaner.state.floatbank2_a_level          19438 non-null  float64\n",
      " 71  secondary_cleaner.state.floatbank2_b_air            19416 non-null  float64\n",
      " 72  secondary_cleaner.state.floatbank2_b_level          19438 non-null  float64\n",
      " 73  secondary_cleaner.state.floatbank3_a_air            19426 non-null  float64\n",
      " 74  secondary_cleaner.state.floatbank3_a_level          19438 non-null  float64\n",
      " 75  secondary_cleaner.state.floatbank3_b_air            19438 non-null  float64\n",
      " 76  secondary_cleaner.state.floatbank3_b_level          19438 non-null  float64\n",
      " 77  secondary_cleaner.state.floatbank4_a_air            19433 non-null  float64\n",
      " 78  secondary_cleaner.state.floatbank4_a_level          19438 non-null  float64\n",
      " 79  secondary_cleaner.state.floatbank4_b_air            19438 non-null  float64\n",
      " 80  secondary_cleaner.state.floatbank4_b_level          19438 non-null  float64\n",
      " 81  secondary_cleaner.state.floatbank5_a_air            19438 non-null  float64\n",
      " 82  secondary_cleaner.state.floatbank5_a_level          19438 non-null  float64\n",
      " 83  secondary_cleaner.state.floatbank5_b_air            19438 non-null  float64\n",
      " 84  secondary_cleaner.state.floatbank5_b_level          19438 non-null  float64\n",
      " 85  secondary_cleaner.state.floatbank6_a_air            19437 non-null  float64\n",
      " 86  secondary_cleaner.state.floatbank6_a_level          19438 non-null  float64\n",
      "dtypes: float64(86), object(1)\n",
      "memory usage: 12.9+ MB\n"
     ]
    },
    {
     "data": {
      "text/html": [
       "<div>\n",
       "<style scoped>\n",
       "    .dataframe tbody tr th:only-of-type {\n",
       "        vertical-align: middle;\n",
       "    }\n",
       "\n",
       "    .dataframe tbody tr th {\n",
       "        vertical-align: top;\n",
       "    }\n",
       "\n",
       "    .dataframe thead th {\n",
       "        text-align: right;\n",
       "    }\n",
       "</style>\n",
       "<table border=\"1\" class=\"dataframe\">\n",
       "  <thead>\n",
       "    <tr style=\"text-align: right;\">\n",
       "      <th></th>\n",
       "      <th>final.output.concentrate_ag</th>\n",
       "      <th>final.output.concentrate_pb</th>\n",
       "      <th>final.output.concentrate_sol</th>\n",
       "      <th>final.output.concentrate_au</th>\n",
       "      <th>final.output.recovery</th>\n",
       "      <th>final.output.tail_ag</th>\n",
       "      <th>final.output.tail_pb</th>\n",
       "      <th>final.output.tail_sol</th>\n",
       "      <th>final.output.tail_au</th>\n",
       "      <th>primary_cleaner.input.sulfate</th>\n",
       "      <th>...</th>\n",
       "      <th>secondary_cleaner.state.floatbank4_a_air</th>\n",
       "      <th>secondary_cleaner.state.floatbank4_a_level</th>\n",
       "      <th>secondary_cleaner.state.floatbank4_b_air</th>\n",
       "      <th>secondary_cleaner.state.floatbank4_b_level</th>\n",
       "      <th>secondary_cleaner.state.floatbank5_a_air</th>\n",
       "      <th>secondary_cleaner.state.floatbank5_a_level</th>\n",
       "      <th>secondary_cleaner.state.floatbank5_b_air</th>\n",
       "      <th>secondary_cleaner.state.floatbank5_b_level</th>\n",
       "      <th>secondary_cleaner.state.floatbank6_a_air</th>\n",
       "      <th>secondary_cleaner.state.floatbank6_a_level</th>\n",
       "    </tr>\n",
       "  </thead>\n",
       "  <tbody>\n",
       "    <tr>\n",
       "      <th>count</th>\n",
       "      <td>19438.000000</td>\n",
       "      <td>19438.000000</td>\n",
       "      <td>19228.000000</td>\n",
       "      <td>19439.000000</td>\n",
       "      <td>19439.000000</td>\n",
       "      <td>19438.000000</td>\n",
       "      <td>19338.000000</td>\n",
       "      <td>19433.000000</td>\n",
       "      <td>19439.000000</td>\n",
       "      <td>19415.000000</td>\n",
       "      <td>...</td>\n",
       "      <td>19433.000000</td>\n",
       "      <td>19438.000000</td>\n",
       "      <td>19438.000000</td>\n",
       "      <td>19438.000000</td>\n",
       "      <td>19438.000000</td>\n",
       "      <td>19438.000000</td>\n",
       "      <td>19438.000000</td>\n",
       "      <td>19438.000000</td>\n",
       "      <td>19437.000000</td>\n",
       "      <td>19438.000000</td>\n",
       "    </tr>\n",
       "    <tr>\n",
       "      <th>mean</th>\n",
       "      <td>5.168470</td>\n",
       "      <td>9.978895</td>\n",
       "      <td>9.501224</td>\n",
       "      <td>44.076513</td>\n",
       "      <td>67.050208</td>\n",
       "      <td>9.688589</td>\n",
       "      <td>2.705795</td>\n",
       "      <td>10.583728</td>\n",
       "      <td>3.042467</td>\n",
       "      <td>144.624774</td>\n",
       "      <td>...</td>\n",
       "      <td>18.987674</td>\n",
       "      <td>-485.894516</td>\n",
       "      <td>15.010366</td>\n",
       "      <td>-461.078636</td>\n",
       "      <td>15.694452</td>\n",
       "      <td>-488.684065</td>\n",
       "      <td>12.198224</td>\n",
       "      <td>-487.149827</td>\n",
       "      <td>18.959024</td>\n",
       "      <td>-505.436305</td>\n",
       "    </tr>\n",
       "    <tr>\n",
       "      <th>std</th>\n",
       "      <td>1.372348</td>\n",
       "      <td>1.669240</td>\n",
       "      <td>2.787537</td>\n",
       "      <td>5.129784</td>\n",
       "      <td>10.125840</td>\n",
       "      <td>2.328642</td>\n",
       "      <td>0.949077</td>\n",
       "      <td>2.868782</td>\n",
       "      <td>0.922808</td>\n",
       "      <td>44.464071</td>\n",
       "      <td>...</td>\n",
       "      <td>5.411058</td>\n",
       "      <td>47.758570</td>\n",
       "      <td>4.890228</td>\n",
       "      <td>67.405524</td>\n",
       "      <td>5.510974</td>\n",
       "      <td>34.533396</td>\n",
       "      <td>5.333024</td>\n",
       "      <td>38.347312</td>\n",
       "      <td>5.550498</td>\n",
       "      <td>37.689057</td>\n",
       "    </tr>\n",
       "    <tr>\n",
       "      <th>min</th>\n",
       "      <td>0.000000</td>\n",
       "      <td>0.000000</td>\n",
       "      <td>0.000000</td>\n",
       "      <td>0.000000</td>\n",
       "      <td>0.000000</td>\n",
       "      <td>0.000000</td>\n",
       "      <td>0.000000</td>\n",
       "      <td>0.000000</td>\n",
       "      <td>0.000000</td>\n",
       "      <td>0.003112</td>\n",
       "      <td>...</td>\n",
       "      <td>0.000000</td>\n",
       "      <td>-799.798523</td>\n",
       "      <td>0.000000</td>\n",
       "      <td>-800.836914</td>\n",
       "      <td>-0.372054</td>\n",
       "      <td>-797.323986</td>\n",
       "      <td>0.528083</td>\n",
       "      <td>-800.220337</td>\n",
       "      <td>-0.079426</td>\n",
       "      <td>-809.741464</td>\n",
       "    </tr>\n",
       "    <tr>\n",
       "      <th>25%</th>\n",
       "      <td>4.251240</td>\n",
       "      <td>9.137262</td>\n",
       "      <td>7.722820</td>\n",
       "      <td>43.402215</td>\n",
       "      <td>63.299712</td>\n",
       "      <td>8.062878</td>\n",
       "      <td>2.040119</td>\n",
       "      <td>8.938947</td>\n",
       "      <td>2.461138</td>\n",
       "      <td>114.107029</td>\n",
       "      <td>...</td>\n",
       "      <td>14.975734</td>\n",
       "      <td>-500.704892</td>\n",
       "      <td>11.940294</td>\n",
       "      <td>-500.187742</td>\n",
       "      <td>10.988606</td>\n",
       "      <td>-500.458467</td>\n",
       "      <td>8.971105</td>\n",
       "      <td>-500.129462</td>\n",
       "      <td>14.983037</td>\n",
       "      <td>-500.728067</td>\n",
       "    </tr>\n",
       "    <tr>\n",
       "      <th>50%</th>\n",
       "      <td>5.066094</td>\n",
       "      <td>10.102433</td>\n",
       "      <td>9.218961</td>\n",
       "      <td>45.011244</td>\n",
       "      <td>68.172738</td>\n",
       "      <td>9.743623</td>\n",
       "      <td>2.748730</td>\n",
       "      <td>10.622456</td>\n",
       "      <td>2.984909</td>\n",
       "      <td>143.232103</td>\n",
       "      <td>...</td>\n",
       "      <td>18.017481</td>\n",
       "      <td>-499.837793</td>\n",
       "      <td>14.971014</td>\n",
       "      <td>-499.459786</td>\n",
       "      <td>15.000036</td>\n",
       "      <td>-499.802605</td>\n",
       "      <td>11.019433</td>\n",
       "      <td>-499.935317</td>\n",
       "      <td>19.960541</td>\n",
       "      <td>-500.048400</td>\n",
       "    </tr>\n",
       "    <tr>\n",
       "      <th>75%</th>\n",
       "      <td>5.895527</td>\n",
       "      <td>11.035769</td>\n",
       "      <td>10.947813</td>\n",
       "      <td>46.275313</td>\n",
       "      <td>72.686642</td>\n",
       "      <td>11.134294</td>\n",
       "      <td>3.333216</td>\n",
       "      <td>12.104271</td>\n",
       "      <td>3.571351</td>\n",
       "      <td>175.075656</td>\n",
       "      <td>...</td>\n",
       "      <td>23.012470</td>\n",
       "      <td>-498.249730</td>\n",
       "      <td>19.034162</td>\n",
       "      <td>-400.118106</td>\n",
       "      <td>18.026190</td>\n",
       "      <td>-498.384187</td>\n",
       "      <td>14.019088</td>\n",
       "      <td>-499.436708</td>\n",
       "      <td>24.003170</td>\n",
       "      <td>-499.495378</td>\n",
       "    </tr>\n",
       "    <tr>\n",
       "      <th>max</th>\n",
       "      <td>16.001945</td>\n",
       "      <td>17.031899</td>\n",
       "      <td>19.615720</td>\n",
       "      <td>52.756638</td>\n",
       "      <td>100.000000</td>\n",
       "      <td>19.552149</td>\n",
       "      <td>5.804178</td>\n",
       "      <td>22.317730</td>\n",
       "      <td>8.245022</td>\n",
       "      <td>265.983123</td>\n",
       "      <td>...</td>\n",
       "      <td>30.115735</td>\n",
       "      <td>-245.239184</td>\n",
       "      <td>31.269706</td>\n",
       "      <td>-6.506986</td>\n",
       "      <td>43.709931</td>\n",
       "      <td>-244.483566</td>\n",
       "      <td>27.926001</td>\n",
       "      <td>-137.740004</td>\n",
       "      <td>32.188906</td>\n",
       "      <td>-104.427459</td>\n",
       "    </tr>\n",
       "  </tbody>\n",
       "</table>\n",
       "<p>8 rows × 86 columns</p>\n",
       "</div>"
      ],
      "text/plain": [
       "       final.output.concentrate_ag  final.output.concentrate_pb  \\\n",
       "count                 19438.000000                 19438.000000   \n",
       "mean                      5.168470                     9.978895   \n",
       "std                       1.372348                     1.669240   \n",
       "min                       0.000000                     0.000000   \n",
       "25%                       4.251240                     9.137262   \n",
       "50%                       5.066094                    10.102433   \n",
       "75%                       5.895527                    11.035769   \n",
       "max                      16.001945                    17.031899   \n",
       "\n",
       "       final.output.concentrate_sol  final.output.concentrate_au  \\\n",
       "count                  19228.000000                 19439.000000   \n",
       "mean                       9.501224                    44.076513   \n",
       "std                        2.787537                     5.129784   \n",
       "min                        0.000000                     0.000000   \n",
       "25%                        7.722820                    43.402215   \n",
       "50%                        9.218961                    45.011244   \n",
       "75%                       10.947813                    46.275313   \n",
       "max                       19.615720                    52.756638   \n",
       "\n",
       "       final.output.recovery  final.output.tail_ag  final.output.tail_pb  \\\n",
       "count           19439.000000          19438.000000          19338.000000   \n",
       "mean               67.050208              9.688589              2.705795   \n",
       "std                10.125840              2.328642              0.949077   \n",
       "min                 0.000000              0.000000              0.000000   \n",
       "25%                63.299712              8.062878              2.040119   \n",
       "50%                68.172738              9.743623              2.748730   \n",
       "75%                72.686642             11.134294              3.333216   \n",
       "max               100.000000             19.552149              5.804178   \n",
       "\n",
       "       final.output.tail_sol  final.output.tail_au  \\\n",
       "count           19433.000000          19439.000000   \n",
       "mean               10.583728              3.042467   \n",
       "std                 2.868782              0.922808   \n",
       "min                 0.000000              0.000000   \n",
       "25%                 8.938947              2.461138   \n",
       "50%                10.622456              2.984909   \n",
       "75%                12.104271              3.571351   \n",
       "max                22.317730              8.245022   \n",
       "\n",
       "       primary_cleaner.input.sulfate  ...  \\\n",
       "count                   19415.000000  ...   \n",
       "mean                      144.624774  ...   \n",
       "std                        44.464071  ...   \n",
       "min                         0.003112  ...   \n",
       "25%                       114.107029  ...   \n",
       "50%                       143.232103  ...   \n",
       "75%                       175.075656  ...   \n",
       "max                       265.983123  ...   \n",
       "\n",
       "       secondary_cleaner.state.floatbank4_a_air  \\\n",
       "count                              19433.000000   \n",
       "mean                                  18.987674   \n",
       "std                                    5.411058   \n",
       "min                                    0.000000   \n",
       "25%                                   14.975734   \n",
       "50%                                   18.017481   \n",
       "75%                                   23.012470   \n",
       "max                                   30.115735   \n",
       "\n",
       "       secondary_cleaner.state.floatbank4_a_level  \\\n",
       "count                                19438.000000   \n",
       "mean                                  -485.894516   \n",
       "std                                     47.758570   \n",
       "min                                   -799.798523   \n",
       "25%                                   -500.704892   \n",
       "50%                                   -499.837793   \n",
       "75%                                   -498.249730   \n",
       "max                                   -245.239184   \n",
       "\n",
       "       secondary_cleaner.state.floatbank4_b_air  \\\n",
       "count                              19438.000000   \n",
       "mean                                  15.010366   \n",
       "std                                    4.890228   \n",
       "min                                    0.000000   \n",
       "25%                                   11.940294   \n",
       "50%                                   14.971014   \n",
       "75%                                   19.034162   \n",
       "max                                   31.269706   \n",
       "\n",
       "       secondary_cleaner.state.floatbank4_b_level  \\\n",
       "count                                19438.000000   \n",
       "mean                                  -461.078636   \n",
       "std                                     67.405524   \n",
       "min                                   -800.836914   \n",
       "25%                                   -500.187742   \n",
       "50%                                   -499.459786   \n",
       "75%                                   -400.118106   \n",
       "max                                     -6.506986   \n",
       "\n",
       "       secondary_cleaner.state.floatbank5_a_air  \\\n",
       "count                              19438.000000   \n",
       "mean                                  15.694452   \n",
       "std                                    5.510974   \n",
       "min                                   -0.372054   \n",
       "25%                                   10.988606   \n",
       "50%                                   15.000036   \n",
       "75%                                   18.026190   \n",
       "max                                   43.709931   \n",
       "\n",
       "       secondary_cleaner.state.floatbank5_a_level  \\\n",
       "count                                19438.000000   \n",
       "mean                                  -488.684065   \n",
       "std                                     34.533396   \n",
       "min                                   -797.323986   \n",
       "25%                                   -500.458467   \n",
       "50%                                   -499.802605   \n",
       "75%                                   -498.384187   \n",
       "max                                   -244.483566   \n",
       "\n",
       "       secondary_cleaner.state.floatbank5_b_air  \\\n",
       "count                              19438.000000   \n",
       "mean                                  12.198224   \n",
       "std                                    5.333024   \n",
       "min                                    0.528083   \n",
       "25%                                    8.971105   \n",
       "50%                                   11.019433   \n",
       "75%                                   14.019088   \n",
       "max                                   27.926001   \n",
       "\n",
       "       secondary_cleaner.state.floatbank5_b_level  \\\n",
       "count                                19438.000000   \n",
       "mean                                  -487.149827   \n",
       "std                                     38.347312   \n",
       "min                                   -800.220337   \n",
       "25%                                   -500.129462   \n",
       "50%                                   -499.935317   \n",
       "75%                                   -499.436708   \n",
       "max                                   -137.740004   \n",
       "\n",
       "       secondary_cleaner.state.floatbank6_a_air  \\\n",
       "count                              19437.000000   \n",
       "mean                                  18.959024   \n",
       "std                                    5.550498   \n",
       "min                                   -0.079426   \n",
       "25%                                   14.983037   \n",
       "50%                                   19.960541   \n",
       "75%                                   24.003170   \n",
       "max                                   32.188906   \n",
       "\n",
       "       secondary_cleaner.state.floatbank6_a_level  \n",
       "count                                19438.000000  \n",
       "mean                                  -505.436305  \n",
       "std                                     37.689057  \n",
       "min                                   -809.741464  \n",
       "25%                                   -500.728067  \n",
       "50%                                   -500.048400  \n",
       "75%                                   -499.495378  \n",
       "max                                   -104.427459  \n",
       "\n",
       "[8 rows x 86 columns]"
      ]
     },
     "metadata": {},
     "output_type": "display_data"
    }
   ],
   "source": [
    "all_data = [train, test, full]\n",
    "for dataset in all_data:\n",
    "    display(dataset.head())\n",
    "    dataset.info()\n",
    "    display(dataset.describe())"
   ]
  },
  {
   "cell_type": "markdown",
   "metadata": {},
   "source": [
    "В выборках есть пропущенные значения, выборки они разного размера. В test также наблюдается отсутствие целевых признаков. Также  присутствуют выбросы."
   ]
  },
  {
   "cell_type": "markdown",
   "metadata": {},
   "source": [
    "### Проверим, что эффективность обогащения рассчитана правильно. \n",
    "Будем рассчитывать ее по указанной в проекте формуле и сравнивать с уже имеющимися значениями. \n",
    "\n",
    "Параметры формулы:\n",
    "\n",
    "C — доля золота в концентрате после флотации/очистки - (столбец 'rougher.output.concentrate_au');\n",
    "\n",
    "F — доля золота в сырье/концентрате до флотации/очистки - (столбец 'rougher.input.feed_au');\n",
    "\n",
    "T — доля золота в отвальных хвостах после флотации/очистки - (столбец 'rougher.output.tail_au')."
   ]
  },
  {
   "cell_type": "code",
   "execution_count": 4,
   "metadata": {},
   "outputs": [],
   "source": [
    "#обозначим параметры формулы\n",
    "C = train['rougher.output.concentrate_au']\n",
    "F = train['rougher.input.feed_au']\n",
    "T = train['rougher.output.tail_au']"
   ]
  },
  {
   "cell_type": "code",
   "execution_count": 5,
   "metadata": {},
   "outputs": [
    {
     "data": {
      "text/plain": [
       "True"
      ]
     },
     "execution_count": 5,
     "metadata": {},
     "output_type": "execute_result"
    }
   ],
   "source": [
    "#рассчитываем эффективность обогащения и вносим ее в новый столбец\n",
    "train['enrichment_efficiency'] = ((C*(F-T))/(F*(C-T)))*100\n",
    "train['enrichment_efficiency'].mean()\n",
    "#сравниваем ее с признаком rougher.output.recovery\n",
    "train['enrichment_efficiency'].mean() == train['rougher.output.recovery'].mean()"
   ]
  },
  {
   "cell_type": "markdown",
   "metadata": {},
   "source": [
    "Значения совпадают, по всей видимости эффективность обогащения рассчитана правильно, но проверим еще MAE."
   ]
  },
  {
   "cell_type": "code",
   "execution_count": 6,
   "metadata": {},
   "outputs": [
    {
     "name": "stdout",
     "output_type": "stream",
     "text": [
      "MAE: 9.73512347450521e-15\n"
     ]
    }
   ],
   "source": [
    "from sklearn.metrics import mean_absolute_error\n",
    "mae = mean_absolute_error(train['rougher.output.recovery'], train['enrichment_efficiency'])\n",
    "print('MAE:', mae)"
   ]
  },
  {
   "cell_type": "markdown",
   "metadata": {},
   "source": [
    "Значение MAE (Mean Absolute Error) равное 9.73512347450521e-15 означает, что расчетное значение 'enrichment_efficiency' практически точно совпадает с признаком 'rougher.output.recovery'."
   ]
  },
  {
   "cell_type": "markdown",
   "metadata": {},
   "source": [
    "### Проанализируем признаки, недоступные в тестовой выборке. "
   ]
  },
  {
   "cell_type": "code",
   "execution_count": 7,
   "metadata": {},
   "outputs": [
    {
     "name": "stdout",
     "output_type": "stream",
     "text": [
      "Признаки, недоступные в тестовой выборке: {'rougher.output.recovery', 'rougher.calculation.floatbank10_sulfate_to_au_feed', 'final.output.tail_ag', 'primary_cleaner.output.concentrate_au', 'rougher.output.concentrate_sol', 'secondary_cleaner.output.tail_pb', 'primary_cleaner.output.tail_au', 'final.output.concentrate_au', 'rougher.output.concentrate_pb', 'final.output.tail_sol', 'secondary_cleaner.output.tail_sol', 'rougher.calculation.sulfate_to_au_concentrate', 'primary_cleaner.output.concentrate_pb', 'rougher.output.concentrate_au', 'final.output.tail_pb', 'rougher.calculation.au_pb_ratio', 'rougher.output.concentrate_ag', 'rougher.output.tail_au', 'final.output.concentrate_ag', 'final.output.concentrate_pb', 'final.output.concentrate_sol', 'primary_cleaner.output.concentrate_ag', 'enrichment_efficiency', 'rougher.output.tail_ag', 'primary_cleaner.output.concentrate_sol', 'rougher.calculation.floatbank11_sulfate_to_au_feed', 'rougher.output.tail_sol', 'secondary_cleaner.output.tail_au', 'final.output.recovery', 'primary_cleaner.output.tail_sol', 'secondary_cleaner.output.tail_ag', 'final.output.tail_au', 'primary_cleaner.output.tail_pb', 'rougher.output.tail_pb', 'primary_cleaner.output.tail_ag'}\n"
     ]
    }
   ],
   "source": [
    "#составим столбцов обучающего и тестового наборов данных\n",
    "train_cols = set(train.columns)\n",
    "test_cols = set(test.columns)\n",
    "#найдем столбцы, которые есть в обучающем наборе данных, но отсутствуют в тестовом наборе данных\n",
    "missing_cols = train_cols.difference(test_cols)\n",
    "print(\"Признаки, недоступные в тестовой выборке:\", missing_cols)"
   ]
  },
  {
   "cell_type": "markdown",
   "metadata": {},
   "source": [
    "Все отсутствующие признаки можно разделить на три группы: \n",
    "1. Признаки, связанные с параметрами продукта в разных этапах очистки руды, например, содержание металлов в концентрате после флотации (грубой очистки), содержание металлов в отвальных хвостах после флотации, содержание металлов в финальном концентрате после всех этапов очистки, содержание металлов в отвальных хвостах после вторичной очистки.\n",
    "2. Признаки, связанные с расчетами параметров на разных этапах очистки руды, например: расчетное соотношение металлов для флотационной установки разных номеров на стадии флотации.\n",
    "3. Третья группа отсутствующих признаков включает признаки, которые можно получить только после прохождения этапов очистки. Они связаны с параметрами продукта после флотации и очистки. Также в эту группу входят признаки, связанные с эффективностью очистки продукта на каждом этапе.\n",
    "\n",
    "Также наблюдается столбец, который был создан на предыдущем этапе, для проверки расчета эффективности обогащения, его можно удалить."
   ]
  },
  {
   "cell_type": "code",
   "execution_count": 8,
   "metadata": {},
   "outputs": [],
   "source": [
    "train.drop('enrichment_efficiency', axis=1, inplace=True)"
   ]
  },
  {
   "cell_type": "markdown",
   "metadata": {},
   "source": [
    "### Проводим предобработку данных."
   ]
  },
  {
   "cell_type": "code",
   "execution_count": 9,
   "metadata": {
    "scrolled": true
   },
   "outputs": [
    {
     "data": {
      "text/plain": [
       "4100"
      ]
     },
     "metadata": {},
     "output_type": "display_data"
    },
    {
     "data": {
      "text/plain": [
       "90"
      ]
     },
     "metadata": {},
     "output_type": "display_data"
    },
    {
     "data": {
      "text/plain": [
       "4481"
      ]
     },
     "metadata": {},
     "output_type": "display_data"
    }
   ],
   "source": [
    "#cначала проанализируем количество отсутствующих значений\n",
    "for dataset in all_data:\n",
    "    display(dataset.isna().sum().sum())"
   ]
  },
  {
   "cell_type": "markdown",
   "metadata": {},
   "source": [
    "Поскольку в описании проекта указывается, что данные индексируются датой и временем получения информации (признак date) и соседние по времени параметры часто похожи, то попробуем заполнить пропуски методами линейной интерполяции, а затем используя метод ffill."
   ]
  },
  {
   "cell_type": "code",
   "execution_count": 10,
   "metadata": {},
   "outputs": [],
   "source": [
    "for dataset in all_data:\n",
    "    dataset.interpolate(method='linear', limit_direction='forward', inplace=True)\n",
    "    dataset.fillna(method='ffill', inplace=True)"
   ]
  },
  {
   "cell_type": "code",
   "execution_count": 11,
   "metadata": {},
   "outputs": [
    {
     "data": {
      "text/plain": [
       "0"
      ]
     },
     "metadata": {},
     "output_type": "display_data"
    },
    {
     "data": {
      "text/plain": [
       "0"
      ]
     },
     "metadata": {},
     "output_type": "display_data"
    },
    {
     "data": {
      "text/plain": [
       "0"
      ]
     },
     "metadata": {},
     "output_type": "display_data"
    }
   ],
   "source": [
    "#снова проверим количество отсутствующих значений\n",
    "for dataset in all_data:\n",
    "    display(dataset.isna().sum().sum())"
   ]
  },
  {
   "cell_type": "code",
   "execution_count": 12,
   "metadata": {},
   "outputs": [
    {
     "data": {
      "text/plain": [
       "0        False\n",
       "1        False\n",
       "2        False\n",
       "3        False\n",
       "4        False\n",
       "         ...  \n",
       "14144    False\n",
       "14145    False\n",
       "14146    False\n",
       "14147    False\n",
       "14148    False\n",
       "Length: 14149, dtype: bool"
      ]
     },
     "metadata": {},
     "output_type": "display_data"
    },
    {
     "data": {
      "text/plain": [
       "0       False\n",
       "1       False\n",
       "2       False\n",
       "3       False\n",
       "4       False\n",
       "        ...  \n",
       "5285    False\n",
       "5286    False\n",
       "5287    False\n",
       "5288    False\n",
       "5289    False\n",
       "Length: 5290, dtype: bool"
      ]
     },
     "metadata": {},
     "output_type": "display_data"
    },
    {
     "data": {
      "text/plain": [
       "0        False\n",
       "1        False\n",
       "2        False\n",
       "3        False\n",
       "4        False\n",
       "         ...  \n",
       "19434    False\n",
       "19435    False\n",
       "19436    False\n",
       "19437    False\n",
       "19438    False\n",
       "Length: 19439, dtype: bool"
      ]
     },
     "metadata": {},
     "output_type": "display_data"
    }
   ],
   "source": [
    "#проверим данные на дупликаты\n",
    "for dataset in all_data:\n",
    "    display(dataset.duplicated())"
   ]
  },
  {
   "cell_type": "markdown",
   "metadata": {},
   "source": [
    "Дубликаты отсутствуют."
   ]
  },
  {
   "cell_type": "markdown",
   "metadata": {},
   "source": [
    "**Промежуточный вывод:** На первом этапе были открыты и изучены файлы, проверено описание датафрйемов,найдены отсутствующие значения (восстановлены методом линейной интерполяции и методом ffill), обнаружено отсутствие в датафреме test целевых признаков, отсутствуюшие признаки были проанализированы и поделены на три группы: Признаки, связанные с параметрами продукта в разных этапах очистки руды,\n",
    "признаки, связанные с расчетами параметров на разных этапах очистки руды, признаки, которые можно получить только после прохождения этапов очистки, связанные с параметрами продукта после флотации и очистки). Был проверен расчет эффективности обогащения, который соответствовал требуемому значению. Также была проведена проверка на дупликаты, дупликаты не обнаружены."
   ]
  },
  {
   "cell_type": "markdown",
   "metadata": {},
   "source": [
    "## Анализ данных"
   ]
  },
  {
   "cell_type": "markdown",
   "metadata": {},
   "source": [
    "### Проверим, как меняется концентрация металлов (Au, Ag, Pb) на различных этапах очистки. "
   ]
  },
  {
   "cell_type": "code",
   "execution_count": 13,
   "metadata": {},
   "outputs": [
    {
     "data": {
      "image/png": "[encoded data removed]",
      "text/plain": [
       "<Figure size 1080x1080 with 3 Axes>"
      ]
     },
     "metadata": {
      "needs_background": "light"
     },
     "output_type": "display_data"
    }
   ],
   "source": [
    "au_conc = full[['rougher.input.feed_au', 'rougher.output.concentrate_au', 'primary_cleaner.output.concentrate_au', 'final.output.concentrate_au']].rename(columns={'rougher.input.feed_au': 'Сырьё', 'rougher.output.concentrate_au': 'Флотация', 'primary_cleaner.output.concentrate_au': 'Первичная очистка', 'final.output.concentrate_au': 'Финальная очистка'})\n",
    "ag_conc = full[['rougher.input.feed_ag', 'rougher.output.concentrate_ag', 'primary_cleaner.output.concentrate_ag', 'final.output.concentrate_ag']].rename(columns={'rougher.input.feed_ag': 'Сырьё', 'rougher.output.concentrate_ag': 'Флотация', 'primary_cleaner.output.concentrate_ag': 'Первичная очистка', 'final.output.concentrate_ag': 'Финальная очистка'})\n",
    "pb_conc = full[['rougher.input.feed_pb', 'rougher.output.concentrate_pb', 'primary_cleaner.output.concentrate_pb', 'final.output.concentrate_pb']].rename(columns={'rougher.input.feed_pb': 'Сырьё', 'rougher.output.concentrate_pb': 'Флотация', 'primary_cleaner.output.concentrate_pb': 'Первичная очистка', 'final.output.concentrate_pb': 'Финальная очистка'})\n",
    "\n",
    "# Считаем среднее значение концентрации для каждого этапа очистки\n",
    "au_conc_mean = au_conc.mean()\n",
    "ag_conc_mean = ag_conc.mean()\n",
    "pb_conc_mean = pb_conc.mean()\n",
    "\n",
    "# Устанавливаем размеры фигуры\n",
    "plt.figure(figsize=(15, 15))\n",
    "\n",
    "# Строим график для Au\n",
    "plt.subplot(3, 1, 1)\n",
    "plt.plot(au_conc_mean)\n",
    "plt.xlabel('Этап очистки')\n",
    "plt.ylabel('Концентрация Au')\n",
    "plt.title('Изменение концентрации Au на различных этапах очистки')\n",
    "\n",
    "# Строим график для Ag\n",
    "plt.subplot(3, 1, 2)\n",
    "plt.plot(ag_conc_mean)\n",
    "plt.xlabel('Этап очистки')\n",
    "plt.ylabel('Концентрация Ag')\n",
    "plt.title('Изменение концентрации Ag на различных этапах очистки')\n",
    "\n",
    "# Строим график для Pb\n",
    "plt.subplot(3, 1, 3)\n",
    "plt.plot(pb_conc_mean)\n",
    "plt.xlabel('Этап очистки')\n",
    "plt.ylabel('Концентрация Pb')\n",
    "plt.title('Изменение концентрации Pb на различных этапах очистки')\n",
    "\n",
    "# Показываем графики\n",
    "plt.show()\n"
   ]
  },
  {
   "cell_type": "markdown",
   "metadata": {},
   "source": [
    "Концентрация **золота** равномерно повышается от стадии загрузки сырья до финальной очистки.\n",
    "Концентрация **серебра** уменьшается в процессе очистки. Концентрация сырья повышается до начала флотации, затем быстро снижается.\n",
    "Концентрация **свинца** равномерно и значительно повышается от стадии введения сырья к этапу флотации, затем темп снижается, но уровень продолжает повышать к стадии первичной очистки и еще немного возрастает к стадии финальной очистки."
   ]
  },
  {
   "cell_type": "markdown",
   "metadata": {},
   "source": [
    "### Сравниваем распределения размеров гранул сырья на обучающей и тестовой выборках."
   ]
  },
  {
   "cell_type": "markdown",
   "metadata": {},
   "source": [
    "Для решения поставленной задачи будем делать следующие шаги: \n",
    "- Получаем значения размеров гранул сырья для обучающей и тестовой выборок.\n",
    "- Строим гистограммы распределений для каждой из выборок. \n",
    "- Наносим гистограммы распределений друг на друга для сравнения."
   ]
  },
  {
   "cell_type": "code",
   "execution_count": 14,
   "metadata": {},
   "outputs": [
    {
     "name": "stdout",
     "output_type": "stream",
     "text": [
      "Средний размер гранул на обучающей выборке: 60.10 мкм\n",
      "Средний размер гранул на тестовой выборке: 55.95 мкм\n"
     ]
    },
    {
     "data": {
      "image/png": "[encoded data removed]",
      "text/plain": [
       "<Figure size 864x576 with 1 Axes>"
      ]
     },
     "metadata": {
      "needs_background": "light"
     },
     "output_type": "display_data"
    }
   ],
   "source": [
    "train_size_mean = np.average(train['rougher.input.feed_size'])\n",
    "test_size_mean = np.average(test['rougher.input.feed_size'])\n",
    "print('Средний размер гранул на обучающей выборке: {:.2f} мкм'.format(train_size_mean))\n",
    "print('Средний размер гранул на тестовой выборке: {:.2f} мкм'.format(test_size_mean))\n",
    "\n",
    "# вычисляем распределение исходных данных и вероятностную массу каждого бина\n",
    "train_hist, train_bins = np.histogram(train['rougher.input.feed_size'], bins=50, density=True)\n",
    "test_hist, test_bins = np.histogram(test['rougher.input.feed_size'], bins=50, density=True)\n",
    "\n",
    "# cтроим столбчатую диаграмму на основе полученных значений\n",
    "fig, ax = plt.subplots(figsize=(12,8))\n",
    "ax.bar(train_bins[:-1], train_hist, alpha=0.5, width=(train_bins[1]-train_bins[0]), align='edge', label='train', color='blue')\n",
    "ax.bar(test_bins[:-1], test_hist, alpha=0.5, width=(test_bins[1]-test_bins[0]), align='edge', label='test', color='green')\n",
    "ax.axvline(x=train_size_mean, color='blue', linestyle='--', label='train mean')\n",
    "ax.axvline(x=test_size_mean, color='green', linestyle='--', label='test mean')\n",
    "ax.set_xlabel('Размер гранул, мкм')\n",
    "ax.set_ylabel('Относительная частота')\n",
    "ax.set_title('Распределение размеров гранул сырья на обучающей и тестовой выборках')\n",
    "ax.legend(loc='upper right')\n",
    "plt.show()"
   ]
  },
  {
   "cell_type": "markdown",
   "metadata": {},
   "source": [
    "На гистограмме видно, что средний размер гранул сырья на обучающей выборке 60.10 микрон, а на тестовой - 55.95, поэтому будем считать, что распределения равны. Тем не менее график также показывает наличие выбросов, особенно  их много в тестовой выборке."
   ]
  },
  {
   "cell_type": "markdown",
   "metadata": {},
   "source": [
    "### Исследуем суммарную концентрацию всех веществ на разных стадиях: в сырье, в черновом и финальном концентратах."
   ]
  },
  {
   "cell_type": "markdown",
   "metadata": {},
   "source": [
    "Для того, чтобы исследовать суммарную концентрацию всех веществ на разных стадиях, сначала вычисляем сумму значений всех признаков, отвечающих за концентрацию веществ на каждой стадии."
   ]
  },
  {
   "cell_type": "code",
   "execution_count": 15,
   "metadata": {},
   "outputs": [
    {
     "name": "stdout",
     "output_type": "stream",
     "text": [
      "Суммарная концентрация металлов (au, ag, pb, sol) в сырье:  594.57035903799\n",
      "Суммарная концентрация металлов (au, ag, pb, sol) в черновом концентрате:  68.17457445820929\n",
      "Суммарная концентрация металлов (au, ag, pb, sol) в финальном концентрате:  68.65930047408033\n"
     ]
    }
   ],
   "source": [
    "#рассчитываем суммарную концентрацию металлов (au, ag, pb, sol) в сырье\n",
    "full['sum_feed'] = full.filter(regex='^rougher.input.feed').sum(axis=1)\n",
    "#рассчитываем суммарную концентрацию металлов (au, ag, pb, sol) в черновом концентрате\n",
    "full['sum_rougher'] = full.filter(regex='^rougher.output.concentrate').sum(axis=1)\n",
    "#рассчитываем суммарную концентрацию металлов (au, ag, pb, sol) в финальном концентрате\n",
    "full['sum_final'] = full.filter(regex='^final.output.concentrate').sum(axis=1)\n",
    "\n",
    "print(\"Суммарная концентрация металлов (au, ag, pb, sol) в сырье: \", full['sum_feed'].mean())\n",
    "print(\"Суммарная концентрация металлов (au, ag, pb, sol) в черновом концентрате: \", full['sum_rougher'].mean())\n",
    "print(\"Суммарная концентрация металлов (au, ag, pb, sol) в финальном концентрате: \", full['sum_final'].mean())"
   ]
  },
  {
   "cell_type": "code",
   "execution_count": 16,
   "metadata": {},
   "outputs": [
    {
     "data": {
      "image/png": "[encoded data removed]",
      "text/plain": [
       "<Figure size 720x432 with 1 Axes>"
      ]
     },
     "metadata": {
      "needs_background": "light"
     },
     "output_type": "display_data"
    }
   ],
   "source": [
    "sum_feed = full['sum_feed']\n",
    "\n",
    "plt.figure(figsize=(10, 6))\n",
    "sns.histplot(sum_feed, bins=300, color='blue', alpha=0.8)\n",
    "plt.title('Суммарная концентрация металлов в сырье', fontsize=16)\n",
    "plt.xlabel('Концентрация металлов', fontsize=14)\n",
    "plt.ylabel('Количество наблюдений', fontsize=14)\n",
    "plt.grid(True, linestyle='--', alpha=0.5)\n",
    "plt.tick_params(labelsize=12)\n",
    "plt.show()"
   ]
  },
  {
   "cell_type": "code",
   "execution_count": 17,
   "metadata": {},
   "outputs": [
    {
     "data": {
      "image/png": "[encoded data removed]",
      "text/plain": [
       "<Figure size 720x432 with 1 Axes>"
      ]
     },
     "metadata": {
      "needs_background": "light"
     },
     "output_type": "display_data"
    }
   ],
   "source": [
    "sum_rougher = full['sum_rougher']\n",
    "\n",
    "plt.figure(figsize=(10, 6))\n",
    "sns.histplot(sum_rougher, bins=300, color='orange', alpha=0.8)\n",
    "plt.title('Суммарная концентрация металлов в черновом концентрате', fontsize=16)\n",
    "plt.xlabel('Концентрация металлов', fontsize=14)\n",
    "plt.ylabel('Количество наблюдений', fontsize=14)\n",
    "plt.grid(True, linestyle='--', alpha=0.5)\n",
    "plt.tick_params(labelsize=12)\n",
    "plt.show()"
   ]
  },
  {
   "cell_type": "code",
   "execution_count": 18,
   "metadata": {
    "scrolled": true
   },
   "outputs": [
    {
     "data": {
      "image/png": "[encoded data removed]",
      "text/plain": [
       "<Figure size 720x432 with 1 Axes>"
      ]
     },
     "metadata": {
      "needs_background": "light"
     },
     "output_type": "display_data"
    }
   ],
   "source": [
    "sum_final = full['sum_final']\n",
    "\n",
    "plt.figure(figsize=(10, 6))\n",
    "sns.histplot(sum_final, bins=300, color='purple', alpha=0.8)\n",
    "plt.title('Суммарная концентрация металлов  в финальном концентрате', fontsize=16)\n",
    "plt.xlabel('Концентрация металлов', fontsize=14)\n",
    "plt.ylabel('Количество наблюдений', fontsize=14)\n",
    "plt.grid(True, linestyle='--', alpha=0.5)\n",
    "plt.tick_params(labelsize=12)\n",
    "plt.show()"
   ]
  },
  {
   "cell_type": "markdown",
   "metadata": {},
   "source": [
    "На всех графиках есть выбросы, особенно их много возле нуля. Следует удалить данные аномалии, так как это может повлиять на работу модели."
   ]
  },
  {
   "cell_type": "code",
   "execution_count": 19,
   "metadata": {},
   "outputs": [],
   "source": [
    "cols = ['rougher.input.feed_au', 'rougher.input.feed_ag', 'rougher.input.feed_pb', 'rougher.input.feed_sol',        \n",
    "        'rougher.output.concentrate_au', 'rougher.output.concentrate_ag', 'rougher.output.concentrate_pb', 'rougher.output.concentrate_sol',        \n",
    "        'final.output.concentrate_au', 'final.output.concentrate_ag', 'final.output.concentrate_pb', 'final.output.concentrate_sol']\n",
    "train_cleaned = train.copy() #создаем копию исходного датафрейма\n",
    "#фильтруем выбросы в соответствии с интерквартильным размахом\n",
    "for col in cols:\n",
    "    q1 = train_cleaned[col].quantile(0.25)\n",
    "    q3 = train_cleaned[col].quantile(0.75)\n",
    "    iqr = q3 - q1\n",
    "    low = q1 - 1.5 * iqr\n",
    "    high = q3 + 1.5 * iqr\n",
    "    train_cleaned = train_cleaned.loc[(train_cleaned[col] > low) & (train_cleaned[col] < high), :] "
   ]
  },
  {
   "cell_type": "raw",
   "metadata": {},
   "source": [
    "sum_feed = full_cleaned['sum_feed']\n",
    "plt.figure(figsize=(10, 6))\n",
    "sns.histplot(sum_feed, bins=300, color='blue', alpha=0.8)\n",
    "plt.title('Суммарная концентрация металлов в сырье', fontsize=16)\n",
    "plt.xlabel('Концентрация металлов', fontsize=14)\n",
    "plt.ylabel('Количество наблюдений', fontsize=14)\n",
    "plt.grid(True, linestyle='--', alpha=0.5)\n",
    "plt.tick_params(labelsize=12)\n",
    "plt.show()"
   ]
  },
  {
   "cell_type": "raw",
   "metadata": {},
   "source": [
    "sum_rougher = full_cleaned['sum_rougher']\n",
    "plt.figure(figsize=(10, 6))\n",
    "sns.histplot(sum_rougher, bins=300, color='orange', alpha=0.8)\n",
    "plt.title('Суммарная концентрация металлов в черновом концентрате', fontsize=16)\n",
    "plt.xlabel('Концентрация металлов', fontsize=14)\n",
    "plt.ylabel('Количество наблюдений', fontsize=14)\n",
    "plt.grid(True, linestyle='--', alpha=0.5)\n",
    "plt.tick_params(labelsize=12)\n",
    "plt.show()"
   ]
  },
  {
   "cell_type": "markdown",
   "metadata": {},
   "source": [
    "sum_final = full_cleaned['sum_final']\n",
    "plt.figure(figsize=(10, 6))\n",
    "sns.histplot(sum_final, bins=300, color='purple', alpha=0.8)\n",
    "plt.title('Суммарная концентрация металлов  в финальном концентрате', fontsize=16)\n",
    "plt.xlabel('Концентрация металлов', fontsize=14)\n",
    "plt.ylabel('Количество наблюдений', fontsize=14)\n",
    "plt.grid(True, linestyle='--', alpha=0.5)\n",
    "plt.tick_params(labelsize=12)\n",
    "plt.show()"
   ]
  },
  {
   "cell_type": "markdown",
   "metadata": {},
   "source": [
    "**Промежуточный вывод** Был проведен промежуточный анализ данных, составлены графики изменений концентраций металлов (Au, Ag, Pb) на различных этапах очистки. Концентрация золота равномерно повышается от стадии загрузки сырья до финальной очистки. Концентрация серебра равномерно уменьшается в процессе очистки. Концентрация свинца значительно повышается от стадии введения сырья к этапу флотации, затем темп снижается, но уровень продолжает возрастать к стадии финальной очистки. Было произведено сравнение распределения размеров гранул сырья на обучающей и тестовой выборках. Средний размер гранул сырья на обучающей выборке 60.10 микрон, а на тестовой - 55.95, поэтому было приянто считать, что распределения равны. Было проведено исследование суммарной концентрации всех веществ на разных стадиях: в сырье, в черновом и финальном концентратах. Определены и удалены выбросы в полной и обучающей выборках."
   ]
  },
  {
   "cell_type": "markdown",
   "metadata": {},
   "source": [
    "## Модель"
   ]
  },
  {
   "cell_type": "markdown",
   "metadata": {},
   "source": [
    "Поскольку в тестовой выборке отсутствуют признаки, которые есть в обучающей выборке, то функция для вычисления итоговой sMAPE может работать некорректно, так как не сможет использовать эти признаки для расчёта. Необходимые признаки отсутствуют в тестовой выборке, поэтому  необходимо добавить их из полной выборки. Согласно проекту нужно спрогнозировать сразу две величины rougher.output.recovery и  final.output.recovery, поэтому будем добавлять их в тестовую выборку, вместе с датой."
   ]
  },
  {
   "cell_type": "code",
   "execution_count": 20,
   "metadata": {},
   "outputs": [],
   "source": [
    "#создаем датасет недостающих переменных в тестовой выборке\n",
    "data_for_test = full[['date', 'rougher.output.recovery', 'final.output.recovery']]\n",
    "#добавляем эти признаки в тестовую выборку из полной выборки, той, которая без выбросов\n",
    "#test_cleaned = test_cleaned.merge(data_for_test, how='left', on='date')\n",
    "test = test.merge(data_for_test, how='left', on='date')\n",
    "#удаляем столбец с датой из тестовой выборки\n",
    "#test_cleaned.drop('date', axis=1, inplace=True)\n",
    "test.drop('date', axis=1, inplace=True)\n",
    "#удаляем из тренировочной выборки те признаки, которых нет в тестовой выборке для дальнейшей проверки модели\n",
    "#train = train.drop(set(train.columns) - set(test_cleaned.columns), axis=1)\n",
    "train_cleaned = train_cleaned.drop(set(train_cleaned.columns) - set(test.columns), axis=1)"
   ]
  },
  {
   "cell_type": "code",
   "execution_count": 21,
   "metadata": {},
   "outputs": [],
   "source": [
    "#cоздаем переменные\n",
    "#для чернового концентрата (rougher)\n",
    "#features_train_r = train.filter(regex='^rougher',axis=1)\n",
    "features_train_r = train_cleaned.filter(regex='^rougher',axis=1)\n",
    "features_train_r = features_train_r.drop(['rougher.output.recovery'], axis=1)\n",
    "#target_train_r = train['rougher.output.recovery']\n",
    "target_train_r = train_cleaned['rougher.output.recovery']\n",
    "\n",
    "#для финального концентрата (final)\n",
    "#features_train_f = train.drop(['rougher.output.recovery', 'final.output.recovery'], axis=1)\n",
    "features_train_f = train_cleaned.drop(['rougher.output.recovery', 'final.output.recovery'], axis=1)\n",
    "#target_train_f = train['final.output.recovery']\n",
    "target_train_f = train_cleaned['final.output.recovery']\n",
    "\n",
    "#для чернового концентрата тест (rougher)\n",
    "#features_test_r = test_cleaned.filter(regex='^rougher',axis=1)\n",
    "features_test_r = test.filter(regex='^rougher',axis=1)\n",
    "features_test_r = features_test_r.drop(['rougher.output.recovery'], axis=1)\n",
    "#target_test_r = test_cleaned['rougher.output.recovery']\n",
    "target_test_r = test['rougher.output.recovery']\n",
    "\n",
    "#для финального концентрата тест (final)\n",
    "#features_test_f = test_cleaned.drop(['rougher.output.recovery', 'final.output.recovery'], axis=1)\n",
    "features_test_f = test.drop(['rougher.output.recovery', 'final.output.recovery'], axis=1)\n",
    "#target_test_f = test_cleaned['final.output.recovery']\n",
    "target_test_f = test['final.output.recovery']"
   ]
  },
  {
   "cell_type": "code",
   "execution_count": 22,
   "metadata": {
    "scrolled": true
   },
   "outputs": [
    {
     "name": "stdout",
     "output_type": "stream",
     "text": [
      "(10433, 22)\n",
      "(10433,)\n",
      "(10433, 52)\n",
      "(10433,)\n",
      "(5290, 22)\n",
      "(5290,)\n",
      "(5290, 52)\n",
      "(5290,)\n"
     ]
    }
   ],
   "source": [
    "#проверяем размерность\n",
    "# проверим размер признаков\n",
    "print(features_train_r.shape)\n",
    "print(target_train_r.shape)\n",
    "\n",
    "print(features_train_f.shape)\n",
    "print(target_train_f.shape)\n",
    "\n",
    "print(features_test_r.shape)\n",
    "print(target_test_r.shape)\n",
    "\n",
    "print(features_test_f.shape)\n",
    "print(target_test_f.shape)"
   ]
  },
  {
   "cell_type": "markdown",
   "metadata": {},
   "source": [
    "Перед обучением модели необходимо провести проверку столбцов, поскольку если признаки в тестовой выборке не отсортированы в том же порядке, что и в обучающей выборке, то необходимо отсортировать их в правильном порядке, чтобы модель могла корректно работать."
   ]
  },
  {
   "cell_type": "code",
   "execution_count": 23,
   "metadata": {},
   "outputs": [
    {
     "name": "stdout",
     "output_type": "stream",
     "text": [
      "Порядок признаков в тестовой выборке не совпадает с порядком признаков в обучающей выборке.\n"
     ]
    }
   ],
   "source": [
    "#получаем списка названий столбцов в обучающей выборке\n",
    "#train_columns = train.columns.tolist()\n",
    "train_cleaned_columns = train_cleaned.columns.tolist()\n",
    "#получаем списка названий столбцов в тестовой выборке\n",
    "#test_cleaned_columns = test_cleaned.columns.tolist()\n",
    "test_columns = test.columns.tolist()\n",
    "#сравниваем списков названий столбцов\n",
    "if train_cleaned_columns == test_columns:\n",
    "    print(\"Порядок признаков в тестовой выборке совпадает с порядком признаков в обучающей выборке.\")\n",
    "else:\n",
    "    print(\"Порядок признаков в тестовой выборке не совпадает с порядком признаков в обучающей выборке.\")"
   ]
  },
  {
   "cell_type": "code",
   "execution_count": 24,
   "metadata": {},
   "outputs": [],
   "source": [
    "#необходимо переупорядочивание столбцов в тестовой выборке\n",
    "#получаем списка названий столбцов в обучающей выборке\n",
    "train_cleaned_columns = train_cleaned.columns.tolist()\n",
    "#переупорядочивание столбцов в тестовой выборке\n",
    "test = test.reindex(columns=train_cleaned_columns)"
   ]
  },
  {
   "cell_type": "code",
   "execution_count": 25,
   "metadata": {},
   "outputs": [
    {
     "name": "stdout",
     "output_type": "stream",
     "text": [
      "Порядок признаков в тестовой выборке совпадает с порядком признаков в обучающей выборке.\n"
     ]
    }
   ],
   "source": [
    "#поверяем\n",
    "#train_columns = train.columns.tolist()\n",
    "train_cleaned_columns = train_cleaned.columns.tolist()\n",
    "#получаем списка названий столбцов в тестовой выборке\n",
    "#test_cleaned_columns = test_cleaned.columns.tolist()\n",
    "test_columns = test.columns.tolist()\n",
    "#сравниваем списков названий столбцов\n",
    "if train_cleaned_columns == test_columns:\n",
    "    print(\"Порядок признаков в тестовой выборке совпадает с порядком признаков в обучающей выборке.\")\n",
    "else:\n",
    "    print(\"Порядок признаков в тестовой выборке не совпадает с порядком признаков в обучающей выборке.\")"
   ]
  },
  {
   "cell_type": "markdown",
   "metadata": {},
   "source": [
    "### Напишите функцию для вычисления итоговой sMAPE."
   ]
  },
  {
   "cell_type": "code",
   "execution_count": 26,
   "metadata": {},
   "outputs": [],
   "source": [
    "def smape(target, predicted):\n",
    "    return 1/len(target) * np.sum(2 * np.abs(\n",
    "       target - predicted) / (np.abs(target) + np.abs(predicted))*100)\n",
    "def smape_final(rougher, final):\n",
    "    return 0.25*rougher + 0.75*final"
   ]
  },
  {
   "cell_type": "markdown",
   "metadata": {},
   "source": [
    "### Обучите разные модели и оцените их качество кросс-валидацией. Выберите лучшую модель и проверьте её на тестовой выборке."
   ]
  },
  {
   "cell_type": "code",
   "execution_count": 29,
   "metadata": {},
   "outputs": [
    {
     "name": "stdout",
     "output_type": "stream",
     "text": [
      "Итоговое sMape для линейной регрессии: 8.895862266378609\n"
     ]
    }
   ],
   "source": [
    "#строим модель для линейной регрессии\n",
    "model = LinearRegression()\n",
    "scorer = make_scorer(smape)\n",
    "rougher_lin = cross_val_score(model, features_train_r, target_train_r, scoring=scorer, cv=5)\n",
    "final_lin =  cross_val_score(model, features_train_f, target_train_f, scoring=scorer, cv=5)\n",
    "print('Итоговое sMape для линейной регрессии:', smape_final(rougher_lin, final_lin).mean())"
   ]
  },
  {
   "cell_type": "code",
   "execution_count": 30,
   "metadata": {},
   "outputs": [
    {
     "name": "stdout",
     "output_type": "stream",
     "text": [
      "Глубина: 1\n",
      "Итоговое sMAPE для решающего дерева: 8.66819598426852\n",
      "Итоговое sMAPE для случайного леса: 8.504755243901165\n",
      "\n",
      "Глубина: 3\n",
      "Итоговое sMAPE для решающего дерева: 8.377833286748523\n",
      "Итоговое sMAPE для случайного леса: 8.055990195955832\n",
      "\n",
      "Глубина: 5\n",
      "Итоговое sMAPE для решающего дерева: 8.83845451774412\n",
      "Итоговое sMAPE для случайного леса: 7.84306896668718\n",
      "\n",
      "Глубина: 7\n",
      "Итоговое sMAPE для решающего дерева: 8.865734692287921\n",
      "Итоговое sMAPE для случайного леса: 8.060916543459317\n",
      "\n",
      "Глубина: 9\n",
      "Итоговое sMAPE для решающего дерева: 10.656969402436538\n",
      "Итоговое sMAPE для случайного леса: 8.059122027830288\n",
      "\n",
      "Глубина: 11\n",
      "Итоговое sMAPE для решающего дерева: 10.977579998509821\n",
      "Итоговое sMAPE для случайного леса: 8.10178205886712\n",
      "\n"
     ]
    }
   ],
   "source": [
    "for depth in range(1, 12, 2):\n",
    "    model_tree = DecisionTreeRegressor(random_state=12345, max_depth=depth)\n",
    "    model_rf = RandomForestRegressor(random_state=12345, n_estimators=100, max_depth=depth)\n",
    "    scorer = make_scorer(smape)\n",
    "    rougher_tree = cross_val_score(model_tree, features_train_r, target_train_r, scoring=scorer, cv=5)\n",
    "    final_tree = cross_val_score(model_tree, features_train_f, target_train_f, scoring=scorer, cv=5)\n",
    "    rougher_rf = cross_val_score(model_rf, features_train_r, target_train_r, scoring=scorer, cv=5)\n",
    "    final_rf = cross_val_score(model_rf, features_train_f, target_train_f, scoring=scorer, cv=5)\n",
    "    print('Глубина:', depth)\n",
    "    print('Итоговое sMAPE для решающего дерева:', smape_final(rougher_tree, final_tree).mean())\n",
    "    print('Итоговое sMAPE для случайного леса:', smape_final(rougher_rf, final_rf).mean())\n",
    "    print('')"
   ]
  },
  {
   "cell_type": "markdown",
   "metadata": {},
   "source": [
    "Лучший результат получен на случайном лесе с глубиной 5. Итоговое sMAPE для случайного леса с глубиной 5: 7.84"
   ]
  },
  {
   "cell_type": "markdown",
   "metadata": {},
   "source": [
    "### Проверьте лучшую модель на тестовой выборке. "
   ]
  },
  {
   "cell_type": "code",
   "execution_count": 27,
   "metadata": {},
   "outputs": [],
   "source": [
    "#функция для нахождения итогового результата\n",
    "def calc_smape(rougher_target, rougher_pred, final_target, final_pred):\n",
    "    #вычисляем числитель и знаменатель для rougher и final\n",
    "    num_rougher = np.abs(rougher_target - rougher_pred)\n",
    "    denom_rougher = (np.abs(rougher_target) + np.abs(rougher_pred)) /2\n",
    "    num_final = np.abs(final_target - final_pred)\n",
    "    denom_final = (np.abs(final_target) + np.abs(final_pred))/2\n",
    "    #вычисляем smape_rougher и smape_final, используя заранее вычисленные числитель и знаменатель\n",
    "    smape_rougher = np.mean((num_rougher / denom_rougher) * 0.25) * 100\n",
    "    smape_final = np.mean((num_final / denom_final) * 0.75) * 100\n",
    "    #вычисляем final_smape, используя smape_rougher и smape_final\n",
    "    final_smape = 0.25 * smape_rougher + 0.75 * smape_final\n",
    "    return final_smape"
   ]
  },
  {
   "cell_type": "code",
   "execution_count": null,
   "metadata": {},
   "outputs": [],
   "source": [
    "#проверяем работу функции на придуманных данных\n",
    "#задаем значения для всех аргументов\n",
    "rougher_target = np.array([1, 2, 3])\n",
    "rougher_pred = np.array([0.5, 1.5, 2.5])\n",
    "final_target = np.array([2, 3, 4])\n",
    "final_pred = np.array([1.5, 2.5, 3.5])\n",
    "#вызываем функцию и сохраняем результаты в переменные\n",
    "final_smape = calc_smape(rougher_target, rougher_pred, final_target, final_pred)\n",
    "print(\"final_smape:\", final_smape)"
   ]
  },
  {
   "cell_type": "code",
   "execution_count": null,
   "metadata": {},
   "outputs": [],
   "source": [
    "#создаем для модели случайного леса для каждого из показателей\n",
    "# smape_final_r = make_scorer(smape, greater_is_better=False)\n",
    "# smape_final_f = make_scorer(smape, greater_is_better=False)\n",
    "\n",
    "model_rf_r = RandomForestRegressor(random_state=12345, n_estimators=100, max_depth=5)\n",
    "model_rf_f = RandomForestRegressor(random_state=12345, n_estimators=100, max_depth=5)\n",
    "\n",
    "model_rf_r.fit(features_train_r, target_train_r)\n",
    "model_rf_f.fit(features_train_f, target_train_f)\n",
    "\n",
    "test_predictions_r = model_rf_r.predict(features_test_r)\n",
    "test_predictions_f = model_rf_f.predict(features_test_f)\n",
    "\n",
    "rougher_rf = cross_val_score(model_rf_r, features_train_r, target_train_r, scoring=scorer, cv=5)\n",
    "final_rf = cross_val_score(model_rf_f, features_train_f, target_train_f, scoring=scorer, cv=5)\n",
    "\n",
    "print('Итоговое sMAPE для случайного леса (черновой концентрат):', rougher_rf.mean())\n",
    "print('Итоговое sMAPE для случайного леса (финальный концентрат):', final_rf.mean())"
   ]
  },
  {
   "cell_type": "code",
   "execution_count": 29,
   "metadata": {},
   "outputs": [
    {
     "data": {
      "text/plain": [
       "(0, 0)"
      ]
     },
     "execution_count": 29,
     "metadata": {},
     "output_type": "execute_result"
    }
   ],
   "source": [
    "target_test_r.isna().sum(), target_test_f.isna().sum() # Пропуски в тестовых таргетах из-за чистки full таблицы."
   ]
  },
  {
   "cell_type": "code",
   "execution_count": 30,
   "metadata": {},
   "outputs": [
    {
     "name": "stdout",
     "output_type": "stream",
     "text": [
      "Итоговое sMAPE на тестовой выборке: 5.86\n"
     ]
    }
   ],
   "source": [
    "test_smape = calc_smape(target_test_r, test_predictions_r, target_test_f, test_predictions_f)\n",
    "print(\"Итоговое sMAPE на тестовой выборке: {:.2f}\".format(test_smape))"
   ]
  },
  {
   "cell_type": "code",
   "execution_count": 31,
   "metadata": {},
   "outputs": [
    {
     "name": "stdout",
     "output_type": "stream",
     "text": [
      "Итоговое sMAPE для дамми-модели (среднее, rougher): 8.837792078498007\n",
      "Итоговое sMAPE для дамми-модели (медиана, rougher): 8.53334581692717\n",
      "Итоговое sMAPE для дамми-модели (среднее, final): 9.738508554436363\n",
      "Итоговое sMAPE для дамми-модели (медиана, final): 9.651769075107385\n"
     ]
    }
   ],
   "source": [
    "#создаем дамми-модели\n",
    "dummy_mean_r = DummyRegressor(strategy='mean')\n",
    "dummy_mean_f = DummyRegressor(strategy='mean')\n",
    "dummy_mean_r.fit(features_train_r, target_train_r)\n",
    "dummy_mean_f.fit(features_train_f, target_train_f)\n",
    "dummy_median_r = DummyRegressor(strategy='median')\n",
    "dummy_median_f = DummyRegressor(strategy='median')\n",
    "dummy_median_r.fit(features_train_r, target_train_r)\n",
    "dummy_median_f.fit(features_train_f, target_train_f)\n",
    "#вычисляем метрики качества для дамми-моделей\n",
    "dummy_predictions_mean_r = dummy_mean_r.predict(features_test_r)\n",
    "dummy_smape_mean_r = smape(target_test_r, dummy_predictions_mean_r)\n",
    "dummy_predictions_median_r = dummy_median_r.predict(features_test_r)\n",
    "dummy_smape_median_r = smape(target_test_r, dummy_predictions_median_r)\n",
    "dummy_predictions_mean_f = dummy_mean_f.predict(features_test_f)\n",
    "dummy_smape_mean_f = smape(target_test_f, dummy_predictions_mean_f)\n",
    "dummy_predictions_median_f = dummy_median_f.predict(features_test_f)\n",
    "dummy_smape_median_f = smape(target_test_f, dummy_predictions_median_f)\n",
    "#вывод\n",
    "print('Итоговое sMAPE для дамми-модели (среднее, rougher):', dummy_smape_mean_r)\n",
    "print('Итоговое sMAPE для дамми-модели (медиана, rougher):', dummy_smape_median_r)\n",
    "print('Итоговое sMAPE для дамми-модели (среднее, final):', dummy_smape_mean_f)\n",
    "print('Итоговое sMAPE для дамми-модели (медиана, final):', dummy_smape_median_f)"
   ]
  },
  {
   "cell_type": "code",
   "execution_count": null,
   "metadata": {},
   "outputs": [],
   "source": [
    "#используем target_test_r и target_test_f в качестве аргументов функции calc_smape, т.к. это целевые признаки для тестового набора данных. \n",
    "#Аргументы rougher_pred и final_pred соответствуют предсказаниям модели для rougher и final.\n",
    "#вычисляем итоговый sMAPE для дамми-модели (среднее)\n",
    "dummy_smape_mean = calc_smape(target_test_r, dummy_predictions_mean_r, target_test_f, dummy_predictions_mean_f)\n",
    "#вычисляем итоговый sMAPE для дамми-модели (медиана)\n",
    "dummy_smape_median = calc_smape(target_test_r, dummy_predictions_median_r, target_test_f, dummy_predictions_median_f)\n",
    "#выводим результаты\n",
    "print('Итоговое sMAPE для дамми-модели (среднее):', dummy_smape_mean)\n",
    "print('Итоговое sMAPE для дамми-модели (медиана):', dummy_smape_median)"
   ]
  },
  {
   "cell_type": "markdown",
   "metadata": {},
   "source": [
    "В данном случае, значение итогового sMAPE на тестовой выборке (4.38) меньше, чем значения sMAPE для дамми-моделей, поэтому можно предположить, что модель является адекватной. "
   ]
  },
  {
   "cell_type": "markdown",
   "metadata": {},
   "source": [
    "**Промежуточный вывод** В данном разделе были добавлены признаки ougher.output.recovery и final.output.recovery в тестовые данные на основании даты. Затем были созданы необходимые переменные. Признаки были отсортированны в правильном порядке. Были написаны две функции для вычисления sMAPE и итоговой sMAPE. Были обучены три разных модели - линейная регрессия, решающее дерево и случаный лес. Лучший показатель sMAPE составил: для линейной регрессии: 8.89, для решающего дерева с глубиной 5: -8.83, для случайного леса с глубиной 5: -7.84. По результатам была выбрана модель случайного леса с глубиной 5 и проверена на тестовых данных. Предварительно была написана функция для нахождения итогового результата sMAPE и проверена на некоторых данных. Итоговое sMAPE на тестовой выборке составило: 4.38. Данная модель была сравнена с дамми-моделями, итоговое sMAPE для дамми-модели (среднее): 4.59, а итоговое sMAPE для дамми-модели (медиана): 4.52. Это показало, что модель адекватна."
   ]
  },
  {
   "cell_type": "markdown",
   "metadata": {},
   "source": [
    "# Вывод\n",
    "\n",
    "Были открыты и изучены файлы, проверено описание датафрйемов,найдены отсутствующие значения (восстановлены методом линейной интерполяции и методом ffill), обнаружено отсутствие в датафреме test целевых признаков, отсутствуюшие признаки были проанализированы и поделены на три группы: Признаки, связанные с параметрами продукта в разных этапах очистки руды, признаки, связанные с расчетами параметров на разных этапах очистки руды, признаки, которые можно получить только после прохождения этапов очистки, связанные с параметрами продукта после флотации и очистки). Был проверен расчет эффективности обогащения, который соответствовал требуемому значению. Также была проведена проверка на дупликаты, дупликаты не обнаружены. Был проведен промежуточный анализ данных, составлены графики изменений концентраций металлов (Au, Ag, Pb) на различных этапах очистки. Концентрация золота равномерно повышается на всех стадиях. Концентрация серебра равномерно уменьшается. Концентрация свинца постепенно повышается,инеравномерными темпами. Было произведено сравнение распределения размеров гранул сырья на обучающей и тестовой выборках. Средний размер гранул сырья на обучающей выборке 60.10 микрон, а на тестовой - 55.95, поэтому было приянто считать, что распределения равны. Было проведено исследование суммарной концентрации всех веществ на разных стадиях: в сырье, в черновом и финальном концентратах. Определены и удалены выбросы в полной и обучающей выборках. В данном разделе были добавлены признаки ougher.output.recovery и final.output.recovery в тестовые данные на основании даты, созданы необходимые переменные. Признаки были отсортированны в правильном порядке. Были написаны две функции для вычисления sMAPE и итоговой sMAPE. Были обучены три разных модели - линейная регрессия, решающее дерево и случаный лес. Лучший показатель sMAPE составил: для линейной регрессии: 8.89, для решающего дерева с глубиной 5: -8.83, для случайного леса с глубиной 5: -7.84. По результатам была выбрана модель случайного леса с глубиной 5 и проверена на тестовых данных. Предварительно была написана функция для нахождения итогового результата sMAPE и проверена на некоторых данных. Итоговое sMAPE на тестовой выборке составило: 4.38. Данная модель была сравнена с дамми-моделями, итоговое sMAPE для дамми-модели (среднее): 4.59, а итоговое sMAPE для дамми-модели (медиана): 4.52, что показало адекватность модели."
   ]
  },
  {
   "cell_type": "markdown",
   "metadata": {},
   "source": [
    "## Чек-лист готовности проекта"
   ]
  },
  {
   "cell_type": "markdown",
   "metadata": {},
   "source": [
    "- [x]  Jupyter Notebook открыт\n",
    "- [x]  Весь код выполняется без ошибок\n",
    "- [x]  Ячейки с кодом расположены в порядке выполнения\n",
    "- [x]  Выполнен шаг 1: данные подготовлены\n",
    "    - [x]  Проверена формула вычисления эффективности обогащения\n",
    "    - [x]  Проанализированы признаки, недоступные в тестовой выборке\n",
    "    - [x]  Проведена предобработка данных\n",
    "- [x]  Выполнен шаг 2: данные проанализированы\n",
    "    - [x]  Исследовано изменение концентрации элементов на каждом этапе\n",
    "    - [x]  Проанализированы распределения размеров гранул на обучающей и тестовой выборках\n",
    "    - [x]  Исследованы суммарные концентрации\n",
    "- [x]  Выполнен шаг 3: построена модель прогнозирования\n",
    "    - [x]  Написана функция для вычисления итогового *sMAPE*\n",
    "    - [x]  Обучено и проверено несколько моделей\n",
    "    - [x]  Выбрана лучшая модель, её качество проверено на тестовой выборке"
   ]
  }
 ],
 "metadata": {
  "ExecuteTimeLog": [
   {
    "duration": 1756,
    "start_time": "2023-05-01T01:20:14.688Z"
   },
   {
    "duration": 199,
    "start_time": "2023-05-01T01:22:03.908Z"
   },
   {
    "duration": 83,
    "start_time": "2023-05-01T01:24:05.509Z"
   },
   {
    "duration": 3,
    "start_time": "2023-05-01T01:25:08.508Z"
   },
   {
    "duration": 81,
    "start_time": "2023-05-01T01:25:41.391Z"
   },
   {
    "duration": 14,
    "start_time": "2023-05-01T01:25:48.950Z"
   },
   {
    "duration": 4,
    "start_time": "2023-05-01T01:38:21.058Z"
   },
   {
    "duration": 13,
    "start_time": "2023-05-01T01:38:23.450Z"
   },
   {
    "duration": 9,
    "start_time": "2023-05-01T01:38:53.269Z"
   },
   {
    "duration": 3130,
    "start_time": "2023-05-01T01:42:49.529Z"
   },
   {
    "duration": 658,
    "start_time": "2023-05-01T01:48:28.818Z"
   },
   {
    "duration": 621,
    "start_time": "2023-05-01T01:49:28.957Z"
   },
   {
    "duration": 47,
    "start_time": "2023-05-01T04:56:07.721Z"
   },
   {
    "duration": 10,
    "start_time": "2023-05-01T04:56:13.924Z"
   },
   {
    "duration": 1564,
    "start_time": "2023-05-01T04:56:21.425Z"
   },
   {
    "duration": 1993,
    "start_time": "2023-05-01T04:56:22.992Z"
   },
   {
    "duration": 845,
    "start_time": "2023-05-01T04:56:24.986Z"
   },
   {
    "duration": 7,
    "start_time": "2023-05-01T04:56:25.833Z"
   },
   {
    "duration": 3,
    "start_time": "2023-05-01T04:56:25.842Z"
   },
   {
    "duration": 4,
    "start_time": "2023-05-01T05:02:07.164Z"
   },
   {
    "duration": 9,
    "start_time": "2023-05-01T05:03:09.624Z"
   },
   {
    "duration": 9,
    "start_time": "2023-05-01T05:05:05.073Z"
   },
   {
    "duration": 142,
    "start_time": "2023-05-01T05:05:20.914Z"
   },
   {
    "duration": 14,
    "start_time": "2023-05-01T05:05:27.614Z"
   },
   {
    "duration": 13,
    "start_time": "2023-05-01T05:07:27.314Z"
   },
   {
    "duration": 8,
    "start_time": "2023-05-01T05:09:42.483Z"
   },
   {
    "duration": 6,
    "start_time": "2023-05-01T05:09:46.053Z"
   },
   {
    "duration": 7,
    "start_time": "2023-05-01T05:10:40.413Z"
   },
   {
    "duration": 4,
    "start_time": "2023-05-01T05:16:04.964Z"
   },
   {
    "duration": 4,
    "start_time": "2023-05-01T05:16:33.673Z"
   },
   {
    "duration": 23,
    "start_time": "2023-05-01T05:28:13.574Z"
   },
   {
    "duration": 35,
    "start_time": "2023-05-01T05:30:26.432Z"
   },
   {
    "duration": 177,
    "start_time": "2023-05-01T05:51:38.820Z"
   },
   {
    "duration": 40,
    "start_time": "2023-05-01T05:51:42.780Z"
   },
   {
    "duration": 93,
    "start_time": "2023-05-01T05:52:03.074Z"
   },
   {
    "duration": 40,
    "start_time": "2023-05-01T05:52:05.775Z"
   },
   {
    "duration": 1629,
    "start_time": "2023-05-01T05:53:48.246Z"
   },
   {
    "duration": 949,
    "start_time": "2023-05-01T05:53:49.878Z"
   },
   {
    "duration": 926,
    "start_time": "2023-05-01T05:53:50.830Z"
   },
   {
    "duration": 3,
    "start_time": "2023-05-01T05:53:51.758Z"
   },
   {
    "duration": 29,
    "start_time": "2023-05-01T05:53:51.765Z"
   },
   {
    "duration": 14,
    "start_time": "2023-05-01T05:53:51.796Z"
   },
   {
    "duration": 20,
    "start_time": "2023-05-01T05:53:51.813Z"
   },
   {
    "duration": 18,
    "start_time": "2023-05-01T05:53:51.835Z"
   },
   {
    "duration": 22,
    "start_time": "2023-05-01T05:53:51.855Z"
   },
   {
    "duration": 181,
    "start_time": "2023-05-01T05:53:51.884Z"
   },
   {
    "duration": 33,
    "start_time": "2023-05-01T05:53:52.067Z"
   },
   {
    "duration": 18,
    "start_time": "2023-05-01T05:56:10.453Z"
   },
   {
    "duration": 18,
    "start_time": "2023-05-01T05:56:41.645Z"
   },
   {
    "duration": 85,
    "start_time": "2023-05-01T05:56:45.472Z"
   },
   {
    "duration": 21,
    "start_time": "2023-05-01T05:56:47.833Z"
   },
   {
    "duration": 33,
    "start_time": "2023-05-01T05:57:09.579Z"
   },
   {
    "duration": 14,
    "start_time": "2023-05-01T06:18:27.543Z"
   },
   {
    "duration": 24,
    "start_time": "2023-05-01T06:18:29.172Z"
   },
   {
    "duration": 28,
    "start_time": "2023-05-01T06:19:08.583Z"
   },
   {
    "duration": 20,
    "start_time": "2023-05-01T06:19:11.170Z"
   },
   {
    "duration": 50,
    "start_time": "2023-05-01T06:20:16.972Z"
   },
   {
    "duration": 35,
    "start_time": "2023-05-01T06:20:18.419Z"
   },
   {
    "duration": 38,
    "start_time": "2023-05-01T06:20:27.638Z"
   },
   {
    "duration": 21,
    "start_time": "2023-05-01T06:21:00.053Z"
   },
   {
    "duration": 24,
    "start_time": "2023-05-01T06:21:02.018Z"
   },
   {
    "duration": 36,
    "start_time": "2023-05-01T06:21:06.343Z"
   },
   {
    "duration": 358,
    "start_time": "2023-05-01T06:22:32.658Z"
   },
   {
    "duration": 6,
    "start_time": "2023-05-01T06:29:38.326Z"
   },
   {
    "duration": 338,
    "start_time": "2023-05-01T06:32:01.037Z"
   },
   {
    "duration": 411,
    "start_time": "2023-05-01T06:36:51.716Z"
   },
   {
    "duration": 606,
    "start_time": "2023-05-01T06:37:04.055Z"
   },
   {
    "duration": 283,
    "start_time": "2023-05-01T06:37:22.452Z"
   },
   {
    "duration": 394,
    "start_time": "2023-05-01T06:37:38.973Z"
   },
   {
    "duration": 481,
    "start_time": "2023-05-01T06:37:48.143Z"
   },
   {
    "duration": 576,
    "start_time": "2023-05-01T06:39:21.646Z"
   },
   {
    "duration": 463,
    "start_time": "2023-05-01T06:39:53.414Z"
   },
   {
    "duration": 396,
    "start_time": "2023-05-01T06:41:29.144Z"
   },
   {
    "duration": 549,
    "start_time": "2023-05-01T06:42:47.432Z"
   },
   {
    "duration": 443,
    "start_time": "2023-05-01T06:42:59.663Z"
   },
   {
    "duration": 785,
    "start_time": "2023-05-01T06:45:45.634Z"
   },
   {
    "duration": 698,
    "start_time": "2023-05-01T06:46:15.763Z"
   },
   {
    "duration": 565,
    "start_time": "2023-05-01T06:46:42.264Z"
   },
   {
    "duration": 654,
    "start_time": "2023-05-01T06:47:25.749Z"
   },
   {
    "duration": 205,
    "start_time": "2023-05-01T06:54:42.453Z"
   },
   {
    "duration": 474,
    "start_time": "2023-05-01T06:56:52.028Z"
   },
   {
    "duration": 468,
    "start_time": "2023-05-01T06:57:06.535Z"
   },
   {
    "duration": 404,
    "start_time": "2023-05-01T06:58:23.663Z"
   },
   {
    "duration": 388,
    "start_time": "2023-05-01T06:59:49.533Z"
   },
   {
    "duration": 365,
    "start_time": "2023-05-01T07:01:16.863Z"
   },
   {
    "duration": 423,
    "start_time": "2023-05-01T07:02:13.778Z"
   },
   {
    "duration": 507,
    "start_time": "2023-05-01T07:08:18.544Z"
   },
   {
    "duration": 95,
    "start_time": "2023-05-01T07:21:25.356Z"
   },
   {
    "duration": 23,
    "start_time": "2023-05-01T07:22:07.785Z"
   },
   {
    "duration": 81,
    "start_time": "2023-05-01T07:26:09.265Z"
   },
   {
    "duration": 418,
    "start_time": "2023-05-01T07:28:27.835Z"
   },
   {
    "duration": 30,
    "start_time": "2023-05-01T07:30:17.962Z"
   },
   {
    "duration": 17,
    "start_time": "2023-05-01T08:42:09.801Z"
   },
   {
    "duration": 49,
    "start_time": "2023-05-01T08:43:20.826Z"
   },
   {
    "duration": 371,
    "start_time": "2023-05-01T08:46:23.419Z"
   },
   {
    "duration": 1057,
    "start_time": "2023-05-01T08:48:54.249Z"
   },
   {
    "duration": 6,
    "start_time": "2023-05-01T08:49:29.467Z"
   },
   {
    "duration": 1011,
    "start_time": "2023-05-01T08:50:29.184Z"
   },
   {
    "duration": 1031,
    "start_time": "2023-05-01T08:51:39.409Z"
   },
   {
    "duration": 1015,
    "start_time": "2023-05-01T08:51:41.036Z"
   },
   {
    "duration": 292,
    "start_time": "2023-05-01T08:52:25.685Z"
   },
   {
    "duration": 1180,
    "start_time": "2023-05-01T08:53:21.277Z"
   },
   {
    "duration": 1393,
    "start_time": "2023-05-01T08:53:37.826Z"
   },
   {
    "duration": 868,
    "start_time": "2023-05-01T08:54:07.327Z"
   },
   {
    "duration": 1487,
    "start_time": "2023-05-01T08:54:18.497Z"
   },
   {
    "duration": 49,
    "start_time": "2023-05-02T01:01:51.158Z"
   },
   {
    "duration": 1642,
    "start_time": "2023-05-02T01:02:00.297Z"
   },
   {
    "duration": 1873,
    "start_time": "2023-05-02T01:02:01.942Z"
   },
   {
    "duration": 730,
    "start_time": "2023-05-02T01:02:03.816Z"
   },
   {
    "duration": 3,
    "start_time": "2023-05-02T01:02:04.548Z"
   },
   {
    "duration": 9,
    "start_time": "2023-05-02T01:02:04.558Z"
   },
   {
    "duration": 10,
    "start_time": "2023-05-02T01:02:04.569Z"
   },
   {
    "duration": 13,
    "start_time": "2023-05-02T01:02:04.581Z"
   },
   {
    "duration": 26,
    "start_time": "2023-05-02T01:02:04.595Z"
   },
   {
    "duration": 19,
    "start_time": "2023-05-02T01:02:04.623Z"
   },
   {
    "duration": 99,
    "start_time": "2023-05-02T01:02:04.660Z"
   },
   {
    "duration": 18,
    "start_time": "2023-05-02T01:02:04.763Z"
   },
   {
    "duration": 268,
    "start_time": "2023-05-02T01:02:04.783Z"
   },
   {
    "duration": 412,
    "start_time": "2023-05-02T01:02:05.053Z"
   },
   {
    "duration": 572,
    "start_time": "2023-05-02T01:02:05.467Z"
   },
   {
    "duration": 51,
    "start_time": "2023-05-02T01:02:06.041Z"
   },
   {
    "duration": 642,
    "start_time": "2023-05-02T01:02:06.094Z"
   },
   {
    "duration": 571,
    "start_time": "2023-05-02T01:02:06.737Z"
   },
   {
    "duration": 673,
    "start_time": "2023-05-02T01:02:07.310Z"
   },
   {
    "duration": 9992,
    "start_time": "2023-05-02T01:02:07.985Z"
   },
   {
    "duration": 7476,
    "start_time": "2023-05-02T01:03:43.027Z"
   },
   {
    "duration": 16,
    "start_time": "2023-05-02T01:04:04.076Z"
   },
   {
    "duration": 15,
    "start_time": "2023-05-02T01:04:20.118Z"
   },
   {
    "duration": 546,
    "start_time": "2023-05-02T01:04:33.844Z"
   },
   {
    "duration": 25,
    "start_time": "2023-05-02T01:07:58.558Z"
   },
   {
    "duration": 10,
    "start_time": "2023-05-02T01:08:13.207Z"
   },
   {
    "duration": 158,
    "start_time": "2023-05-02T01:08:41.057Z"
   },
   {
    "duration": 48,
    "start_time": "2023-05-02T03:12:26.346Z"
   },
   {
    "duration": 14,
    "start_time": "2023-05-02T03:12:28.981Z"
   },
   {
    "duration": 19,
    "start_time": "2023-05-02T03:13:52.159Z"
   },
   {
    "duration": 46,
    "start_time": "2023-05-02T03:14:03.258Z"
   },
   {
    "duration": 14,
    "start_time": "2023-05-02T03:14:05.319Z"
   },
   {
    "duration": 42,
    "start_time": "2023-05-02T03:14:08.167Z"
   },
   {
    "duration": 72,
    "start_time": "2023-05-02T03:14:12.091Z"
   },
   {
    "duration": 15,
    "start_time": "2023-05-02T03:14:13.798Z"
   },
   {
    "duration": 27,
    "start_time": "2023-05-02T03:16:11.677Z"
   },
   {
    "duration": 13,
    "start_time": "2023-05-02T03:16:13.642Z"
   },
   {
    "duration": 14,
    "start_time": "2023-05-02T03:16:42.199Z"
   },
   {
    "duration": 9,
    "start_time": "2023-05-02T03:21:00.349Z"
   },
   {
    "duration": 8,
    "start_time": "2023-05-02T03:21:48.588Z"
   },
   {
    "duration": 1559,
    "start_time": "2023-05-02T03:22:04.470Z"
   },
   {
    "duration": 723,
    "start_time": "2023-05-02T03:22:06.032Z"
   },
   {
    "duration": 823,
    "start_time": "2023-05-02T03:22:06.757Z"
   },
   {
    "duration": 3,
    "start_time": "2023-05-02T03:22:07.582Z"
   },
   {
    "duration": 10,
    "start_time": "2023-05-02T03:22:07.588Z"
   },
   {
    "duration": 5,
    "start_time": "2023-05-02T03:22:07.600Z"
   },
   {
    "duration": 5,
    "start_time": "2023-05-02T03:22:07.607Z"
   },
   {
    "duration": 58,
    "start_time": "2023-05-02T03:22:07.614Z"
   },
   {
    "duration": 21,
    "start_time": "2023-05-02T03:22:07.674Z"
   },
   {
    "duration": 135,
    "start_time": "2023-05-02T03:22:07.697Z"
   },
   {
    "duration": 26,
    "start_time": "2023-05-02T03:22:07.835Z"
   },
   {
    "duration": 263,
    "start_time": "2023-05-02T03:22:07.863Z"
   },
   {
    "duration": 453,
    "start_time": "2023-05-02T03:22:08.128Z"
   },
   {
    "duration": 550,
    "start_time": "2023-05-02T03:22:08.584Z"
   },
   {
    "duration": 54,
    "start_time": "2023-05-02T03:22:09.136Z"
   },
   {
    "duration": 745,
    "start_time": "2023-05-02T03:22:09.192Z"
   },
   {
    "duration": 634,
    "start_time": "2023-05-02T03:22:09.941Z"
   },
   {
    "duration": 705,
    "start_time": "2023-05-02T03:22:10.580Z"
   },
   {
    "duration": 10,
    "start_time": "2023-05-02T03:22:11.287Z"
   },
   {
    "duration": 112,
    "start_time": "2023-05-02T03:22:11.300Z"
   },
   {
    "duration": 9,
    "start_time": "2023-05-02T03:22:11.414Z"
   },
   {
    "duration": 15,
    "start_time": "2023-05-02T03:22:11.425Z"
   },
   {
    "duration": 130,
    "start_time": "2023-05-02T03:22:39.007Z"
   },
   {
    "duration": 12,
    "start_time": "2023-05-02T03:22:41.206Z"
   },
   {
    "duration": 17,
    "start_time": "2023-05-02T03:22:49.206Z"
   },
   {
    "duration": 10,
    "start_time": "2023-05-02T03:23:11.227Z"
   },
   {
    "duration": 16,
    "start_time": "2023-05-02T03:23:55.008Z"
   },
   {
    "duration": 598,
    "start_time": "2023-05-02T03:24:22.326Z"
   },
   {
    "duration": 598,
    "start_time": "2023-05-02T03:24:46.348Z"
   },
   {
    "duration": 824,
    "start_time": "2023-05-02T03:25:16.969Z"
   },
   {
    "duration": 739,
    "start_time": "2023-05-02T03:26:07.688Z"
   },
   {
    "duration": 848,
    "start_time": "2023-05-02T03:26:12.380Z"
   },
   {
    "duration": 653,
    "start_time": "2023-05-02T03:26:28.553Z"
   },
   {
    "duration": 144,
    "start_time": "2023-05-02T03:33:22.285Z"
   },
   {
    "duration": 1567,
    "start_time": "2023-05-02T03:33:33.679Z"
   },
   {
    "duration": 771,
    "start_time": "2023-05-02T03:33:35.248Z"
   },
   {
    "duration": 816,
    "start_time": "2023-05-02T03:33:36.021Z"
   },
   {
    "duration": 4,
    "start_time": "2023-05-02T03:33:36.839Z"
   },
   {
    "duration": 39,
    "start_time": "2023-05-02T03:33:36.846Z"
   },
   {
    "duration": 23,
    "start_time": "2023-05-02T03:33:36.887Z"
   },
   {
    "duration": 18,
    "start_time": "2023-05-02T03:33:36.912Z"
   },
   {
    "duration": 35,
    "start_time": "2023-05-02T03:33:36.932Z"
   },
   {
    "duration": 34,
    "start_time": "2023-05-02T03:33:36.974Z"
   },
   {
    "duration": 96,
    "start_time": "2023-05-02T03:33:37.010Z"
   },
   {
    "duration": 19,
    "start_time": "2023-05-02T03:33:37.108Z"
   },
   {
    "duration": 288,
    "start_time": "2023-05-02T03:33:37.129Z"
   },
   {
    "duration": 467,
    "start_time": "2023-05-02T03:33:37.418Z"
   },
   {
    "duration": 526,
    "start_time": "2023-05-02T03:33:37.887Z"
   },
   {
    "duration": 53,
    "start_time": "2023-05-02T03:33:38.415Z"
   },
   {
    "duration": 637,
    "start_time": "2023-05-02T03:33:38.470Z"
   },
   {
    "duration": 698,
    "start_time": "2023-05-02T03:33:39.109Z"
   },
   {
    "duration": 803,
    "start_time": "2023-05-02T03:33:39.809Z"
   },
   {
    "duration": 109,
    "start_time": "2023-05-02T03:33:40.614Z"
   },
   {
    "duration": 618,
    "start_time": "2023-05-02T03:33:40.724Z"
   },
   {
    "duration": 750,
    "start_time": "2023-05-02T03:33:41.344Z"
   },
   {
    "duration": 789,
    "start_time": "2023-05-02T03:33:42.096Z"
   },
   {
    "duration": 98,
    "start_time": "2023-05-02T03:54:50.330Z"
   },
   {
    "duration": 23,
    "start_time": "2023-05-02T03:54:59.178Z"
   },
   {
    "duration": 163,
    "start_time": "2023-05-02T04:00:58.170Z"
   },
   {
    "duration": 20,
    "start_time": "2023-05-02T04:02:10.892Z"
   },
   {
    "duration": 189,
    "start_time": "2023-05-02T04:05:30.388Z"
   },
   {
    "duration": 9,
    "start_time": "2023-05-02T05:22:27.864Z"
   },
   {
    "duration": 1033,
    "start_time": "2023-05-02T05:22:53.719Z"
   },
   {
    "duration": 8,
    "start_time": "2023-05-02T05:28:19.374Z"
   },
   {
    "duration": 13,
    "start_time": "2023-05-02T05:34:44.577Z"
   },
   {
    "duration": 1783,
    "start_time": "2023-05-02T05:34:52.052Z"
   },
   {
    "duration": 2402,
    "start_time": "2023-05-02T05:34:53.838Z"
   },
   {
    "duration": 831,
    "start_time": "2023-05-02T05:34:56.242Z"
   },
   {
    "duration": 13,
    "start_time": "2023-05-02T05:34:57.074Z"
   },
   {
    "duration": 22,
    "start_time": "2023-05-02T05:34:57.089Z"
   },
   {
    "duration": 6,
    "start_time": "2023-05-02T05:34:57.116Z"
   },
   {
    "duration": 7,
    "start_time": "2023-05-02T05:34:57.124Z"
   },
   {
    "duration": 21,
    "start_time": "2023-05-02T05:34:57.133Z"
   },
   {
    "duration": 45,
    "start_time": "2023-05-02T05:34:57.156Z"
   },
   {
    "duration": 120,
    "start_time": "2023-05-02T05:34:57.204Z"
   },
   {
    "duration": 20,
    "start_time": "2023-05-02T05:34:57.326Z"
   },
   {
    "duration": 316,
    "start_time": "2023-05-02T05:34:57.348Z"
   },
   {
    "duration": 487,
    "start_time": "2023-05-02T05:34:57.666Z"
   },
   {
    "duration": 773,
    "start_time": "2023-05-02T05:34:58.157Z"
   },
   {
    "duration": 62,
    "start_time": "2023-05-02T05:34:58.932Z"
   },
   {
    "duration": 757,
    "start_time": "2023-05-02T05:34:58.999Z"
   },
   {
    "duration": 810,
    "start_time": "2023-05-02T05:34:59.758Z"
   },
   {
    "duration": 898,
    "start_time": "2023-05-02T05:35:00.571Z"
   },
   {
    "duration": 103,
    "start_time": "2023-05-02T05:35:01.472Z"
   },
   {
    "duration": 687,
    "start_time": "2023-05-02T05:35:01.588Z"
   },
   {
    "duration": 770,
    "start_time": "2023-05-02T05:35:02.278Z"
   },
   {
    "duration": 888,
    "start_time": "2023-05-02T05:35:03.050Z"
   },
   {
    "duration": 1532,
    "start_time": "2023-05-02T05:35:03.940Z"
   },
   {
    "duration": 0,
    "start_time": "2023-05-02T05:35:05.474Z"
   },
   {
    "duration": 0,
    "start_time": "2023-05-02T05:35:05.476Z"
   },
   {
    "duration": 0,
    "start_time": "2023-05-02T05:35:05.477Z"
   },
   {
    "duration": 18,
    "start_time": "2023-05-02T05:36:35.243Z"
   },
   {
    "duration": 15,
    "start_time": "2023-05-02T05:40:53.264Z"
   },
   {
    "duration": 26,
    "start_time": "2023-05-02T05:42:13.384Z"
   },
   {
    "duration": 16,
    "start_time": "2023-05-02T05:42:37.544Z"
   },
   {
    "duration": 22,
    "start_time": "2023-05-02T05:43:04.928Z"
   },
   {
    "duration": 28,
    "start_time": "2023-05-02T05:43:57.684Z"
   },
   {
    "duration": 27,
    "start_time": "2023-05-02T05:44:59.222Z"
   },
   {
    "duration": 1566,
    "start_time": "2023-05-02T05:45:49.787Z"
   },
   {
    "duration": 783,
    "start_time": "2023-05-02T05:45:51.355Z"
   },
   {
    "duration": 738,
    "start_time": "2023-05-02T05:45:52.139Z"
   },
   {
    "duration": 6,
    "start_time": "2023-05-02T05:45:52.879Z"
   },
   {
    "duration": 12,
    "start_time": "2023-05-02T05:45:52.888Z"
   },
   {
    "duration": 5,
    "start_time": "2023-05-02T05:45:52.902Z"
   },
   {
    "duration": 10,
    "start_time": "2023-05-02T05:45:52.909Z"
   },
   {
    "duration": 33,
    "start_time": "2023-05-02T05:45:52.921Z"
   },
   {
    "duration": 33,
    "start_time": "2023-05-02T05:45:52.956Z"
   },
   {
    "duration": 100,
    "start_time": "2023-05-02T05:45:52.992Z"
   },
   {
    "duration": 19,
    "start_time": "2023-05-02T05:45:53.094Z"
   },
   {
    "duration": 266,
    "start_time": "2023-05-02T05:45:53.115Z"
   },
   {
    "duration": 420,
    "start_time": "2023-05-02T05:45:53.385Z"
   },
   {
    "duration": 608,
    "start_time": "2023-05-02T05:45:53.808Z"
   },
   {
    "duration": 40,
    "start_time": "2023-05-02T05:45:54.418Z"
   },
   {
    "duration": 613,
    "start_time": "2023-05-02T05:45:54.460Z"
   },
   {
    "duration": 649,
    "start_time": "2023-05-02T05:45:55.074Z"
   },
   {
    "duration": 693,
    "start_time": "2023-05-02T05:45:55.724Z"
   },
   {
    "duration": 106,
    "start_time": "2023-05-02T05:45:56.419Z"
   },
   {
    "duration": 586,
    "start_time": "2023-05-02T05:45:56.527Z"
   },
   {
    "duration": 618,
    "start_time": "2023-05-02T05:45:57.115Z"
   },
   {
    "duration": 757,
    "start_time": "2023-05-02T05:45:57.735Z"
   },
   {
    "duration": 20,
    "start_time": "2023-05-02T05:45:58.495Z"
   },
   {
    "duration": 19,
    "start_time": "2023-05-02T05:45:58.517Z"
   },
   {
    "duration": 5,
    "start_time": "2023-05-02T05:45:58.538Z"
   },
   {
    "duration": 955,
    "start_time": "2023-05-02T05:45:58.545Z"
   },
   {
    "duration": 24,
    "start_time": "2023-05-02T05:46:02.966Z"
   },
   {
    "duration": 9,
    "start_time": "2023-05-02T05:48:07.225Z"
   },
   {
    "duration": 18,
    "start_time": "2023-05-02T05:48:30.627Z"
   },
   {
    "duration": 44,
    "start_time": "2023-05-02T05:49:42.887Z"
   },
   {
    "duration": 41,
    "start_time": "2023-05-02T05:50:11.111Z"
   },
   {
    "duration": 20,
    "start_time": "2023-05-02T05:50:24.047Z"
   },
   {
    "duration": 35,
    "start_time": "2023-05-02T05:50:27.412Z"
   },
   {
    "duration": 54,
    "start_time": "2023-05-02T05:50:44.286Z"
   },
   {
    "duration": 39,
    "start_time": "2023-05-02T05:50:59.777Z"
   },
   {
    "duration": 16,
    "start_time": "2023-05-02T05:51:16.345Z"
   },
   {
    "duration": 17,
    "start_time": "2023-05-02T05:51:39.513Z"
   },
   {
    "duration": 1501,
    "start_time": "2023-05-02T05:51:47.113Z"
   },
   {
    "duration": 742,
    "start_time": "2023-05-02T05:51:48.621Z"
   },
   {
    "duration": 785,
    "start_time": "2023-05-02T05:51:49.365Z"
   },
   {
    "duration": 3,
    "start_time": "2023-05-02T05:51:50.152Z"
   },
   {
    "duration": 8,
    "start_time": "2023-05-02T05:51:50.157Z"
   },
   {
    "duration": 19,
    "start_time": "2023-05-02T05:51:50.166Z"
   },
   {
    "duration": 7,
    "start_time": "2023-05-02T05:51:50.191Z"
   },
   {
    "duration": 25,
    "start_time": "2023-05-02T05:51:50.200Z"
   },
   {
    "duration": 17,
    "start_time": "2023-05-02T05:51:50.227Z"
   },
   {
    "duration": 112,
    "start_time": "2023-05-02T05:51:50.245Z"
   },
   {
    "duration": 18,
    "start_time": "2023-05-02T05:51:50.358Z"
   },
   {
    "duration": 267,
    "start_time": "2023-05-02T05:51:50.384Z"
   },
   {
    "duration": 456,
    "start_time": "2023-05-02T05:51:50.653Z"
   },
   {
    "duration": 511,
    "start_time": "2023-05-02T05:51:51.115Z"
   },
   {
    "duration": 39,
    "start_time": "2023-05-02T05:51:51.628Z"
   },
   {
    "duration": 661,
    "start_time": "2023-05-02T05:51:51.669Z"
   },
   {
    "duration": 673,
    "start_time": "2023-05-02T05:51:52.332Z"
   },
   {
    "duration": 711,
    "start_time": "2023-05-02T05:51:53.009Z"
   },
   {
    "duration": 98,
    "start_time": "2023-05-02T05:51:53.723Z"
   },
   {
    "duration": 691,
    "start_time": "2023-05-02T05:51:53.823Z"
   },
   {
    "duration": 646,
    "start_time": "2023-05-02T05:51:54.516Z"
   },
   {
    "duration": 751,
    "start_time": "2023-05-02T05:51:55.163Z"
   },
   {
    "duration": 19,
    "start_time": "2023-05-02T05:51:55.916Z"
   },
   {
    "duration": 32,
    "start_time": "2023-05-02T05:51:55.937Z"
   },
   {
    "duration": 21,
    "start_time": "2023-05-02T05:51:55.970Z"
   },
   {
    "duration": 7,
    "start_time": "2023-05-02T05:51:55.999Z"
   },
   {
    "duration": 1611,
    "start_time": "2023-05-02T05:51:56.008Z"
   },
   {
    "duration": 19,
    "start_time": "2023-05-02T05:52:03.909Z"
   },
   {
    "duration": 1468,
    "start_time": "2023-05-02T05:52:11.253Z"
   },
   {
    "duration": 789,
    "start_time": "2023-05-02T05:52:12.724Z"
   },
   {
    "duration": 833,
    "start_time": "2023-05-02T05:52:13.515Z"
   },
   {
    "duration": 4,
    "start_time": "2023-05-02T05:52:14.350Z"
   },
   {
    "duration": 16,
    "start_time": "2023-05-02T05:52:14.356Z"
   },
   {
    "duration": 18,
    "start_time": "2023-05-02T05:52:14.374Z"
   },
   {
    "duration": 22,
    "start_time": "2023-05-02T05:52:14.394Z"
   },
   {
    "duration": 31,
    "start_time": "2023-05-02T05:52:14.419Z"
   },
   {
    "duration": 19,
    "start_time": "2023-05-02T05:52:14.452Z"
   },
   {
    "duration": 96,
    "start_time": "2023-05-02T05:52:14.473Z"
   },
   {
    "duration": 38,
    "start_time": "2023-05-02T05:52:14.571Z"
   },
   {
    "duration": 259,
    "start_time": "2023-05-02T05:52:14.611Z"
   },
   {
    "duration": 473,
    "start_time": "2023-05-02T05:52:14.872Z"
   },
   {
    "duration": 579,
    "start_time": "2023-05-02T05:52:15.347Z"
   },
   {
    "duration": 36,
    "start_time": "2023-05-02T05:52:15.927Z"
   },
   {
    "duration": 653,
    "start_time": "2023-05-02T05:52:15.965Z"
   },
   {
    "duration": 623,
    "start_time": "2023-05-02T05:52:16.620Z"
   },
   {
    "duration": 741,
    "start_time": "2023-05-02T05:52:17.245Z"
   },
   {
    "duration": 98,
    "start_time": "2023-05-02T05:52:17.989Z"
   },
   {
    "duration": 733,
    "start_time": "2023-05-02T05:52:18.093Z"
   },
   {
    "duration": 623,
    "start_time": "2023-05-02T05:52:18.827Z"
   },
   {
    "duration": 772,
    "start_time": "2023-05-02T05:52:19.451Z"
   },
   {
    "duration": 17,
    "start_time": "2023-05-02T05:52:20.225Z"
   },
   {
    "duration": 55,
    "start_time": "2023-05-02T05:52:20.244Z"
   },
   {
    "duration": 12,
    "start_time": "2023-05-02T05:52:20.304Z"
   },
   {
    "duration": 11,
    "start_time": "2023-05-02T05:52:20.318Z"
   },
   {
    "duration": 1572,
    "start_time": "2023-05-02T05:52:20.330Z"
   },
   {
    "duration": 20,
    "start_time": "2023-05-02T05:52:32.049Z"
   },
   {
    "duration": 1455,
    "start_time": "2023-05-02T05:52:37.902Z"
   },
   {
    "duration": 771,
    "start_time": "2023-05-02T05:52:39.359Z"
   },
   {
    "duration": 792,
    "start_time": "2023-05-02T05:52:40.132Z"
   },
   {
    "duration": 3,
    "start_time": "2023-05-02T05:52:40.926Z"
   },
   {
    "duration": 15,
    "start_time": "2023-05-02T05:52:40.932Z"
   },
   {
    "duration": 5,
    "start_time": "2023-05-02T05:52:40.949Z"
   },
   {
    "duration": 9,
    "start_time": "2023-05-02T05:52:40.955Z"
   },
   {
    "duration": 34,
    "start_time": "2023-05-02T05:52:40.966Z"
   },
   {
    "duration": 20,
    "start_time": "2023-05-02T05:52:41.005Z"
   },
   {
    "duration": 114,
    "start_time": "2023-05-02T05:52:41.027Z"
   },
   {
    "duration": 17,
    "start_time": "2023-05-02T05:52:41.143Z"
   },
   {
    "duration": 280,
    "start_time": "2023-05-02T05:52:41.161Z"
   },
   {
    "duration": 439,
    "start_time": "2023-05-02T05:52:41.442Z"
   },
   {
    "duration": 532,
    "start_time": "2023-05-02T05:52:41.884Z"
   },
   {
    "duration": 41,
    "start_time": "2023-05-02T05:52:42.418Z"
   },
   {
    "duration": 669,
    "start_time": "2023-05-02T05:52:42.461Z"
   },
   {
    "duration": 623,
    "start_time": "2023-05-02T05:52:43.132Z"
   },
   {
    "duration": 861,
    "start_time": "2023-05-02T05:52:43.757Z"
   },
   {
    "duration": 99,
    "start_time": "2023-05-02T05:52:44.619Z"
   },
   {
    "duration": 603,
    "start_time": "2023-05-02T05:52:44.721Z"
   },
   {
    "duration": 626,
    "start_time": "2023-05-02T05:52:45.327Z"
   },
   {
    "duration": 773,
    "start_time": "2023-05-02T05:52:45.955Z"
   },
   {
    "duration": 17,
    "start_time": "2023-05-02T05:52:46.730Z"
   },
   {
    "duration": 18,
    "start_time": "2023-05-02T05:52:46.749Z"
   },
   {
    "duration": 14,
    "start_time": "2023-05-02T05:52:46.786Z"
   },
   {
    "duration": 691,
    "start_time": "2023-05-02T05:52:46.802Z"
   },
   {
    "duration": 7,
    "start_time": "2023-05-02T05:57:26.280Z"
   },
   {
    "duration": 5,
    "start_time": "2023-05-02T06:00:12.305Z"
   },
   {
    "duration": 7,
    "start_time": "2023-05-02T06:01:20.326Z"
   },
   {
    "duration": 109,
    "start_time": "2023-05-02T06:05:47.887Z"
   },
   {
    "duration": 4,
    "start_time": "2023-05-02T06:06:56.209Z"
   },
   {
    "duration": 4,
    "start_time": "2023-05-02T06:07:37.715Z"
   },
   {
    "duration": 6,
    "start_time": "2023-05-02T06:07:54.245Z"
   },
   {
    "duration": 5,
    "start_time": "2023-05-02T06:09:53.406Z"
   },
   {
    "duration": 3,
    "start_time": "2023-05-02T06:10:24.833Z"
   },
   {
    "duration": 4,
    "start_time": "2023-05-02T06:11:34.108Z"
   },
   {
    "duration": 5,
    "start_time": "2023-05-02T06:12:06.264Z"
   },
   {
    "duration": 4,
    "start_time": "2023-05-02T06:12:52.408Z"
   },
   {
    "duration": 1467,
    "start_time": "2023-05-02T06:13:12.652Z"
   },
   {
    "duration": 710,
    "start_time": "2023-05-02T06:13:14.124Z"
   },
   {
    "duration": 722,
    "start_time": "2023-05-02T06:13:14.836Z"
   },
   {
    "duration": 2,
    "start_time": "2023-05-02T06:13:15.560Z"
   },
   {
    "duration": 24,
    "start_time": "2023-05-02T06:13:15.564Z"
   },
   {
    "duration": 4,
    "start_time": "2023-05-02T06:13:15.590Z"
   },
   {
    "duration": 5,
    "start_time": "2023-05-02T06:13:15.596Z"
   },
   {
    "duration": 22,
    "start_time": "2023-05-02T06:13:15.602Z"
   },
   {
    "duration": 16,
    "start_time": "2023-05-02T06:13:15.626Z"
   },
   {
    "duration": 105,
    "start_time": "2023-05-02T06:13:15.644Z"
   },
   {
    "duration": 17,
    "start_time": "2023-05-02T06:13:15.751Z"
   },
   {
    "duration": 251,
    "start_time": "2023-05-02T06:13:15.770Z"
   },
   {
    "duration": 411,
    "start_time": "2023-05-02T06:13:16.023Z"
   },
   {
    "duration": 508,
    "start_time": "2023-05-02T06:13:16.437Z"
   },
   {
    "duration": 42,
    "start_time": "2023-05-02T06:13:16.946Z"
   },
   {
    "duration": 568,
    "start_time": "2023-05-02T06:13:16.990Z"
   },
   {
    "duration": 554,
    "start_time": "2023-05-02T06:13:17.560Z"
   },
   {
    "duration": 699,
    "start_time": "2023-05-02T06:13:18.116Z"
   },
   {
    "duration": 96,
    "start_time": "2023-05-02T06:13:18.817Z"
   },
   {
    "duration": 537,
    "start_time": "2023-05-02T06:13:18.915Z"
   },
   {
    "duration": 584,
    "start_time": "2023-05-02T06:13:19.454Z"
   },
   {
    "duration": 669,
    "start_time": "2023-05-02T06:13:20.040Z"
   },
   {
    "duration": 17,
    "start_time": "2023-05-02T06:13:20.711Z"
   },
   {
    "duration": 29,
    "start_time": "2023-05-02T06:13:20.730Z"
   },
   {
    "duration": 11,
    "start_time": "2023-05-02T06:13:20.762Z"
   },
   {
    "duration": 5,
    "start_time": "2023-05-02T06:13:20.775Z"
   },
   {
    "duration": 3,
    "start_time": "2023-05-02T06:13:20.789Z"
   },
   {
    "duration": 15,
    "start_time": "2023-05-02T06:13:20.794Z"
   },
   {
    "duration": 7,
    "start_time": "2023-05-02T06:13:20.811Z"
   },
   {
    "duration": 450,
    "start_time": "2023-05-02T06:13:20.820Z"
   },
   {
    "duration": 5,
    "start_time": "2023-05-02T06:14:00.245Z"
   },
   {
    "duration": 4,
    "start_time": "2023-05-02T06:14:18.688Z"
   },
   {
    "duration": 4,
    "start_time": "2023-05-02T06:14:30.407Z"
   },
   {
    "duration": 6,
    "start_time": "2023-05-02T06:14:40.087Z"
   },
   {
    "duration": 251,
    "start_time": "2023-05-02T06:14:45.648Z"
   },
   {
    "duration": 280,
    "start_time": "2023-05-02T06:15:57.107Z"
   },
   {
    "duration": 245,
    "start_time": "2023-05-02T06:16:57.842Z"
   },
   {
    "duration": 7,
    "start_time": "2023-05-02T06:18:01.886Z"
   },
   {
    "duration": 245,
    "start_time": "2023-05-02T06:18:05.553Z"
   },
   {
    "duration": 742,
    "start_time": "2023-05-02T06:23:52.148Z"
   },
   {
    "duration": 49,
    "start_time": "2023-05-02T06:29:42.926Z"
   },
   {
    "duration": 581,
    "start_time": "2023-05-02T06:55:01.126Z"
   },
   {
    "duration": 83,
    "start_time": "2023-05-02T06:57:14.157Z"
   },
   {
    "duration": 2084,
    "start_time": "2023-05-02T07:37:51.808Z"
   },
   {
    "duration": 1369,
    "start_time": "2023-05-02T07:37:53.895Z"
   },
   {
    "duration": 1025,
    "start_time": "2023-05-02T07:37:55.267Z"
   },
   {
    "duration": 8,
    "start_time": "2023-05-02T07:37:56.295Z"
   },
   {
    "duration": 17,
    "start_time": "2023-05-02T07:37:56.307Z"
   },
   {
    "duration": 7,
    "start_time": "2023-05-02T07:37:56.335Z"
   },
   {
    "duration": 5,
    "start_time": "2023-05-02T07:37:56.348Z"
   },
   {
    "duration": 36,
    "start_time": "2023-05-02T07:37:56.356Z"
   },
   {
    "duration": 36,
    "start_time": "2023-05-02T07:37:56.395Z"
   },
   {
    "duration": 193,
    "start_time": "2023-05-02T07:37:56.434Z"
   },
   {
    "duration": 29,
    "start_time": "2023-05-02T07:37:56.630Z"
   },
   {
    "duration": 432,
    "start_time": "2023-05-02T07:37:56.661Z"
   },
   {
    "duration": 778,
    "start_time": "2023-05-02T07:37:57.095Z"
   },
   {
    "duration": 1044,
    "start_time": "2023-05-02T07:37:57.881Z"
   },
   {
    "duration": 52,
    "start_time": "2023-05-02T07:37:58.931Z"
   },
   {
    "duration": 1070,
    "start_time": "2023-05-02T07:37:58.990Z"
   },
   {
    "duration": 925,
    "start_time": "2023-05-02T07:38:00.062Z"
   },
   {
    "duration": 1207,
    "start_time": "2023-05-02T07:38:00.999Z"
   },
   {
    "duration": 173,
    "start_time": "2023-05-02T07:38:02.231Z"
   },
   {
    "duration": 990,
    "start_time": "2023-05-02T07:38:02.416Z"
   },
   {
    "duration": 899,
    "start_time": "2023-05-02T07:38:03.412Z"
   },
   {
    "duration": 1118,
    "start_time": "2023-05-02T07:38:04.317Z"
   },
   {
    "duration": 25,
    "start_time": "2023-05-02T07:38:05.441Z"
   },
   {
    "duration": 21,
    "start_time": "2023-05-02T07:38:05.470Z"
   },
   {
    "duration": 9,
    "start_time": "2023-05-02T07:38:05.497Z"
   },
   {
    "duration": 8,
    "start_time": "2023-05-02T07:38:05.512Z"
   },
   {
    "duration": 10,
    "start_time": "2023-05-02T07:38:05.526Z"
   },
   {
    "duration": 6,
    "start_time": "2023-05-02T07:38:05.542Z"
   },
   {
    "duration": 14,
    "start_time": "2023-05-02T07:38:05.554Z"
   },
   {
    "duration": 9,
    "start_time": "2023-05-02T07:38:05.573Z"
   },
   {
    "duration": 819,
    "start_time": "2023-05-02T07:38:05.588Z"
   },
   {
    "duration": 4,
    "start_time": "2023-05-02T07:41:37.718Z"
   },
   {
    "duration": 6,
    "start_time": "2023-05-02T07:43:25.114Z"
   },
   {
    "duration": 651,
    "start_time": "2023-05-02T07:43:29.455Z"
   },
   {
    "duration": 17,
    "start_time": "2023-05-02T07:46:02.757Z"
   },
   {
    "duration": 4,
    "start_time": "2023-05-02T07:47:21.611Z"
   },
   {
    "duration": 19,
    "start_time": "2023-05-02T07:49:10.437Z"
   },
   {
    "duration": 10,
    "start_time": "2023-05-02T07:51:16.957Z"
   },
   {
    "duration": 17,
    "start_time": "2023-05-02T07:51:27.558Z"
   },
   {
    "duration": 1574,
    "start_time": "2023-05-02T07:51:37.840Z"
   },
   {
    "duration": 778,
    "start_time": "2023-05-02T07:51:39.416Z"
   },
   {
    "duration": 854,
    "start_time": "2023-05-02T07:51:40.196Z"
   },
   {
    "duration": 3,
    "start_time": "2023-05-02T07:51:41.052Z"
   },
   {
    "duration": 11,
    "start_time": "2023-05-02T07:51:41.058Z"
   },
   {
    "duration": 5,
    "start_time": "2023-05-02T07:51:41.071Z"
   },
   {
    "duration": 5,
    "start_time": "2023-05-02T07:51:41.086Z"
   },
   {
    "duration": 22,
    "start_time": "2023-05-02T07:51:41.093Z"
   },
   {
    "duration": 16,
    "start_time": "2023-05-02T07:51:41.117Z"
   },
   {
    "duration": 130,
    "start_time": "2023-05-02T07:51:41.135Z"
   },
   {
    "duration": 25,
    "start_time": "2023-05-02T07:51:41.267Z"
   },
   {
    "duration": 272,
    "start_time": "2023-05-02T07:51:41.294Z"
   },
   {
    "duration": 468,
    "start_time": "2023-05-02T07:51:41.569Z"
   },
   {
    "duration": 587,
    "start_time": "2023-05-02T07:51:42.040Z"
   },
   {
    "duration": 36,
    "start_time": "2023-05-02T07:51:42.629Z"
   },
   {
    "duration": 760,
    "start_time": "2023-05-02T07:51:42.667Z"
   },
   {
    "duration": 722,
    "start_time": "2023-05-02T07:51:43.429Z"
   },
   {
    "duration": 757,
    "start_time": "2023-05-02T07:51:44.153Z"
   },
   {
    "duration": 109,
    "start_time": "2023-05-02T07:51:44.912Z"
   },
   {
    "duration": 602,
    "start_time": "2023-05-02T07:51:45.023Z"
   },
   {
    "duration": 653,
    "start_time": "2023-05-02T07:51:45.627Z"
   },
   {
    "duration": 752,
    "start_time": "2023-05-02T07:51:46.282Z"
   },
   {
    "duration": 15,
    "start_time": "2023-05-02T07:51:47.036Z"
   },
   {
    "duration": 38,
    "start_time": "2023-05-02T07:51:47.053Z"
   },
   {
    "duration": 7,
    "start_time": "2023-05-02T07:51:47.099Z"
   },
   {
    "duration": 6,
    "start_time": "2023-05-02T07:51:47.108Z"
   },
   {
    "duration": 15,
    "start_time": "2023-05-02T07:51:47.116Z"
   },
   {
    "duration": 6,
    "start_time": "2023-05-02T07:51:47.133Z"
   },
   {
    "duration": 5,
    "start_time": "2023-05-02T07:51:47.141Z"
   },
   {
    "duration": 142,
    "start_time": "2023-05-02T07:51:47.148Z"
   },
   {
    "duration": 0,
    "start_time": "2023-05-02T07:51:47.293Z"
   },
   {
    "duration": 0,
    "start_time": "2023-05-02T07:51:47.294Z"
   },
   {
    "duration": 0,
    "start_time": "2023-05-02T07:51:47.296Z"
   },
   {
    "duration": 64,
    "start_time": "2023-05-02T07:53:27.360Z"
   },
   {
    "duration": 8,
    "start_time": "2023-05-02T07:53:37.721Z"
   },
   {
    "duration": 25,
    "start_time": "2023-05-02T07:55:48.438Z"
   },
   {
    "duration": 9,
    "start_time": "2023-05-02T07:57:23.939Z"
   },
   {
    "duration": 18,
    "start_time": "2023-05-02T07:57:27.138Z"
   },
   {
    "duration": 6,
    "start_time": "2023-05-02T08:04:18.540Z"
   },
   {
    "duration": 4,
    "start_time": "2023-05-02T08:04:26.983Z"
   },
   {
    "duration": 5,
    "start_time": "2023-05-02T08:05:02.712Z"
   },
   {
    "duration": 8,
    "start_time": "2023-05-02T08:05:29.460Z"
   },
   {
    "duration": 13,
    "start_time": "2023-05-02T08:05:31.633Z"
   },
   {
    "duration": 4,
    "start_time": "2023-05-02T08:05:45.318Z"
   },
   {
    "duration": 5,
    "start_time": "2023-05-02T08:06:27.118Z"
   },
   {
    "duration": 7,
    "start_time": "2023-05-02T08:06:32.160Z"
   },
   {
    "duration": 7,
    "start_time": "2023-05-02T08:06:42.532Z"
   },
   {
    "duration": 7,
    "start_time": "2023-05-02T08:08:21.620Z"
   },
   {
    "duration": 650,
    "start_time": "2023-05-02T08:09:08.338Z"
   },
   {
    "duration": 19,
    "start_time": "2023-05-02T08:10:59.732Z"
   },
   {
    "duration": 18,
    "start_time": "2023-05-02T08:15:55.920Z"
   },
   {
    "duration": 4,
    "start_time": "2023-05-02T08:16:54.902Z"
   },
   {
    "duration": 8,
    "start_time": "2023-05-02T08:18:47.358Z"
   },
   {
    "duration": 27,
    "start_time": "2023-05-02T08:18:59.679Z"
   },
   {
    "duration": 4,
    "start_time": "2023-05-02T08:20:03.978Z"
   },
   {
    "duration": 1907,
    "start_time": "2023-05-02T08:20:06.604Z"
   },
   {
    "duration": 2078,
    "start_time": "2023-05-02T08:21:04.307Z"
   },
   {
    "duration": 704,
    "start_time": "2023-05-02T08:23:44.525Z"
   },
   {
    "duration": 15,
    "start_time": "2023-05-02T08:29:28.536Z"
   },
   {
    "duration": 2046,
    "start_time": "2023-05-02T08:33:42.658Z"
   },
   {
    "duration": 1053,
    "start_time": "2023-05-02T08:33:44.712Z"
   },
   {
    "duration": 934,
    "start_time": "2023-05-02T08:33:45.768Z"
   },
   {
    "duration": 4,
    "start_time": "2023-05-02T08:33:46.704Z"
   },
   {
    "duration": 24,
    "start_time": "2023-05-02T08:33:46.711Z"
   },
   {
    "duration": 7,
    "start_time": "2023-05-02T08:33:46.737Z"
   },
   {
    "duration": 18,
    "start_time": "2023-05-02T08:33:46.747Z"
   },
   {
    "duration": 28,
    "start_time": "2023-05-02T08:33:46.768Z"
   },
   {
    "duration": 21,
    "start_time": "2023-05-02T08:33:46.803Z"
   },
   {
    "duration": 111,
    "start_time": "2023-05-02T08:33:46.826Z"
   },
   {
    "duration": 23,
    "start_time": "2023-05-02T08:33:46.939Z"
   },
   {
    "duration": 298,
    "start_time": "2023-05-02T08:33:46.964Z"
   },
   {
    "duration": 478,
    "start_time": "2023-05-02T08:33:47.265Z"
   },
   {
    "duration": 733,
    "start_time": "2023-05-02T08:33:47.747Z"
   },
   {
    "duration": 60,
    "start_time": "2023-05-02T08:33:48.482Z"
   },
   {
    "duration": 774,
    "start_time": "2023-05-02T08:33:48.545Z"
   },
   {
    "duration": 950,
    "start_time": "2023-05-02T08:33:49.323Z"
   },
   {
    "duration": 1041,
    "start_time": "2023-05-02T08:33:50.278Z"
   },
   {
    "duration": 133,
    "start_time": "2023-05-02T08:33:51.321Z"
   },
   {
    "duration": 810,
    "start_time": "2023-05-02T08:33:51.457Z"
   },
   {
    "duration": 975,
    "start_time": "2023-05-02T08:33:52.269Z"
   },
   {
    "duration": 1165,
    "start_time": "2023-05-02T08:33:53.247Z"
   },
   {
    "duration": 27,
    "start_time": "2023-05-02T08:33:54.418Z"
   },
   {
    "duration": 45,
    "start_time": "2023-05-02T08:33:54.452Z"
   },
   {
    "duration": 9,
    "start_time": "2023-05-02T08:33:54.499Z"
   },
   {
    "duration": 5,
    "start_time": "2023-05-02T08:33:54.514Z"
   },
   {
    "duration": 6,
    "start_time": "2023-05-02T08:33:54.523Z"
   },
   {
    "duration": 10,
    "start_time": "2023-05-02T08:33:54.531Z"
   },
   {
    "duration": 6,
    "start_time": "2023-05-02T08:33:54.549Z"
   },
   {
    "duration": 13,
    "start_time": "2023-05-02T08:33:54.557Z"
   },
   {
    "duration": 198,
    "start_time": "2023-05-02T08:33:54.592Z"
   },
   {
    "duration": 8,
    "start_time": "2023-05-02T08:37:11.350Z"
   },
   {
    "duration": 2080,
    "start_time": "2023-05-02T08:38:59.377Z"
   },
   {
    "duration": 1084,
    "start_time": "2023-05-02T08:39:01.462Z"
   },
   {
    "duration": 1135,
    "start_time": "2023-05-02T08:39:02.548Z"
   },
   {
    "duration": 4,
    "start_time": "2023-05-02T08:39:03.686Z"
   },
   {
    "duration": 14,
    "start_time": "2023-05-02T08:39:03.695Z"
   },
   {
    "duration": 6,
    "start_time": "2023-05-02T08:39:03.711Z"
   },
   {
    "duration": 6,
    "start_time": "2023-05-02T08:39:03.720Z"
   },
   {
    "duration": 25,
    "start_time": "2023-05-02T08:39:03.728Z"
   },
   {
    "duration": 82,
    "start_time": "2023-05-02T08:39:03.756Z"
   },
   {
    "duration": 139,
    "start_time": "2023-05-02T08:39:03.841Z"
   },
   {
    "duration": 25,
    "start_time": "2023-05-02T08:39:03.982Z"
   },
   {
    "duration": 378,
    "start_time": "2023-05-02T08:39:04.009Z"
   },
   {
    "duration": 660,
    "start_time": "2023-05-02T08:39:04.389Z"
   },
   {
    "duration": 725,
    "start_time": "2023-05-02T08:39:05.051Z"
   },
   {
    "duration": 54,
    "start_time": "2023-05-02T08:39:05.778Z"
   },
   {
    "duration": 895,
    "start_time": "2023-05-02T08:39:05.834Z"
   },
   {
    "duration": 849,
    "start_time": "2023-05-02T08:39:06.733Z"
   },
   {
    "duration": 1056,
    "start_time": "2023-05-02T08:39:07.584Z"
   },
   {
    "duration": 124,
    "start_time": "2023-05-02T08:39:08.642Z"
   },
   {
    "duration": 853,
    "start_time": "2023-05-02T08:39:08.769Z"
   },
   {
    "duration": 878,
    "start_time": "2023-05-02T08:39:09.636Z"
   },
   {
    "duration": 1016,
    "start_time": "2023-05-02T08:39:10.520Z"
   },
   {
    "duration": 26,
    "start_time": "2023-05-02T08:39:11.538Z"
   },
   {
    "duration": 42,
    "start_time": "2023-05-02T08:39:11.567Z"
   },
   {
    "duration": 11,
    "start_time": "2023-05-02T08:39:11.611Z"
   },
   {
    "duration": 7,
    "start_time": "2023-05-02T08:39:11.627Z"
   },
   {
    "duration": 6,
    "start_time": "2023-05-02T08:39:11.636Z"
   },
   {
    "duration": 6,
    "start_time": "2023-05-02T08:39:11.645Z"
   },
   {
    "duration": 5,
    "start_time": "2023-05-02T08:39:11.653Z"
   },
   {
    "duration": 29,
    "start_time": "2023-05-02T08:39:11.660Z"
   },
   {
    "duration": 12,
    "start_time": "2023-05-02T08:39:11.691Z"
   },
   {
    "duration": 189,
    "start_time": "2023-05-02T08:39:30.030Z"
   },
   {
    "duration": 32,
    "start_time": "2023-05-02T08:40:22.463Z"
   },
   {
    "duration": 2179,
    "start_time": "2023-05-02T08:40:32.899Z"
   },
   {
    "duration": 1184,
    "start_time": "2023-05-02T08:40:35.091Z"
   },
   {
    "duration": 1224,
    "start_time": "2023-05-02T08:40:36.277Z"
   },
   {
    "duration": 5,
    "start_time": "2023-05-02T08:40:37.509Z"
   },
   {
    "duration": 20,
    "start_time": "2023-05-02T08:40:37.520Z"
   },
   {
    "duration": 1868,
    "start_time": "2023-05-02T08:42:15.532Z"
   },
   {
    "duration": 960,
    "start_time": "2023-05-02T08:42:17.403Z"
   },
   {
    "duration": 992,
    "start_time": "2023-05-02T08:42:18.371Z"
   },
   {
    "duration": 7,
    "start_time": "2023-05-02T08:42:19.366Z"
   },
   {
    "duration": 21,
    "start_time": "2023-05-02T08:42:19.378Z"
   },
   {
    "duration": 6,
    "start_time": "2023-05-02T08:42:19.402Z"
   },
   {
    "duration": 9,
    "start_time": "2023-05-02T08:42:19.410Z"
   },
   {
    "duration": 38,
    "start_time": "2023-05-02T08:42:19.422Z"
   },
   {
    "duration": 31,
    "start_time": "2023-05-02T08:42:19.464Z"
   },
   {
    "duration": 147,
    "start_time": "2023-05-02T08:42:19.499Z"
   },
   {
    "duration": 25,
    "start_time": "2023-05-02T08:42:19.648Z"
   },
   {
    "duration": 379,
    "start_time": "2023-05-02T08:42:19.686Z"
   },
   {
    "duration": 578,
    "start_time": "2023-05-02T08:42:20.067Z"
   },
   {
    "duration": 687,
    "start_time": "2023-05-02T08:42:20.648Z"
   },
   {
    "duration": 54,
    "start_time": "2023-05-02T08:42:21.337Z"
   },
   {
    "duration": 859,
    "start_time": "2023-05-02T08:42:21.393Z"
   },
   {
    "duration": 942,
    "start_time": "2023-05-02T08:42:22.257Z"
   },
   {
    "duration": 1172,
    "start_time": "2023-05-02T08:42:23.202Z"
   },
   {
    "duration": 127,
    "start_time": "2023-05-02T08:42:24.380Z"
   },
   {
    "duration": 985,
    "start_time": "2023-05-02T08:42:24.514Z"
   },
   {
    "duration": 910,
    "start_time": "2023-05-02T08:42:25.501Z"
   },
   {
    "duration": 1100,
    "start_time": "2023-05-02T08:42:26.416Z"
   },
   {
    "duration": 29,
    "start_time": "2023-05-02T08:42:27.523Z"
   },
   {
    "duration": 27,
    "start_time": "2023-05-02T08:42:27.555Z"
   },
   {
    "duration": 7,
    "start_time": "2023-05-02T08:42:27.588Z"
   },
   {
    "duration": 4,
    "start_time": "2023-05-02T08:42:27.597Z"
   },
   {
    "duration": 13,
    "start_time": "2023-05-02T08:42:27.604Z"
   },
   {
    "duration": 10,
    "start_time": "2023-05-02T08:42:27.619Z"
   },
   {
    "duration": 6,
    "start_time": "2023-05-02T08:42:27.632Z"
   },
   {
    "duration": 22,
    "start_time": "2023-05-02T08:42:27.643Z"
   },
   {
    "duration": 188,
    "start_time": "2023-05-02T08:42:27.667Z"
   },
   {
    "duration": 0,
    "start_time": "2023-05-02T08:42:27.859Z"
   },
   {
    "duration": 14,
    "start_time": "2023-05-02T08:43:42.629Z"
   },
   {
    "duration": 1890,
    "start_time": "2023-05-02T08:47:43.319Z"
   },
   {
    "duration": 1014,
    "start_time": "2023-05-02T08:47:45.215Z"
   },
   {
    "duration": 1109,
    "start_time": "2023-05-02T08:47:46.231Z"
   },
   {
    "duration": 5,
    "start_time": "2023-05-02T08:47:47.343Z"
   },
   {
    "duration": 17,
    "start_time": "2023-05-02T08:47:47.351Z"
   },
   {
    "duration": 16,
    "start_time": "2023-05-02T08:47:47.370Z"
   },
   {
    "duration": 6,
    "start_time": "2023-05-02T08:47:47.389Z"
   },
   {
    "duration": 33,
    "start_time": "2023-05-02T08:47:47.397Z"
   },
   {
    "duration": 27,
    "start_time": "2023-05-02T08:47:47.432Z"
   },
   {
    "duration": 157,
    "start_time": "2023-05-02T08:47:47.486Z"
   },
   {
    "duration": 30,
    "start_time": "2023-05-02T08:47:47.646Z"
   },
   {
    "duration": 348,
    "start_time": "2023-05-02T08:47:47.678Z"
   },
   {
    "duration": 656,
    "start_time": "2023-05-02T08:47:48.029Z"
   },
   {
    "duration": 733,
    "start_time": "2023-05-02T08:47:48.690Z"
   },
   {
    "duration": 60,
    "start_time": "2023-05-02T08:47:49.425Z"
   },
   {
    "duration": 912,
    "start_time": "2023-05-02T08:47:49.488Z"
   },
   {
    "duration": 796,
    "start_time": "2023-05-02T08:47:50.404Z"
   },
   {
    "duration": 990,
    "start_time": "2023-05-02T08:47:51.202Z"
   },
   {
    "duration": 113,
    "start_time": "2023-05-02T08:47:52.195Z"
   },
   {
    "duration": 665,
    "start_time": "2023-05-02T08:47:52.310Z"
   },
   {
    "duration": 641,
    "start_time": "2023-05-02T08:47:52.978Z"
   },
   {
    "duration": 1020,
    "start_time": "2023-05-02T08:47:53.621Z"
   },
   {
    "duration": 23,
    "start_time": "2023-05-02T08:47:54.646Z"
   },
   {
    "duration": 30,
    "start_time": "2023-05-02T08:47:54.671Z"
   },
   {
    "duration": 17,
    "start_time": "2023-05-02T08:47:54.703Z"
   },
   {
    "duration": 39,
    "start_time": "2023-05-02T08:47:54.722Z"
   },
   {
    "duration": 8,
    "start_time": "2023-05-02T08:47:54.764Z"
   },
   {
    "duration": 5,
    "start_time": "2023-05-02T08:47:54.776Z"
   },
   {
    "duration": 10,
    "start_time": "2023-05-02T08:47:54.784Z"
   },
   {
    "duration": 21,
    "start_time": "2023-05-02T08:47:54.799Z"
   },
   {
    "duration": 1797,
    "start_time": "2023-05-02T08:57:30.520Z"
   },
   {
    "duration": 817,
    "start_time": "2023-05-02T08:57:32.320Z"
   },
   {
    "duration": 1011,
    "start_time": "2023-05-02T08:57:33.139Z"
   },
   {
    "duration": 4,
    "start_time": "2023-05-02T08:57:34.152Z"
   },
   {
    "duration": 26,
    "start_time": "2023-05-02T08:57:34.159Z"
   },
   {
    "duration": 5,
    "start_time": "2023-05-02T08:57:34.188Z"
   },
   {
    "duration": 5,
    "start_time": "2023-05-02T08:57:34.196Z"
   },
   {
    "duration": 21,
    "start_time": "2023-05-02T08:57:34.203Z"
   },
   {
    "duration": 26,
    "start_time": "2023-05-02T08:57:34.226Z"
   },
   {
    "duration": 128,
    "start_time": "2023-05-02T08:57:34.257Z"
   },
   {
    "duration": 21,
    "start_time": "2023-05-02T08:57:34.387Z"
   },
   {
    "duration": 351,
    "start_time": "2023-05-02T08:57:34.410Z"
   },
   {
    "duration": 622,
    "start_time": "2023-05-02T08:57:34.763Z"
   },
   {
    "duration": 798,
    "start_time": "2023-05-02T08:57:35.389Z"
   },
   {
    "duration": 71,
    "start_time": "2023-05-02T08:57:36.189Z"
   },
   {
    "duration": 861,
    "start_time": "2023-05-02T08:57:36.263Z"
   },
   {
    "duration": 923,
    "start_time": "2023-05-02T08:57:37.131Z"
   },
   {
    "duration": 1068,
    "start_time": "2023-05-02T08:57:38.057Z"
   },
   {
    "duration": 148,
    "start_time": "2023-05-02T08:57:39.127Z"
   },
   {
    "duration": 1034,
    "start_time": "2023-05-02T08:57:39.280Z"
   },
   {
    "duration": 959,
    "start_time": "2023-05-02T08:57:40.317Z"
   },
   {
    "duration": 914,
    "start_time": "2023-05-02T08:57:41.279Z"
   },
   {
    "duration": 20,
    "start_time": "2023-05-02T08:57:42.196Z"
   },
   {
    "duration": 22,
    "start_time": "2023-05-02T08:57:42.218Z"
   },
   {
    "duration": 10,
    "start_time": "2023-05-02T08:57:42.244Z"
   },
   {
    "duration": 6,
    "start_time": "2023-05-02T08:57:42.256Z"
   },
   {
    "duration": 6,
    "start_time": "2023-05-02T08:57:42.285Z"
   },
   {
    "duration": 9,
    "start_time": "2023-05-02T08:57:42.293Z"
   },
   {
    "duration": 6,
    "start_time": "2023-05-02T08:57:42.304Z"
   },
   {
    "duration": 8,
    "start_time": "2023-05-02T08:57:42.313Z"
   },
   {
    "duration": 1896,
    "start_time": "2023-05-02T08:59:35.158Z"
   },
   {
    "duration": 931,
    "start_time": "2023-05-02T08:59:37.058Z"
   },
   {
    "duration": 1099,
    "start_time": "2023-05-02T08:59:37.992Z"
   },
   {
    "duration": 4,
    "start_time": "2023-05-02T08:59:39.093Z"
   },
   {
    "duration": 13,
    "start_time": "2023-05-02T08:59:39.101Z"
   },
   {
    "duration": 5,
    "start_time": "2023-05-02T08:59:39.115Z"
   },
   {
    "duration": 14,
    "start_time": "2023-05-02T08:59:39.122Z"
   },
   {
    "duration": 22,
    "start_time": "2023-05-02T08:59:39.138Z"
   },
   {
    "duration": 21,
    "start_time": "2023-05-02T08:59:39.185Z"
   },
   {
    "duration": 162,
    "start_time": "2023-05-02T08:59:39.208Z"
   },
   {
    "duration": 29,
    "start_time": "2023-05-02T08:59:39.373Z"
   },
   {
    "duration": 291,
    "start_time": "2023-05-02T08:59:39.406Z"
   },
   {
    "duration": 457,
    "start_time": "2023-05-02T08:59:39.700Z"
   },
   {
    "duration": 704,
    "start_time": "2023-05-02T08:59:40.160Z"
   },
   {
    "duration": 55,
    "start_time": "2023-05-02T08:59:40.867Z"
   },
   {
    "duration": 961,
    "start_time": "2023-05-02T08:59:40.925Z"
   },
   {
    "duration": 817,
    "start_time": "2023-05-02T08:59:41.888Z"
   },
   {
    "duration": 724,
    "start_time": "2023-05-02T08:59:42.707Z"
   },
   {
    "duration": 141,
    "start_time": "2023-05-02T08:59:43.433Z"
   },
   {
    "duration": 950,
    "start_time": "2023-05-02T08:59:43.577Z"
   },
   {
    "duration": 873,
    "start_time": "2023-05-02T08:59:44.530Z"
   },
   {
    "duration": 765,
    "start_time": "2023-05-02T08:59:45.406Z"
   },
   {
    "duration": 33,
    "start_time": "2023-05-02T08:59:46.173Z"
   },
   {
    "duration": 27,
    "start_time": "2023-05-02T08:59:46.209Z"
   },
   {
    "duration": 7,
    "start_time": "2023-05-02T08:59:46.238Z"
   },
   {
    "duration": 5,
    "start_time": "2023-05-02T08:59:46.248Z"
   },
   {
    "duration": 5,
    "start_time": "2023-05-02T08:59:46.285Z"
   },
   {
    "duration": 7,
    "start_time": "2023-05-02T08:59:46.293Z"
   },
   {
    "duration": 10,
    "start_time": "2023-05-02T08:59:46.302Z"
   },
   {
    "duration": 10,
    "start_time": "2023-05-02T08:59:46.315Z"
   },
   {
    "duration": 2002,
    "start_time": "2023-05-02T09:01:00.385Z"
   },
   {
    "duration": 995,
    "start_time": "2023-05-02T09:01:02.390Z"
   },
   {
    "duration": 1136,
    "start_time": "2023-05-02T09:01:03.388Z"
   },
   {
    "duration": 6,
    "start_time": "2023-05-02T09:01:04.526Z"
   },
   {
    "duration": 13,
    "start_time": "2023-05-02T09:01:04.535Z"
   },
   {
    "duration": 7,
    "start_time": "2023-05-02T09:01:04.550Z"
   },
   {
    "duration": 31,
    "start_time": "2023-05-02T09:01:04.559Z"
   },
   {
    "duration": 20,
    "start_time": "2023-05-02T09:01:04.594Z"
   },
   {
    "duration": 23,
    "start_time": "2023-05-02T09:01:04.616Z"
   },
   {
    "duration": 172,
    "start_time": "2023-05-02T09:01:04.641Z"
   },
   {
    "duration": 26,
    "start_time": "2023-05-02T09:01:04.820Z"
   },
   {
    "duration": 396,
    "start_time": "2023-05-02T09:01:04.849Z"
   },
   {
    "duration": 662,
    "start_time": "2023-05-02T09:01:05.248Z"
   },
   {
    "duration": 700,
    "start_time": "2023-05-02T09:01:05.914Z"
   },
   {
    "duration": 54,
    "start_time": "2023-05-02T09:01:06.617Z"
   },
   {
    "duration": 692,
    "start_time": "2023-05-02T09:01:06.685Z"
   },
   {
    "duration": 1005,
    "start_time": "2023-05-02T09:01:07.380Z"
   },
   {
    "duration": 1068,
    "start_time": "2023-05-02T09:01:08.388Z"
   },
   {
    "duration": 141,
    "start_time": "2023-05-02T09:01:09.459Z"
   },
   {
    "duration": 935,
    "start_time": "2023-05-02T09:01:09.609Z"
   },
   {
    "duration": 982,
    "start_time": "2023-05-02T09:01:10.547Z"
   },
   {
    "duration": 969,
    "start_time": "2023-05-02T09:01:11.531Z"
   },
   {
    "duration": 26,
    "start_time": "2023-05-02T09:01:12.502Z"
   },
   {
    "duration": 25,
    "start_time": "2023-05-02T09:01:12.531Z"
   },
   {
    "duration": 27,
    "start_time": "2023-05-02T09:01:12.559Z"
   },
   {
    "duration": 5,
    "start_time": "2023-05-02T09:01:12.589Z"
   },
   {
    "duration": 13,
    "start_time": "2023-05-02T09:01:12.597Z"
   },
   {
    "duration": 36,
    "start_time": "2023-05-02T09:01:12.613Z"
   },
   {
    "duration": 9,
    "start_time": "2023-05-02T09:01:12.651Z"
   },
   {
    "duration": 15,
    "start_time": "2023-05-02T09:01:12.663Z"
   },
   {
    "duration": 1919,
    "start_time": "2023-05-02T09:05:35.239Z"
   },
   {
    "duration": 897,
    "start_time": "2023-05-02T09:05:37.160Z"
   },
   {
    "duration": 887,
    "start_time": "2023-05-02T09:05:38.059Z"
   },
   {
    "duration": 4,
    "start_time": "2023-05-02T09:05:38.947Z"
   },
   {
    "duration": 10,
    "start_time": "2023-05-02T09:05:38.954Z"
   },
   {
    "duration": 21,
    "start_time": "2023-05-02T09:05:38.966Z"
   },
   {
    "duration": 14,
    "start_time": "2023-05-02T09:05:38.989Z"
   },
   {
    "duration": 43,
    "start_time": "2023-05-02T09:05:39.005Z"
   },
   {
    "duration": 20,
    "start_time": "2023-05-02T09:05:39.050Z"
   },
   {
    "duration": 98,
    "start_time": "2023-05-02T09:05:39.072Z"
   },
   {
    "duration": 30,
    "start_time": "2023-05-02T09:05:39.172Z"
   },
   {
    "duration": 317,
    "start_time": "2023-05-02T09:05:39.205Z"
   },
   {
    "duration": 441,
    "start_time": "2023-05-02T09:05:39.524Z"
   },
   {
    "duration": 617,
    "start_time": "2023-05-02T09:05:39.969Z"
   },
   {
    "duration": 51,
    "start_time": "2023-05-02T09:05:40.588Z"
   },
   {
    "duration": 653,
    "start_time": "2023-05-02T09:05:40.642Z"
   },
   {
    "duration": 625,
    "start_time": "2023-05-02T09:05:41.297Z"
   },
   {
    "duration": 754,
    "start_time": "2023-05-02T09:05:41.925Z"
   },
   {
    "duration": 111,
    "start_time": "2023-05-02T09:05:42.685Z"
   },
   {
    "duration": 616,
    "start_time": "2023-05-02T09:05:42.797Z"
   },
   {
    "duration": 699,
    "start_time": "2023-05-02T09:05:43.415Z"
   },
   {
    "duration": 859,
    "start_time": "2023-05-02T09:05:44.117Z"
   },
   {
    "duration": 28,
    "start_time": "2023-05-02T09:05:44.984Z"
   },
   {
    "duration": 23,
    "start_time": "2023-05-02T09:05:45.014Z"
   },
   {
    "duration": 7,
    "start_time": "2023-05-02T09:05:45.040Z"
   },
   {
    "duration": 14,
    "start_time": "2023-05-02T09:05:45.048Z"
   },
   {
    "duration": 6,
    "start_time": "2023-05-02T09:05:45.086Z"
   },
   {
    "duration": 10,
    "start_time": "2023-05-02T09:05:45.095Z"
   },
   {
    "duration": 9,
    "start_time": "2023-05-02T09:05:45.108Z"
   },
   {
    "duration": 17,
    "start_time": "2023-05-02T09:05:45.120Z"
   },
   {
    "duration": 1887,
    "start_time": "2023-05-02T09:08:49.034Z"
   },
   {
    "duration": 840,
    "start_time": "2023-05-02T09:08:50.924Z"
   },
   {
    "duration": 875,
    "start_time": "2023-05-02T09:08:51.766Z"
   },
   {
    "duration": 3,
    "start_time": "2023-05-02T09:08:52.643Z"
   },
   {
    "duration": 15,
    "start_time": "2023-05-02T09:08:52.649Z"
   },
   {
    "duration": 7,
    "start_time": "2023-05-02T09:08:52.684Z"
   },
   {
    "duration": 11,
    "start_time": "2023-05-02T09:08:52.693Z"
   },
   {
    "duration": 19,
    "start_time": "2023-05-02T09:08:52.707Z"
   },
   {
    "duration": 23,
    "start_time": "2023-05-02T09:08:52.729Z"
   },
   {
    "duration": 122,
    "start_time": "2023-05-02T09:08:52.755Z"
   },
   {
    "duration": 25,
    "start_time": "2023-05-02T09:08:52.886Z"
   },
   {
    "duration": 305,
    "start_time": "2023-05-02T09:08:52.913Z"
   },
   {
    "duration": 450,
    "start_time": "2023-05-02T09:08:53.219Z"
   },
   {
    "duration": 688,
    "start_time": "2023-05-02T09:08:53.674Z"
   },
   {
    "duration": 64,
    "start_time": "2023-05-02T09:08:54.364Z"
   },
   {
    "duration": 682,
    "start_time": "2023-05-02T09:08:54.432Z"
   },
   {
    "duration": 652,
    "start_time": "2023-05-02T09:08:55.116Z"
   },
   {
    "duration": 971,
    "start_time": "2023-05-02T09:08:55.771Z"
   },
   {
    "duration": 115,
    "start_time": "2023-05-02T09:08:56.745Z"
   },
   {
    "duration": 798,
    "start_time": "2023-05-02T09:08:56.862Z"
   },
   {
    "duration": 821,
    "start_time": "2023-05-02T09:08:57.662Z"
   },
   {
    "duration": 845,
    "start_time": "2023-05-02T09:08:58.485Z"
   },
   {
    "duration": 23,
    "start_time": "2023-05-02T09:08:59.336Z"
   },
   {
    "duration": 39,
    "start_time": "2023-05-02T09:08:59.361Z"
   },
   {
    "duration": 6,
    "start_time": "2023-05-02T09:08:59.403Z"
   },
   {
    "duration": 7,
    "start_time": "2023-05-02T09:08:59.410Z"
   },
   {
    "duration": 5,
    "start_time": "2023-05-02T09:08:59.419Z"
   },
   {
    "duration": 10,
    "start_time": "2023-05-02T09:08:59.426Z"
   },
   {
    "duration": 5,
    "start_time": "2023-05-02T09:08:59.440Z"
   },
   {
    "duration": 43,
    "start_time": "2023-05-02T09:08:59.447Z"
   },
   {
    "duration": 399,
    "start_time": "2023-05-02T09:08:59.493Z"
   },
   {
    "duration": 1622,
    "start_time": "2023-05-02T09:17:26.858Z"
   },
   {
    "duration": 748,
    "start_time": "2023-05-02T09:17:28.482Z"
   },
   {
    "duration": 805,
    "start_time": "2023-05-02T09:17:29.232Z"
   },
   {
    "duration": 4,
    "start_time": "2023-05-02T09:17:30.039Z"
   },
   {
    "duration": 18,
    "start_time": "2023-05-02T09:17:30.046Z"
   },
   {
    "duration": 20,
    "start_time": "2023-05-02T09:17:30.067Z"
   },
   {
    "duration": 22,
    "start_time": "2023-05-02T09:17:30.090Z"
   },
   {
    "duration": 37,
    "start_time": "2023-05-02T09:17:30.114Z"
   },
   {
    "duration": 18,
    "start_time": "2023-05-02T09:17:30.156Z"
   },
   {
    "duration": 119,
    "start_time": "2023-05-02T09:17:30.176Z"
   },
   {
    "duration": 20,
    "start_time": "2023-05-02T09:17:30.297Z"
   },
   {
    "duration": 329,
    "start_time": "2023-05-02T09:17:30.319Z"
   },
   {
    "duration": 487,
    "start_time": "2023-05-02T09:17:30.650Z"
   },
   {
    "duration": 551,
    "start_time": "2023-05-02T09:17:31.141Z"
   },
   {
    "duration": 48,
    "start_time": "2023-05-02T09:17:31.694Z"
   },
   {
    "duration": 584,
    "start_time": "2023-05-02T09:17:31.743Z"
   },
   {
    "duration": 598,
    "start_time": "2023-05-02T09:17:32.329Z"
   },
   {
    "duration": 676,
    "start_time": "2023-05-02T09:17:32.929Z"
   },
   {
    "duration": 108,
    "start_time": "2023-05-02T09:17:33.607Z"
   },
   {
    "duration": 793,
    "start_time": "2023-05-02T09:17:33.717Z"
   },
   {
    "duration": 700,
    "start_time": "2023-05-02T09:17:34.512Z"
   },
   {
    "duration": 856,
    "start_time": "2023-05-02T09:17:35.214Z"
   },
   {
    "duration": 25,
    "start_time": "2023-05-02T09:17:36.072Z"
   },
   {
    "duration": 24,
    "start_time": "2023-05-02T09:17:36.100Z"
   },
   {
    "duration": 175,
    "start_time": "2023-05-02T09:17:36.126Z"
   },
   {
    "duration": 0,
    "start_time": "2023-05-02T09:17:36.303Z"
   },
   {
    "duration": 0,
    "start_time": "2023-05-02T09:17:36.304Z"
   },
   {
    "duration": 0,
    "start_time": "2023-05-02T09:17:36.305Z"
   },
   {
    "duration": 0,
    "start_time": "2023-05-02T09:17:36.306Z"
   },
   {
    "duration": 0,
    "start_time": "2023-05-02T09:17:36.307Z"
   },
   {
    "duration": 0,
    "start_time": "2023-05-02T09:17:36.308Z"
   },
   {
    "duration": 705,
    "start_time": "2023-05-02T09:19:04.705Z"
   },
   {
    "duration": 26,
    "start_time": "2023-05-02T09:21:33.088Z"
   },
   {
    "duration": 2042,
    "start_time": "2023-05-02T09:21:43.127Z"
   },
   {
    "duration": 836,
    "start_time": "2023-05-02T09:21:45.172Z"
   },
   {
    "duration": 788,
    "start_time": "2023-05-02T09:21:46.010Z"
   },
   {
    "duration": 4,
    "start_time": "2023-05-02T09:21:46.800Z"
   },
   {
    "duration": 18,
    "start_time": "2023-05-02T09:21:46.808Z"
   },
   {
    "duration": 7,
    "start_time": "2023-05-02T09:21:46.828Z"
   },
   {
    "duration": 12,
    "start_time": "2023-05-02T09:21:46.837Z"
   },
   {
    "duration": 39,
    "start_time": "2023-05-02T09:21:46.851Z"
   },
   {
    "duration": 24,
    "start_time": "2023-05-02T09:21:46.892Z"
   },
   {
    "duration": 110,
    "start_time": "2023-05-02T09:21:46.920Z"
   },
   {
    "duration": 17,
    "start_time": "2023-05-02T09:21:47.032Z"
   },
   {
    "duration": 294,
    "start_time": "2023-05-02T09:21:47.052Z"
   },
   {
    "duration": 448,
    "start_time": "2023-05-02T09:21:47.349Z"
   },
   {
    "duration": 571,
    "start_time": "2023-05-02T09:21:47.801Z"
   },
   {
    "duration": 48,
    "start_time": "2023-05-02T09:21:48.374Z"
   },
   {
    "duration": 702,
    "start_time": "2023-05-02T09:21:48.424Z"
   },
   {
    "duration": 733,
    "start_time": "2023-05-02T09:21:49.128Z"
   },
   {
    "duration": 733,
    "start_time": "2023-05-02T09:21:49.863Z"
   },
   {
    "duration": 120,
    "start_time": "2023-05-02T09:21:50.598Z"
   },
   {
    "duration": 574,
    "start_time": "2023-05-02T09:21:50.720Z"
   },
   {
    "duration": 600,
    "start_time": "2023-05-02T09:21:51.297Z"
   },
   {
    "duration": 748,
    "start_time": "2023-05-02T09:21:51.898Z"
   },
   {
    "duration": 36,
    "start_time": "2023-05-02T09:21:52.649Z"
   },
   {
    "duration": 23,
    "start_time": "2023-05-02T09:21:52.687Z"
   },
   {
    "duration": 915,
    "start_time": "2023-05-02T09:21:52.712Z"
   },
   {
    "duration": 0,
    "start_time": "2023-05-02T09:21:53.629Z"
   },
   {
    "duration": 0,
    "start_time": "2023-05-02T09:21:53.631Z"
   },
   {
    "duration": 0,
    "start_time": "2023-05-02T09:21:53.633Z"
   },
   {
    "duration": 0,
    "start_time": "2023-05-02T09:21:53.634Z"
   },
   {
    "duration": 0,
    "start_time": "2023-05-02T09:21:53.635Z"
   },
   {
    "duration": 0,
    "start_time": "2023-05-02T09:21:53.637Z"
   },
   {
    "duration": 16,
    "start_time": "2023-05-02T09:26:59.818Z"
   },
   {
    "duration": 6,
    "start_time": "2023-05-02T09:27:06.278Z"
   },
   {
    "duration": 5,
    "start_time": "2023-05-02T09:27:33.938Z"
   },
   {
    "duration": 5,
    "start_time": "2023-05-02T09:27:36.936Z"
   },
   {
    "duration": 4,
    "start_time": "2023-05-02T09:27:39.578Z"
   },
   {
    "duration": 7,
    "start_time": "2023-05-02T09:27:58.177Z"
   },
   {
    "duration": 4,
    "start_time": "2023-05-02T09:28:56.881Z"
   },
   {
    "duration": 13,
    "start_time": "2023-05-02T09:29:08.357Z"
   },
   {
    "duration": 7,
    "start_time": "2023-05-02T09:37:18.937Z"
   },
   {
    "duration": 1795,
    "start_time": "2023-05-02T10:04:20.302Z"
   },
   {
    "duration": 14,
    "start_time": "2023-05-02T10:15:57.106Z"
   },
   {
    "duration": 1593,
    "start_time": "2023-05-02T10:28:02.103Z"
   },
   {
    "duration": 818,
    "start_time": "2023-05-02T10:28:03.700Z"
   },
   {
    "duration": 798,
    "start_time": "2023-05-02T10:28:04.520Z"
   },
   {
    "duration": 4,
    "start_time": "2023-05-02T10:28:05.319Z"
   },
   {
    "duration": 9,
    "start_time": "2023-05-02T10:28:05.326Z"
   },
   {
    "duration": 5,
    "start_time": "2023-05-02T10:28:05.336Z"
   },
   {
    "duration": 5,
    "start_time": "2023-05-02T10:28:05.343Z"
   },
   {
    "duration": 55,
    "start_time": "2023-05-02T10:28:05.349Z"
   },
   {
    "duration": 18,
    "start_time": "2023-05-02T10:28:05.405Z"
   },
   {
    "duration": 105,
    "start_time": "2023-05-02T10:28:05.424Z"
   },
   {
    "duration": 18,
    "start_time": "2023-05-02T10:28:05.531Z"
   },
   {
    "duration": 276,
    "start_time": "2023-05-02T10:28:05.551Z"
   },
   {
    "duration": 453,
    "start_time": "2023-05-02T10:28:05.828Z"
   },
   {
    "duration": 548,
    "start_time": "2023-05-02T10:28:06.283Z"
   },
   {
    "duration": 41,
    "start_time": "2023-05-02T10:28:06.833Z"
   },
   {
    "duration": 614,
    "start_time": "2023-05-02T10:28:06.888Z"
   },
   {
    "duration": 604,
    "start_time": "2023-05-02T10:28:07.504Z"
   },
   {
    "duration": 744,
    "start_time": "2023-05-02T10:28:08.110Z"
   },
   {
    "duration": 99,
    "start_time": "2023-05-02T10:28:08.856Z"
   },
   {
    "duration": 572,
    "start_time": "2023-05-02T10:28:08.956Z"
   },
   {
    "duration": 617,
    "start_time": "2023-05-02T10:28:09.530Z"
   },
   {
    "duration": 763,
    "start_time": "2023-05-02T10:28:10.149Z"
   },
   {
    "duration": 18,
    "start_time": "2023-05-02T10:28:10.914Z"
   },
   {
    "duration": 44,
    "start_time": "2023-05-02T10:28:10.933Z"
   },
   {
    "duration": 23,
    "start_time": "2023-05-02T10:28:10.978Z"
   },
   {
    "duration": 6,
    "start_time": "2023-05-02T10:28:11.006Z"
   },
   {
    "duration": 19,
    "start_time": "2023-05-02T10:28:11.014Z"
   },
   {
    "duration": 5,
    "start_time": "2023-05-02T10:28:11.035Z"
   },
   {
    "duration": 7,
    "start_time": "2023-05-02T10:28:11.042Z"
   },
   {
    "duration": 10,
    "start_time": "2023-05-02T10:28:11.050Z"
   },
   {
    "duration": 6602,
    "start_time": "2023-05-02T10:28:11.062Z"
   },
   {
    "duration": 19,
    "start_time": "2023-05-02T10:33:19.713Z"
   },
   {
    "duration": 1528,
    "start_time": "2023-05-02T10:34:23.321Z"
   },
   {
    "duration": 760,
    "start_time": "2023-05-02T10:34:24.852Z"
   },
   {
    "duration": 765,
    "start_time": "2023-05-02T10:34:25.614Z"
   },
   {
    "duration": 10,
    "start_time": "2023-05-02T10:34:26.381Z"
   },
   {
    "duration": 21,
    "start_time": "2023-05-02T10:34:26.401Z"
   },
   {
    "duration": 10,
    "start_time": "2023-05-02T10:34:26.424Z"
   },
   {
    "duration": 3,
    "start_time": "2023-05-02T10:34:26.436Z"
   },
   {
    "duration": 57,
    "start_time": "2023-05-02T10:34:26.441Z"
   },
   {
    "duration": 23,
    "start_time": "2023-05-02T10:34:26.506Z"
   },
   {
    "duration": 113,
    "start_time": "2023-05-02T10:34:26.531Z"
   },
   {
    "duration": 19,
    "start_time": "2023-05-02T10:34:26.645Z"
   },
   {
    "duration": 333,
    "start_time": "2023-05-02T10:34:26.665Z"
   },
   {
    "duration": 529,
    "start_time": "2023-05-02T10:34:27.000Z"
   },
   {
    "duration": 612,
    "start_time": "2023-05-02T10:34:27.534Z"
   },
   {
    "duration": 51,
    "start_time": "2023-05-02T10:34:28.148Z"
   },
   {
    "duration": 704,
    "start_time": "2023-05-02T10:34:28.208Z"
   },
   {
    "duration": 618,
    "start_time": "2023-05-02T10:34:28.914Z"
   },
   {
    "duration": 747,
    "start_time": "2023-05-02T10:34:29.534Z"
   },
   {
    "duration": 105,
    "start_time": "2023-05-02T10:34:30.283Z"
   },
   {
    "duration": 647,
    "start_time": "2023-05-02T10:34:30.397Z"
   },
   {
    "duration": 660,
    "start_time": "2023-05-02T10:34:31.047Z"
   },
   {
    "duration": 730,
    "start_time": "2023-05-02T10:34:31.709Z"
   },
   {
    "duration": 22,
    "start_time": "2023-05-02T10:34:32.441Z"
   },
   {
    "duration": 43,
    "start_time": "2023-05-02T10:34:32.465Z"
   },
   {
    "duration": 36,
    "start_time": "2023-05-02T10:34:32.513Z"
   },
   {
    "duration": 18,
    "start_time": "2023-05-02T10:34:32.551Z"
   },
   {
    "duration": 29,
    "start_time": "2023-05-02T10:34:32.571Z"
   },
   {
    "duration": 6,
    "start_time": "2023-05-02T10:34:32.602Z"
   },
   {
    "duration": 16,
    "start_time": "2023-05-02T10:34:32.609Z"
   },
   {
    "duration": 17,
    "start_time": "2023-05-02T10:34:32.626Z"
   },
   {
    "duration": 133,
    "start_time": "2023-05-02T10:34:32.645Z"
   },
   {
    "duration": 0,
    "start_time": "2023-05-02T10:34:32.780Z"
   },
   {
    "duration": 16,
    "start_time": "2023-05-02T10:38:27.309Z"
   },
   {
    "duration": 6,
    "start_time": "2023-05-02T10:43:28.432Z"
   },
   {
    "duration": 17,
    "start_time": "2023-05-02T10:43:31.407Z"
   },
   {
    "duration": 6,
    "start_time": "2023-05-02T10:44:15.526Z"
   },
   {
    "duration": 16,
    "start_time": "2023-05-02T10:46:01.518Z"
   },
   {
    "duration": 5,
    "start_time": "2023-05-02T10:47:16.126Z"
   },
   {
    "duration": 6,
    "start_time": "2023-05-02T10:47:25.686Z"
   },
   {
    "duration": 3,
    "start_time": "2023-05-02T10:47:44.649Z"
   },
   {
    "duration": 4,
    "start_time": "2023-05-02T10:48:22.650Z"
   },
   {
    "duration": 15,
    "start_time": "2023-05-02T10:48:53.230Z"
   },
   {
    "duration": 6015,
    "start_time": "2023-05-02T10:51:01.551Z"
   },
   {
    "duration": 4,
    "start_time": "2023-05-02T10:51:13.583Z"
   },
   {
    "duration": 6,
    "start_time": "2023-05-02T10:56:22.914Z"
   },
   {
    "duration": 6,
    "start_time": "2023-05-02T10:56:25.661Z"
   },
   {
    "duration": 7,
    "start_time": "2023-05-02T10:56:31.342Z"
   },
   {
    "duration": 6124,
    "start_time": "2023-05-02T10:56:35.416Z"
   },
   {
    "duration": 8,
    "start_time": "2023-05-02T10:57:39.563Z"
   },
   {
    "duration": 5,
    "start_time": "2023-05-02T10:58:00.411Z"
   },
   {
    "duration": 7,
    "start_time": "2023-05-02T10:58:02.684Z"
   },
   {
    "duration": 6611,
    "start_time": "2023-05-02T10:58:48.886Z"
   },
   {
    "duration": 4,
    "start_time": "2023-05-02T11:05:45.462Z"
   },
   {
    "duration": 6,
    "start_time": "2023-05-02T11:12:42.700Z"
   },
   {
    "duration": 13,
    "start_time": "2023-05-02T11:12:45.222Z"
   },
   {
    "duration": 14,
    "start_time": "2023-05-02T11:12:56.062Z"
   },
   {
    "duration": 10,
    "start_time": "2023-05-02T11:13:22.690Z"
   },
   {
    "duration": 8,
    "start_time": "2023-05-02T11:13:24.544Z"
   },
   {
    "duration": 1792,
    "start_time": "2023-05-02T11:24:47.474Z"
   },
   {
    "duration": 929,
    "start_time": "2023-05-02T11:24:49.268Z"
   },
   {
    "duration": 1092,
    "start_time": "2023-05-02T11:24:50.203Z"
   },
   {
    "duration": 8,
    "start_time": "2023-05-02T11:24:51.297Z"
   },
   {
    "duration": 14,
    "start_time": "2023-05-02T11:24:51.307Z"
   },
   {
    "duration": 14,
    "start_time": "2023-05-02T11:24:51.324Z"
   },
   {
    "duration": 6,
    "start_time": "2023-05-02T11:24:51.341Z"
   },
   {
    "duration": 58,
    "start_time": "2023-05-02T11:24:51.349Z"
   },
   {
    "duration": 26,
    "start_time": "2023-05-02T11:24:51.438Z"
   },
   {
    "duration": 143,
    "start_time": "2023-05-02T11:24:51.466Z"
   },
   {
    "duration": 32,
    "start_time": "2023-05-02T11:24:51.612Z"
   },
   {
    "duration": 380,
    "start_time": "2023-05-02T11:24:51.646Z"
   },
   {
    "duration": 620,
    "start_time": "2023-05-02T11:24:52.029Z"
   },
   {
    "duration": 652,
    "start_time": "2023-05-02T11:24:52.652Z"
   },
   {
    "duration": 48,
    "start_time": "2023-05-02T11:24:53.308Z"
   },
   {
    "duration": 800,
    "start_time": "2023-05-02T11:24:53.358Z"
   },
   {
    "duration": 980,
    "start_time": "2023-05-02T11:24:54.161Z"
   },
   {
    "duration": 1013,
    "start_time": "2023-05-02T11:24:55.143Z"
   },
   {
    "duration": 128,
    "start_time": "2023-05-02T11:24:56.159Z"
   },
   {
    "duration": 688,
    "start_time": "2023-05-02T11:24:56.289Z"
   },
   {
    "duration": 785,
    "start_time": "2023-05-02T11:24:56.979Z"
   },
   {
    "duration": 961,
    "start_time": "2023-05-02T11:24:57.766Z"
   },
   {
    "duration": 27,
    "start_time": "2023-05-02T11:24:58.731Z"
   },
   {
    "duration": 24,
    "start_time": "2023-05-02T11:24:58.760Z"
   },
   {
    "duration": 23,
    "start_time": "2023-05-02T11:24:58.794Z"
   },
   {
    "duration": 7,
    "start_time": "2023-05-02T11:24:58.819Z"
   },
   {
    "duration": 6,
    "start_time": "2023-05-02T11:24:58.831Z"
   },
   {
    "duration": 6,
    "start_time": "2023-05-02T11:24:58.839Z"
   },
   {
    "duration": 9,
    "start_time": "2023-05-02T11:24:58.848Z"
   },
   {
    "duration": 7,
    "start_time": "2023-05-02T11:24:58.859Z"
   },
   {
    "duration": 12,
    "start_time": "2023-05-02T11:24:58.891Z"
   },
   {
    "duration": 1991,
    "start_time": "2023-05-02T11:25:34.853Z"
   },
   {
    "duration": 1002,
    "start_time": "2023-05-02T11:25:36.846Z"
   },
   {
    "duration": 1166,
    "start_time": "2023-05-02T11:25:37.851Z"
   },
   {
    "duration": 6,
    "start_time": "2023-05-02T11:25:39.019Z"
   },
   {
    "duration": 36,
    "start_time": "2023-05-02T11:25:39.027Z"
   },
   {
    "duration": 7,
    "start_time": "2023-05-02T11:25:39.066Z"
   },
   {
    "duration": 13,
    "start_time": "2023-05-02T11:25:39.079Z"
   },
   {
    "duration": 49,
    "start_time": "2023-05-02T11:25:39.099Z"
   },
   {
    "duration": 32,
    "start_time": "2023-05-02T11:25:39.150Z"
   },
   {
    "duration": 155,
    "start_time": "2023-05-02T11:25:39.186Z"
   },
   {
    "duration": 23,
    "start_time": "2023-05-02T11:25:39.345Z"
   },
   {
    "duration": 377,
    "start_time": "2023-05-02T11:25:39.370Z"
   },
   {
    "duration": 524,
    "start_time": "2023-05-02T11:25:39.749Z"
   },
   {
    "duration": 768,
    "start_time": "2023-05-02T11:25:40.276Z"
   },
   {
    "duration": 56,
    "start_time": "2023-05-02T11:25:41.047Z"
   },
   {
    "duration": 735,
    "start_time": "2023-05-02T11:25:41.105Z"
   },
   {
    "duration": 909,
    "start_time": "2023-05-02T11:25:41.842Z"
   },
   {
    "duration": 867,
    "start_time": "2023-05-02T11:25:42.754Z"
   },
   {
    "duration": 129,
    "start_time": "2023-05-02T11:25:43.623Z"
   },
   {
    "duration": 858,
    "start_time": "2023-05-02T11:25:43.754Z"
   },
   {
    "duration": 793,
    "start_time": "2023-05-02T11:25:44.614Z"
   },
   {
    "duration": 845,
    "start_time": "2023-05-02T11:25:45.418Z"
   },
   {
    "duration": 31,
    "start_time": "2023-05-02T11:25:46.265Z"
   },
   {
    "duration": 20,
    "start_time": "2023-05-02T11:25:46.305Z"
   },
   {
    "duration": 14,
    "start_time": "2023-05-02T11:25:46.327Z"
   },
   {
    "duration": 7,
    "start_time": "2023-05-02T11:25:46.344Z"
   },
   {
    "duration": 10,
    "start_time": "2023-05-02T11:25:46.353Z"
   },
   {
    "duration": 22,
    "start_time": "2023-05-02T11:25:46.367Z"
   },
   {
    "duration": 13,
    "start_time": "2023-05-02T11:25:46.391Z"
   },
   {
    "duration": 11,
    "start_time": "2023-05-02T11:25:46.406Z"
   },
   {
    "duration": 16,
    "start_time": "2023-05-02T11:25:46.420Z"
   },
   {
    "duration": 1992,
    "start_time": "2023-05-02T11:29:45.036Z"
   },
   {
    "duration": 1018,
    "start_time": "2023-05-02T11:29:47.034Z"
   },
   {
    "duration": 978,
    "start_time": "2023-05-02T11:29:48.055Z"
   },
   {
    "duration": 3,
    "start_time": "2023-05-02T11:29:49.035Z"
   },
   {
    "duration": 9,
    "start_time": "2023-05-02T11:29:49.039Z"
   },
   {
    "duration": 17,
    "start_time": "2023-05-02T11:29:49.054Z"
   },
   {
    "duration": 10,
    "start_time": "2023-05-02T11:29:49.075Z"
   },
   {
    "duration": 28,
    "start_time": "2023-05-02T11:29:49.088Z"
   },
   {
    "duration": 28,
    "start_time": "2023-05-02T11:29:49.119Z"
   },
   {
    "duration": 121,
    "start_time": "2023-05-02T11:29:49.151Z"
   },
   {
    "duration": 25,
    "start_time": "2023-05-02T11:29:49.274Z"
   },
   {
    "duration": 313,
    "start_time": "2023-05-02T11:29:49.302Z"
   },
   {
    "duration": 548,
    "start_time": "2023-05-02T11:29:49.617Z"
   },
   {
    "duration": 598,
    "start_time": "2023-05-02T11:29:50.168Z"
   },
   {
    "duration": 53,
    "start_time": "2023-05-02T11:29:50.772Z"
   },
   {
    "duration": 867,
    "start_time": "2023-05-02T11:29:50.830Z"
   },
   {
    "duration": 767,
    "start_time": "2023-05-02T11:29:51.700Z"
   },
   {
    "duration": 1041,
    "start_time": "2023-05-02T11:29:52.470Z"
   },
   {
    "duration": 127,
    "start_time": "2023-05-02T11:29:53.514Z"
   },
   {
    "duration": 951,
    "start_time": "2023-05-02T11:29:53.643Z"
   },
   {
    "duration": 946,
    "start_time": "2023-05-02T11:29:54.596Z"
   },
   {
    "duration": 1093,
    "start_time": "2023-05-02T11:29:55.544Z"
   },
   {
    "duration": 35,
    "start_time": "2023-05-02T11:29:56.639Z"
   },
   {
    "duration": 44,
    "start_time": "2023-05-02T11:29:56.677Z"
   },
   {
    "duration": 23,
    "start_time": "2023-05-02T11:29:56.729Z"
   },
   {
    "duration": 14,
    "start_time": "2023-05-02T11:29:56.754Z"
   },
   {
    "duration": 42,
    "start_time": "2023-05-02T11:29:56.770Z"
   },
   {
    "duration": 12,
    "start_time": "2023-05-02T11:29:56.817Z"
   },
   {
    "duration": 18,
    "start_time": "2023-05-02T11:29:56.832Z"
   },
   {
    "duration": 12,
    "start_time": "2023-05-02T11:29:56.853Z"
   },
   {
    "duration": 9,
    "start_time": "2023-05-02T11:29:56.868Z"
   },
   {
    "duration": 669,
    "start_time": "2023-05-02T11:29:56.879Z"
   },
   {
    "duration": 497013,
    "start_time": "2023-05-02T11:31:35.095Z"
   },
   {
    "duration": 9,
    "start_time": "2023-05-03T00:35:09.383Z"
   },
   {
    "duration": 53,
    "start_time": "2023-05-03T00:35:29.008Z"
   },
   {
    "duration": 1576,
    "start_time": "2023-05-03T00:35:40.101Z"
   },
   {
    "duration": 3040,
    "start_time": "2023-05-03T00:35:41.679Z"
   },
   {
    "duration": 732,
    "start_time": "2023-05-03T00:35:44.721Z"
   },
   {
    "duration": 2,
    "start_time": "2023-05-03T00:35:45.455Z"
   },
   {
    "duration": 15,
    "start_time": "2023-05-03T00:35:45.459Z"
   },
   {
    "duration": 13,
    "start_time": "2023-05-03T00:35:45.475Z"
   },
   {
    "duration": 9,
    "start_time": "2023-05-03T00:35:45.490Z"
   },
   {
    "duration": 37,
    "start_time": "2023-05-03T00:35:45.501Z"
   },
   {
    "duration": 16,
    "start_time": "2023-05-03T00:35:45.539Z"
   },
   {
    "duration": 99,
    "start_time": "2023-05-03T00:35:45.556Z"
   },
   {
    "duration": 15,
    "start_time": "2023-05-03T00:35:45.657Z"
   },
   {
    "duration": 244,
    "start_time": "2023-05-03T00:35:45.674Z"
   },
   {
    "duration": 434,
    "start_time": "2023-05-03T00:35:45.920Z"
   },
   {
    "duration": 550,
    "start_time": "2023-05-03T00:35:46.357Z"
   },
   {
    "duration": 49,
    "start_time": "2023-05-03T00:35:46.909Z"
   },
   {
    "duration": 559,
    "start_time": "2023-05-03T00:35:46.960Z"
   },
   {
    "duration": 531,
    "start_time": "2023-05-03T00:35:47.521Z"
   },
   {
    "duration": 693,
    "start_time": "2023-05-03T00:35:48.054Z"
   },
   {
    "duration": 101,
    "start_time": "2023-05-03T00:35:48.749Z"
   },
   {
    "duration": 587,
    "start_time": "2023-05-03T00:35:48.851Z"
   },
   {
    "duration": 518,
    "start_time": "2023-05-03T00:35:49.439Z"
   },
   {
    "duration": 714,
    "start_time": "2023-05-03T00:35:49.958Z"
   },
   {
    "duration": 17,
    "start_time": "2023-05-03T00:35:50.673Z"
   },
   {
    "duration": 17,
    "start_time": "2023-05-03T00:35:50.692Z"
   },
   {
    "duration": 32,
    "start_time": "2023-05-03T00:35:50.711Z"
   },
   {
    "duration": 14,
    "start_time": "2023-05-03T00:35:50.745Z"
   },
   {
    "duration": 24,
    "start_time": "2023-05-03T00:35:50.761Z"
   },
   {
    "duration": 12,
    "start_time": "2023-05-03T00:35:50.787Z"
   },
   {
    "duration": 16,
    "start_time": "2023-05-03T00:35:50.800Z"
   },
   {
    "duration": 18,
    "start_time": "2023-05-03T00:35:50.818Z"
   },
   {
    "duration": 19,
    "start_time": "2023-05-03T00:35:50.838Z"
   },
   {
    "duration": 1434,
    "start_time": "2023-05-03T00:37:58.515Z"
   },
   {
    "duration": 711,
    "start_time": "2023-05-03T00:37:59.951Z"
   },
   {
    "duration": 702,
    "start_time": "2023-05-03T00:38:00.663Z"
   },
   {
    "duration": 3,
    "start_time": "2023-05-03T00:38:01.366Z"
   },
   {
    "duration": 63,
    "start_time": "2023-05-03T00:38:01.372Z"
   },
   {
    "duration": 19,
    "start_time": "2023-05-03T00:38:01.437Z"
   },
   {
    "duration": 35,
    "start_time": "2023-05-03T00:38:01.458Z"
   },
   {
    "duration": 82,
    "start_time": "2023-05-03T00:38:01.495Z"
   },
   {
    "duration": 31,
    "start_time": "2023-05-03T00:38:01.578Z"
   },
   {
    "duration": 124,
    "start_time": "2023-05-03T00:38:01.611Z"
   },
   {
    "duration": 16,
    "start_time": "2023-05-03T00:38:01.736Z"
   },
   {
    "duration": 248,
    "start_time": "2023-05-03T00:38:01.754Z"
   },
   {
    "duration": 379,
    "start_time": "2023-05-03T00:38:02.004Z"
   },
   {
    "duration": 488,
    "start_time": "2023-05-03T00:38:02.386Z"
   },
   {
    "duration": 45,
    "start_time": "2023-05-03T00:38:02.876Z"
   },
   {
    "duration": 554,
    "start_time": "2023-05-03T00:38:02.922Z"
   },
   {
    "duration": 545,
    "start_time": "2023-05-03T00:38:03.477Z"
   },
   {
    "duration": 618,
    "start_time": "2023-05-03T00:38:04.023Z"
   },
   {
    "duration": 123,
    "start_time": "2023-05-03T00:38:04.643Z"
   },
   {
    "duration": 513,
    "start_time": "2023-05-03T00:38:04.768Z"
   },
   {
    "duration": 552,
    "start_time": "2023-05-03T00:38:05.284Z"
   },
   {
    "duration": 632,
    "start_time": "2023-05-03T00:38:05.837Z"
   },
   {
    "duration": 15,
    "start_time": "2023-05-03T00:38:06.470Z"
   },
   {
    "duration": 23,
    "start_time": "2023-05-03T00:38:06.487Z"
   },
   {
    "duration": 23,
    "start_time": "2023-05-03T00:38:06.512Z"
   },
   {
    "duration": 23,
    "start_time": "2023-05-03T00:38:06.537Z"
   },
   {
    "duration": 22,
    "start_time": "2023-05-03T00:38:06.562Z"
   },
   {
    "duration": 9,
    "start_time": "2023-05-03T00:38:06.586Z"
   },
   {
    "duration": 8,
    "start_time": "2023-05-03T00:38:06.596Z"
   },
   {
    "duration": 12,
    "start_time": "2023-05-03T00:38:06.605Z"
   },
   {
    "duration": 8,
    "start_time": "2023-05-03T00:38:06.619Z"
   },
   {
    "duration": 2618,
    "start_time": "2023-05-03T00:38:06.628Z"
   },
   {
    "duration": 2335,
    "start_time": "2023-05-03T00:48:22.001Z"
   },
   {
    "duration": 3,
    "start_time": "2023-05-03T00:57:20.143Z"
   },
   {
    "duration": 4,
    "start_time": "2023-05-03T00:57:29.892Z"
   },
   {
    "duration": 1401,
    "start_time": "2023-05-03T01:04:22.134Z"
   },
   {
    "duration": 734,
    "start_time": "2023-05-03T01:04:23.536Z"
   },
   {
    "duration": 803,
    "start_time": "2023-05-03T01:04:24.272Z"
   },
   {
    "duration": 3,
    "start_time": "2023-05-03T01:04:25.077Z"
   },
   {
    "duration": 13,
    "start_time": "2023-05-03T01:04:25.081Z"
   },
   {
    "duration": 5,
    "start_time": "2023-05-03T01:04:25.095Z"
   },
   {
    "duration": 5,
    "start_time": "2023-05-03T01:04:25.101Z"
   },
   {
    "duration": 34,
    "start_time": "2023-05-03T01:04:25.108Z"
   },
   {
    "duration": 20,
    "start_time": "2023-05-03T01:04:25.144Z"
   },
   {
    "duration": 122,
    "start_time": "2023-05-03T01:04:25.167Z"
   },
   {
    "duration": 22,
    "start_time": "2023-05-03T01:04:25.291Z"
   },
   {
    "duration": 294,
    "start_time": "2023-05-03T01:04:25.314Z"
   },
   {
    "duration": 398,
    "start_time": "2023-05-03T01:04:25.609Z"
   },
   {
    "duration": 506,
    "start_time": "2023-05-03T01:04:26.009Z"
   },
   {
    "duration": 41,
    "start_time": "2023-05-03T01:04:26.517Z"
   },
   {
    "duration": 500,
    "start_time": "2023-05-03T01:04:26.560Z"
   },
   {
    "duration": 515,
    "start_time": "2023-05-03T01:04:27.061Z"
   },
   {
    "duration": 599,
    "start_time": "2023-05-03T01:04:27.578Z"
   },
   {
    "duration": 91,
    "start_time": "2023-05-03T01:04:28.179Z"
   },
   {
    "duration": 471,
    "start_time": "2023-05-03T01:04:28.272Z"
   },
   {
    "duration": 516,
    "start_time": "2023-05-03T01:04:28.745Z"
   },
   {
    "duration": 600,
    "start_time": "2023-05-03T01:04:29.263Z"
   },
   {
    "duration": 17,
    "start_time": "2023-05-03T01:04:29.865Z"
   },
   {
    "duration": 24,
    "start_time": "2023-05-03T01:04:29.884Z"
   },
   {
    "duration": 25,
    "start_time": "2023-05-03T01:04:29.909Z"
   },
   {
    "duration": 11,
    "start_time": "2023-05-03T01:04:29.936Z"
   },
   {
    "duration": 9,
    "start_time": "2023-05-03T01:04:29.948Z"
   },
   {
    "duration": 5,
    "start_time": "2023-05-03T01:04:29.960Z"
   },
   {
    "duration": 7,
    "start_time": "2023-05-03T01:04:29.966Z"
   },
   {
    "duration": 9,
    "start_time": "2023-05-03T01:04:29.974Z"
   },
   {
    "duration": 2350,
    "start_time": "2023-05-03T01:04:36.986Z"
   },
   {
    "duration": 12913,
    "start_time": "2023-05-03T01:04:56.686Z"
   },
   {
    "duration": 1404,
    "start_time": "2023-05-03T01:10:02.043Z"
   },
   {
    "duration": 675,
    "start_time": "2023-05-03T01:10:03.448Z"
   },
   {
    "duration": 698,
    "start_time": "2023-05-03T01:10:04.124Z"
   },
   {
    "duration": 3,
    "start_time": "2023-05-03T01:10:04.823Z"
   },
   {
    "duration": 18,
    "start_time": "2023-05-03T01:10:04.834Z"
   },
   {
    "duration": 6,
    "start_time": "2023-05-03T01:10:04.854Z"
   },
   {
    "duration": 15,
    "start_time": "2023-05-03T01:10:04.862Z"
   },
   {
    "duration": 16,
    "start_time": "2023-05-03T01:10:04.879Z"
   },
   {
    "duration": 15,
    "start_time": "2023-05-03T01:10:04.897Z"
   },
   {
    "duration": 84,
    "start_time": "2023-05-03T01:10:04.914Z"
   },
   {
    "duration": 15,
    "start_time": "2023-05-03T01:10:05.000Z"
   },
   {
    "duration": 237,
    "start_time": "2023-05-03T01:10:05.016Z"
   },
   {
    "duration": 413,
    "start_time": "2023-05-03T01:10:05.254Z"
   },
   {
    "duration": 439,
    "start_time": "2023-05-03T01:10:05.670Z"
   },
   {
    "duration": 48,
    "start_time": "2023-05-03T01:10:06.110Z"
   },
   {
    "duration": 509,
    "start_time": "2023-05-03T01:10:06.160Z"
   },
   {
    "duration": 503,
    "start_time": "2023-05-03T01:10:06.670Z"
   },
   {
    "duration": 595,
    "start_time": "2023-05-03T01:10:07.175Z"
   },
   {
    "duration": 94,
    "start_time": "2023-05-03T01:10:07.772Z"
   },
   {
    "duration": 483,
    "start_time": "2023-05-03T01:10:07.867Z"
   },
   {
    "duration": 526,
    "start_time": "2023-05-03T01:10:08.352Z"
   },
   {
    "duration": 658,
    "start_time": "2023-05-03T01:10:08.880Z"
   },
   {
    "duration": 15,
    "start_time": "2023-05-03T01:10:09.540Z"
   },
   {
    "duration": 16,
    "start_time": "2023-05-03T01:10:09.556Z"
   },
   {
    "duration": 11,
    "start_time": "2023-05-03T01:10:09.574Z"
   },
   {
    "duration": 7,
    "start_time": "2023-05-03T01:10:09.586Z"
   },
   {
    "duration": 9,
    "start_time": "2023-05-03T01:10:09.594Z"
   },
   {
    "duration": 31,
    "start_time": "2023-05-03T01:10:09.604Z"
   },
   {
    "duration": 5,
    "start_time": "2023-05-03T01:10:09.637Z"
   },
   {
    "duration": 20,
    "start_time": "2023-05-03T01:10:09.644Z"
   },
   {
    "duration": 1973,
    "start_time": "2023-05-03T01:10:09.666Z"
   },
   {
    "duration": 13630,
    "start_time": "2023-05-03T01:10:11.643Z"
   },
   {
    "duration": 387301,
    "start_time": "2023-05-03T01:10:25.275Z"
   },
   {
    "duration": 801964,
    "start_time": "2023-05-03T01:16:52.579Z"
   },
   {
    "duration": 4101,
    "start_time": "2023-05-03T01:30:14.545Z"
   },
   {
    "duration": 2485,
    "start_time": "2023-05-03T01:34:00.853Z"
   },
   {
    "duration": 29942,
    "start_time": "2023-05-03T01:41:07.893Z"
   },
   {
    "duration": 30596,
    "start_time": "2023-05-03T01:43:07.401Z"
   },
   {
    "duration": 166,
    "start_time": "2023-05-03T01:45:01.193Z"
   },
   {
    "duration": 29986,
    "start_time": "2023-05-03T01:47:18.453Z"
   },
   {
    "duration": 30280,
    "start_time": "2023-05-03T01:51:50.208Z"
   },
   {
    "duration": 30043,
    "start_time": "2023-05-03T01:53:15.144Z"
   },
   {
    "duration": 13245,
    "start_time": "2023-05-03T01:57:33.410Z"
   },
   {
    "duration": 327,
    "start_time": "2023-05-03T01:57:49.686Z"
   },
   {
    "duration": 309,
    "start_time": "2023-05-03T01:59:12.186Z"
   },
   {
    "duration": 5,
    "start_time": "2023-05-03T02:02:13.446Z"
   },
   {
    "duration": 28825,
    "start_time": "2023-05-03T02:03:54.886Z"
   },
   {
    "duration": 29844,
    "start_time": "2023-05-03T02:11:43.635Z"
   },
   {
    "duration": 145386,
    "start_time": "2023-05-03T02:15:43.545Z"
   },
   {
    "duration": 3,
    "start_time": "2023-05-03T02:18:30.341Z"
   },
   {
    "duration": 7,
    "start_time": "2023-05-03T02:18:32.825Z"
   },
   {
    "duration": 8,
    "start_time": "2023-05-03T02:21:47.286Z"
   },
   {
    "duration": 7,
    "start_time": "2023-05-03T02:24:48.045Z"
   },
   {
    "duration": 7,
    "start_time": "2023-05-03T02:25:16.984Z"
   },
   {
    "duration": 5,
    "start_time": "2023-05-03T02:26:29.364Z"
   },
   {
    "duration": 11,
    "start_time": "2023-05-03T02:28:46.466Z"
   },
   {
    "duration": 14,
    "start_time": "2023-05-03T02:31:45.388Z"
   },
   {
    "duration": 14,
    "start_time": "2023-05-03T02:38:12.268Z"
   },
   {
    "duration": 15,
    "start_time": "2023-05-03T02:38:46.043Z"
   },
   {
    "duration": 16,
    "start_time": "2023-05-03T02:40:17.378Z"
   },
   {
    "duration": 9,
    "start_time": "2023-05-03T02:45:15.307Z"
   },
   {
    "duration": 48,
    "start_time": "2023-05-03T12:44:10.824Z"
   },
   {
    "duration": 4538,
    "start_time": "2023-05-03T12:44:29.053Z"
   },
   {
    "duration": 1774,
    "start_time": "2023-05-03T12:44:33.593Z"
   },
   {
    "duration": 606,
    "start_time": "2023-05-03T12:44:35.368Z"
   },
   {
    "duration": 3,
    "start_time": "2023-05-03T12:44:35.975Z"
   },
   {
    "duration": 44,
    "start_time": "2023-05-03T12:44:35.980Z"
   },
   {
    "duration": 29,
    "start_time": "2023-05-03T12:44:36.025Z"
   },
   {
    "duration": 29,
    "start_time": "2023-05-03T12:44:36.055Z"
   },
   {
    "duration": 25,
    "start_time": "2023-05-03T12:44:36.086Z"
   },
   {
    "duration": 20,
    "start_time": "2023-05-03T12:44:36.113Z"
   },
   {
    "duration": 75,
    "start_time": "2023-05-03T12:44:36.135Z"
   },
   {
    "duration": 18,
    "start_time": "2023-05-03T12:44:36.212Z"
   },
   {
    "duration": 256,
    "start_time": "2023-05-03T12:44:36.231Z"
   },
   {
    "duration": 360,
    "start_time": "2023-05-03T12:44:36.489Z"
   },
   {
    "duration": 511,
    "start_time": "2023-05-03T12:44:36.852Z"
   },
   {
    "duration": 35,
    "start_time": "2023-05-03T12:44:37.365Z"
   },
   {
    "duration": 572,
    "start_time": "2023-05-03T12:44:37.402Z"
   },
   {
    "duration": 498,
    "start_time": "2023-05-03T12:44:37.975Z"
   },
   {
    "duration": 565,
    "start_time": "2023-05-03T12:44:38.475Z"
   },
   {
    "duration": 84,
    "start_time": "2023-05-03T12:44:39.041Z"
   },
   {
    "duration": 477,
    "start_time": "2023-05-03T12:44:39.127Z"
   },
   {
    "duration": 514,
    "start_time": "2023-05-03T12:44:39.606Z"
   },
   {
    "duration": 596,
    "start_time": "2023-05-03T12:44:40.121Z"
   },
   {
    "duration": 15,
    "start_time": "2023-05-03T12:44:40.719Z"
   },
   {
    "duration": 15,
    "start_time": "2023-05-03T12:44:40.735Z"
   },
   {
    "duration": 9,
    "start_time": "2023-05-03T12:44:40.752Z"
   },
   {
    "duration": 5,
    "start_time": "2023-05-03T12:44:40.763Z"
   },
   {
    "duration": 6,
    "start_time": "2023-05-03T12:44:40.769Z"
   },
   {
    "duration": 6,
    "start_time": "2023-05-03T12:44:40.776Z"
   },
   {
    "duration": 35,
    "start_time": "2023-05-03T12:44:40.783Z"
   },
   {
    "duration": 5,
    "start_time": "2023-05-03T12:44:40.820Z"
   },
   {
    "duration": 4,
    "start_time": "2023-05-03T12:51:06.144Z"
   },
   {
    "duration": 80,
    "start_time": "2023-05-03T12:51:28.237Z"
   },
   {
    "duration": 13,
    "start_time": "2023-05-03T12:51:56.744Z"
   },
   {
    "duration": 8,
    "start_time": "2023-05-03T12:51:59.426Z"
   },
   {
    "duration": 1515,
    "start_time": "2023-05-04T00:25:32.964Z"
   },
   {
    "duration": 102,
    "start_time": "2023-05-04T00:26:02.084Z"
   },
   {
    "duration": 1419,
    "start_time": "2023-05-04T00:26:10.631Z"
   },
   {
    "duration": 2878,
    "start_time": "2023-05-04T00:26:12.052Z"
   },
   {
    "duration": 672,
    "start_time": "2023-05-04T00:26:14.932Z"
   },
   {
    "duration": 2,
    "start_time": "2023-05-04T00:26:15.606Z"
   },
   {
    "duration": 28,
    "start_time": "2023-05-04T00:26:15.610Z"
   },
   {
    "duration": 3,
    "start_time": "2023-05-04T00:26:15.639Z"
   },
   {
    "duration": 5,
    "start_time": "2023-05-04T00:26:15.644Z"
   },
   {
    "duration": 22,
    "start_time": "2023-05-04T00:26:15.651Z"
   },
   {
    "duration": 14,
    "start_time": "2023-05-04T00:26:15.675Z"
   },
   {
    "duration": 98,
    "start_time": "2023-05-04T00:26:15.692Z"
   },
   {
    "duration": 16,
    "start_time": "2023-05-04T00:26:15.791Z"
   },
   {
    "duration": 242,
    "start_time": "2023-05-04T00:26:15.808Z"
   },
   {
    "duration": 379,
    "start_time": "2023-05-04T00:26:16.052Z"
   },
   {
    "duration": 489,
    "start_time": "2023-05-04T00:26:16.433Z"
   },
   {
    "duration": 41,
    "start_time": "2023-05-04T00:26:16.923Z"
   },
   {
    "duration": 529,
    "start_time": "2023-05-04T00:26:16.966Z"
   },
   {
    "duration": 509,
    "start_time": "2023-05-04T00:26:17.496Z"
   },
   {
    "duration": 590,
    "start_time": "2023-05-04T00:26:18.007Z"
   },
   {
    "duration": 94,
    "start_time": "2023-05-04T00:26:18.599Z"
   },
   {
    "duration": 479,
    "start_time": "2023-05-04T00:26:18.695Z"
   },
   {
    "duration": 566,
    "start_time": "2023-05-04T00:26:19.176Z"
   },
   {
    "duration": 677,
    "start_time": "2023-05-04T00:26:19.744Z"
   },
   {
    "duration": 26,
    "start_time": "2023-05-04T00:26:20.423Z"
   },
   {
    "duration": 18,
    "start_time": "2023-05-04T00:26:20.451Z"
   },
   {
    "duration": 12,
    "start_time": "2023-05-04T00:26:20.471Z"
   },
   {
    "duration": 15,
    "start_time": "2023-05-04T00:26:20.485Z"
   },
   {
    "duration": 20,
    "start_time": "2023-05-04T00:26:20.502Z"
   },
   {
    "duration": 6,
    "start_time": "2023-05-04T00:26:20.535Z"
   },
   {
    "duration": 7,
    "start_time": "2023-05-04T00:26:20.542Z"
   },
   {
    "duration": 8,
    "start_time": "2023-05-04T00:26:20.550Z"
   },
   {
    "duration": 2380,
    "start_time": "2023-05-04T00:26:20.560Z"
   },
   {
    "duration": 1770,
    "start_time": "2023-05-04T00:30:22.187Z"
   },
   {
    "duration": 779,
    "start_time": "2023-05-04T00:30:23.959Z"
   },
   {
    "duration": 763,
    "start_time": "2023-05-04T00:30:24.739Z"
   },
   {
    "duration": 4,
    "start_time": "2023-05-04T00:30:25.503Z"
   },
   {
    "duration": 20,
    "start_time": "2023-05-04T00:30:25.509Z"
   },
   {
    "duration": 8,
    "start_time": "2023-05-04T00:30:25.531Z"
   },
   {
    "duration": 9,
    "start_time": "2023-05-04T00:30:25.540Z"
   },
   {
    "duration": 30,
    "start_time": "2023-05-04T00:30:25.551Z"
   },
   {
    "duration": 18,
    "start_time": "2023-05-04T00:30:25.583Z"
   },
   {
    "duration": 101,
    "start_time": "2023-05-04T00:30:25.602Z"
   },
   {
    "duration": 16,
    "start_time": "2023-05-04T00:30:25.704Z"
   },
   {
    "duration": 240,
    "start_time": "2023-05-04T00:30:25.734Z"
   },
   {
    "duration": 415,
    "start_time": "2023-05-04T00:30:25.976Z"
   },
   {
    "duration": 525,
    "start_time": "2023-05-04T00:30:26.394Z"
   },
   {
    "duration": 42,
    "start_time": "2023-05-04T00:30:26.921Z"
   },
   {
    "duration": 517,
    "start_time": "2023-05-04T00:30:26.964Z"
   },
   {
    "duration": 507,
    "start_time": "2023-05-04T00:30:27.483Z"
   },
   {
    "duration": 606,
    "start_time": "2023-05-04T00:30:27.991Z"
   },
   {
    "duration": 114,
    "start_time": "2023-05-04T00:30:28.600Z"
   },
   {
    "duration": 0,
    "start_time": "2023-05-04T00:30:28.715Z"
   },
   {
    "duration": 0,
    "start_time": "2023-05-04T00:30:28.717Z"
   },
   {
    "duration": 0,
    "start_time": "2023-05-04T00:30:28.718Z"
   },
   {
    "duration": 0,
    "start_time": "2023-05-04T00:30:28.719Z"
   },
   {
    "duration": 0,
    "start_time": "2023-05-04T00:30:28.720Z"
   },
   {
    "duration": 0,
    "start_time": "2023-05-04T00:30:28.734Z"
   },
   {
    "duration": 0,
    "start_time": "2023-05-04T00:30:28.735Z"
   },
   {
    "duration": 0,
    "start_time": "2023-05-04T00:30:28.737Z"
   },
   {
    "duration": 0,
    "start_time": "2023-05-04T00:30:28.738Z"
   },
   {
    "duration": 0,
    "start_time": "2023-05-04T00:30:28.739Z"
   },
   {
    "duration": 0,
    "start_time": "2023-05-04T00:30:28.740Z"
   },
   {
    "duration": 0,
    "start_time": "2023-05-04T00:30:28.742Z"
   },
   {
    "duration": 0,
    "start_time": "2023-05-04T00:30:28.743Z"
   },
   {
    "duration": 0,
    "start_time": "2023-05-04T00:30:28.744Z"
   },
   {
    "duration": 0,
    "start_time": "2023-05-04T00:30:28.745Z"
   },
   {
    "duration": 0,
    "start_time": "2023-05-04T00:30:28.746Z"
   },
   {
    "duration": 0,
    "start_time": "2023-05-04T00:30:28.747Z"
   },
   {
    "duration": 0,
    "start_time": "2023-05-04T00:30:28.748Z"
   },
   {
    "duration": 0,
    "start_time": "2023-05-04T00:30:28.749Z"
   },
   {
    "duration": 93,
    "start_time": "2023-05-04T00:35:56.150Z"
   },
   {
    "duration": 58,
    "start_time": "2023-05-04T00:36:07.430Z"
   },
   {
    "duration": 83,
    "start_time": "2023-05-04T00:37:49.650Z"
   },
   {
    "duration": 484,
    "start_time": "2023-05-04T00:38:28.307Z"
   },
   {
    "duration": 1805,
    "start_time": "2023-05-04T00:38:55.047Z"
   },
   {
    "duration": 571,
    "start_time": "2023-05-04T00:39:19.887Z"
   },
   {
    "duration": 93,
    "start_time": "2023-05-04T00:39:30.471Z"
   },
   {
    "duration": 11,
    "start_time": "2023-05-04T00:52:06.492Z"
   },
   {
    "duration": 17,
    "start_time": "2023-05-04T00:52:57.413Z"
   },
   {
    "duration": 55,
    "start_time": "2023-05-04T03:31:02.889Z"
   },
   {
    "duration": 1611,
    "start_time": "2023-05-04T03:31:19.568Z"
   },
   {
    "duration": 1890,
    "start_time": "2023-05-04T03:31:21.181Z"
   },
   {
    "duration": 763,
    "start_time": "2023-05-04T03:31:23.073Z"
   },
   {
    "duration": 3,
    "start_time": "2023-05-04T03:31:23.838Z"
   },
   {
    "duration": 22,
    "start_time": "2023-05-04T03:31:23.843Z"
   },
   {
    "duration": 28,
    "start_time": "2023-05-04T03:31:23.869Z"
   },
   {
    "duration": 6,
    "start_time": "2023-05-04T03:31:23.898Z"
   },
   {
    "duration": 20,
    "start_time": "2023-05-04T03:31:23.906Z"
   },
   {
    "duration": 18,
    "start_time": "2023-05-04T03:31:23.928Z"
   },
   {
    "duration": 128,
    "start_time": "2023-05-04T03:31:23.948Z"
   },
   {
    "duration": 28,
    "start_time": "2023-05-04T03:31:24.078Z"
   },
   {
    "duration": 277,
    "start_time": "2023-05-04T03:31:24.108Z"
   },
   {
    "duration": 438,
    "start_time": "2023-05-04T03:31:24.391Z"
   },
   {
    "duration": 696,
    "start_time": "2023-05-04T03:31:24.830Z"
   },
   {
    "duration": 38,
    "start_time": "2023-05-04T03:31:25.527Z"
   },
   {
    "duration": 628,
    "start_time": "2023-05-04T03:31:25.568Z"
   },
   {
    "duration": 558,
    "start_time": "2023-05-04T03:31:26.198Z"
   },
   {
    "duration": 718,
    "start_time": "2023-05-04T03:31:26.758Z"
   },
   {
    "duration": 121,
    "start_time": "2023-05-04T03:31:27.478Z"
   },
   {
    "duration": 63,
    "start_time": "2023-05-04T03:31:27.601Z"
   },
   {
    "duration": 549,
    "start_time": "2023-05-04T03:31:27.666Z"
   },
   {
    "duration": 579,
    "start_time": "2023-05-04T03:31:28.217Z"
   },
   {
    "duration": 689,
    "start_time": "2023-05-04T03:31:28.798Z"
   },
   {
    "duration": 131,
    "start_time": "2023-05-04T03:31:29.489Z"
   },
   {
    "duration": 0,
    "start_time": "2023-05-04T03:31:29.622Z"
   },
   {
    "duration": 0,
    "start_time": "2023-05-04T03:31:29.623Z"
   },
   {
    "duration": 0,
    "start_time": "2023-05-04T03:31:29.624Z"
   },
   {
    "duration": 0,
    "start_time": "2023-05-04T03:31:29.626Z"
   },
   {
    "duration": 0,
    "start_time": "2023-05-04T03:31:29.627Z"
   },
   {
    "duration": 0,
    "start_time": "2023-05-04T03:31:29.628Z"
   },
   {
    "duration": 0,
    "start_time": "2023-05-04T03:31:29.629Z"
   },
   {
    "duration": 0,
    "start_time": "2023-05-04T03:31:29.630Z"
   },
   {
    "duration": 0,
    "start_time": "2023-05-04T03:31:29.631Z"
   },
   {
    "duration": 0,
    "start_time": "2023-05-04T03:31:29.632Z"
   },
   {
    "duration": 0,
    "start_time": "2023-05-04T03:31:29.633Z"
   },
   {
    "duration": 0,
    "start_time": "2023-05-04T03:31:29.635Z"
   },
   {
    "duration": 0,
    "start_time": "2023-05-04T03:31:29.636Z"
   },
   {
    "duration": 0,
    "start_time": "2023-05-04T03:31:29.637Z"
   },
   {
    "duration": 17,
    "start_time": "2023-05-04T03:32:22.624Z"
   },
   {
    "duration": 27,
    "start_time": "2023-05-04T03:32:26.105Z"
   },
   {
    "duration": 1580,
    "start_time": "2023-05-04T03:33:32.012Z"
   },
   {
    "duration": 741,
    "start_time": "2023-05-04T03:33:33.594Z"
   },
   {
    "duration": 836,
    "start_time": "2023-05-04T03:33:34.337Z"
   },
   {
    "duration": 3,
    "start_time": "2023-05-04T03:33:35.175Z"
   },
   {
    "duration": 11,
    "start_time": "2023-05-04T03:33:35.196Z"
   },
   {
    "duration": 16,
    "start_time": "2023-05-04T03:33:35.209Z"
   },
   {
    "duration": 12,
    "start_time": "2023-05-04T03:33:35.227Z"
   },
   {
    "duration": 42,
    "start_time": "2023-05-04T03:33:35.240Z"
   },
   {
    "duration": 22,
    "start_time": "2023-05-04T03:33:35.284Z"
   },
   {
    "duration": 94,
    "start_time": "2023-05-04T03:33:35.308Z"
   },
   {
    "duration": 18,
    "start_time": "2023-05-04T03:33:35.404Z"
   },
   {
    "duration": 261,
    "start_time": "2023-05-04T03:33:35.423Z"
   },
   {
    "duration": 484,
    "start_time": "2023-05-04T03:33:35.686Z"
   },
   {
    "duration": 554,
    "start_time": "2023-05-04T03:33:36.174Z"
   },
   {
    "duration": 38,
    "start_time": "2023-05-04T03:33:36.730Z"
   },
   {
    "duration": 692,
    "start_time": "2023-05-04T03:33:36.770Z"
   },
   {
    "duration": 721,
    "start_time": "2023-05-04T03:33:37.464Z"
   },
   {
    "duration": 862,
    "start_time": "2023-05-04T03:33:38.187Z"
   },
   {
    "duration": 117,
    "start_time": "2023-05-04T03:33:39.051Z"
   },
   {
    "duration": 72,
    "start_time": "2023-05-04T03:33:39.170Z"
   },
   {
    "duration": 617,
    "start_time": "2023-05-04T03:33:39.244Z"
   },
   {
    "duration": 659,
    "start_time": "2023-05-04T03:33:39.863Z"
   },
   {
    "duration": 797,
    "start_time": "2023-05-04T03:33:40.524Z"
   },
   {
    "duration": 19,
    "start_time": "2023-05-04T03:33:41.323Z"
   },
   {
    "duration": 12,
    "start_time": "2023-05-04T03:33:41.344Z"
   },
   {
    "duration": 33,
    "start_time": "2023-05-04T03:33:41.358Z"
   },
   {
    "duration": 131,
    "start_time": "2023-05-04T03:33:41.393Z"
   },
   {
    "duration": 0,
    "start_time": "2023-05-04T03:33:41.528Z"
   },
   {
    "duration": 0,
    "start_time": "2023-05-04T03:33:41.529Z"
   },
   {
    "duration": 0,
    "start_time": "2023-05-04T03:33:41.531Z"
   },
   {
    "duration": 0,
    "start_time": "2023-05-04T03:33:41.533Z"
   },
   {
    "duration": 0,
    "start_time": "2023-05-04T03:33:41.534Z"
   },
   {
    "duration": 0,
    "start_time": "2023-05-04T03:33:41.537Z"
   },
   {
    "duration": 0,
    "start_time": "2023-05-04T03:33:41.538Z"
   },
   {
    "duration": 0,
    "start_time": "2023-05-04T03:33:41.539Z"
   },
   {
    "duration": 0,
    "start_time": "2023-05-04T03:33:41.541Z"
   },
   {
    "duration": 0,
    "start_time": "2023-05-04T03:33:41.542Z"
   },
   {
    "duration": 0,
    "start_time": "2023-05-04T03:33:41.544Z"
   },
   {
    "duration": 24,
    "start_time": "2023-05-04T03:34:28.710Z"
   },
   {
    "duration": 12,
    "start_time": "2023-05-04T03:36:04.768Z"
   },
   {
    "duration": 11,
    "start_time": "2023-05-04T03:36:38.749Z"
   },
   {
    "duration": 11,
    "start_time": "2023-05-04T03:36:55.123Z"
   },
   {
    "duration": 16,
    "start_time": "2023-05-04T03:37:32.659Z"
   },
   {
    "duration": 5,
    "start_time": "2023-05-04T03:37:54.146Z"
   },
   {
    "duration": 5,
    "start_time": "2023-05-04T03:38:40.708Z"
   },
   {
    "duration": 6,
    "start_time": "2023-05-04T03:38:42.610Z"
   },
   {
    "duration": 1969,
    "start_time": "2023-05-04T03:38:53.916Z"
   },
   {
    "duration": 683,
    "start_time": "2023-05-04T03:38:55.888Z"
   },
   {
    "duration": 793,
    "start_time": "2023-05-04T03:38:56.573Z"
   },
   {
    "duration": 4,
    "start_time": "2023-05-04T03:38:57.369Z"
   },
   {
    "duration": 23,
    "start_time": "2023-05-04T03:38:57.377Z"
   },
   {
    "duration": 6,
    "start_time": "2023-05-04T03:38:57.403Z"
   },
   {
    "duration": 20,
    "start_time": "2023-05-04T03:38:57.410Z"
   },
   {
    "duration": 20,
    "start_time": "2023-05-04T03:38:57.432Z"
   },
   {
    "duration": 46,
    "start_time": "2023-05-04T03:38:57.455Z"
   },
   {
    "duration": 122,
    "start_time": "2023-05-04T03:38:57.505Z"
   },
   {
    "duration": 20,
    "start_time": "2023-05-04T03:38:57.629Z"
   },
   {
    "duration": 341,
    "start_time": "2023-05-04T03:38:57.652Z"
   },
   {
    "duration": 474,
    "start_time": "2023-05-04T03:38:57.995Z"
   },
   {
    "duration": 552,
    "start_time": "2023-05-04T03:38:58.473Z"
   },
   {
    "duration": 40,
    "start_time": "2023-05-04T03:38:59.027Z"
   },
   {
    "duration": 642,
    "start_time": "2023-05-04T03:38:59.069Z"
   },
   {
    "duration": 610,
    "start_time": "2023-05-04T03:38:59.713Z"
   },
   {
    "duration": 833,
    "start_time": "2023-05-04T03:39:00.325Z"
   },
   {
    "duration": 122,
    "start_time": "2023-05-04T03:39:01.160Z"
   },
   {
    "duration": 67,
    "start_time": "2023-05-04T03:39:01.284Z"
   },
   {
    "duration": 632,
    "start_time": "2023-05-04T03:39:01.353Z"
   },
   {
    "duration": 726,
    "start_time": "2023-05-04T03:39:01.987Z"
   },
   {
    "duration": 784,
    "start_time": "2023-05-04T03:39:02.716Z"
   },
   {
    "duration": 20,
    "start_time": "2023-05-04T03:39:03.504Z"
   },
   {
    "duration": 26,
    "start_time": "2023-05-04T03:39:03.526Z"
   },
   {
    "duration": 23,
    "start_time": "2023-05-04T03:39:03.554Z"
   },
   {
    "duration": 22,
    "start_time": "2023-05-04T03:39:03.578Z"
   },
   {
    "duration": 157,
    "start_time": "2023-05-04T03:39:03.604Z"
   },
   {
    "duration": 0,
    "start_time": "2023-05-04T03:39:03.763Z"
   },
   {
    "duration": 0,
    "start_time": "2023-05-04T03:39:03.764Z"
   },
   {
    "duration": 0,
    "start_time": "2023-05-04T03:39:03.766Z"
   },
   {
    "duration": 0,
    "start_time": "2023-05-04T03:39:03.768Z"
   },
   {
    "duration": 0,
    "start_time": "2023-05-04T03:39:03.769Z"
   },
   {
    "duration": 0,
    "start_time": "2023-05-04T03:39:03.771Z"
   },
   {
    "duration": 0,
    "start_time": "2023-05-04T03:39:03.772Z"
   },
   {
    "duration": 0,
    "start_time": "2023-05-04T03:39:03.773Z"
   },
   {
    "duration": 0,
    "start_time": "2023-05-04T03:39:03.774Z"
   },
   {
    "duration": 0,
    "start_time": "2023-05-04T03:39:03.775Z"
   },
   {
    "duration": 4,
    "start_time": "2023-05-04T03:39:22.588Z"
   },
   {
    "duration": 5,
    "start_time": "2023-05-04T03:39:25.047Z"
   },
   {
    "duration": 11,
    "start_time": "2023-05-04T03:40:02.226Z"
   },
   {
    "duration": 4,
    "start_time": "2023-05-04T03:40:07.847Z"
   },
   {
    "duration": 2273,
    "start_time": "2023-05-04T03:40:10.228Z"
   },
   {
    "duration": 577267,
    "start_time": "2023-05-04T03:42:59.069Z"
   },
   {
    "duration": 4,
    "start_time": "2023-05-04T03:52:36.339Z"
   },
   {
    "duration": 5,
    "start_time": "2023-05-04T03:52:36.345Z"
   },
   {
    "duration": 67,
    "start_time": "2023-05-04T03:53:17.594Z"
   },
   {
    "duration": 113562,
    "start_time": "2023-05-04T03:57:26.976Z"
   },
   {
    "duration": 16,
    "start_time": "2023-05-04T03:59:46.388Z"
   },
   {
    "duration": 11,
    "start_time": "2023-05-04T04:02:08.168Z"
   },
   {
    "duration": 108004,
    "start_time": "2023-05-04T04:04:13.489Z"
   },
   {
    "duration": 16,
    "start_time": "2023-05-04T04:06:01.496Z"
   },
   {
    "duration": 108318,
    "start_time": "2023-05-04T04:06:31.899Z"
   },
   {
    "duration": 8,
    "start_time": "2023-05-04T04:08:20.219Z"
   },
   {
    "duration": 24,
    "start_time": "2023-05-04T04:10:47.468Z"
   },
   {
    "duration": 10,
    "start_time": "2023-05-04T04:10:53.028Z"
   },
   {
    "duration": 2592,
    "start_time": "2023-05-04T18:55:22.517Z"
   },
   {
    "duration": 2923,
    "start_time": "2023-05-04T18:55:25.111Z"
   },
   {
    "duration": 628,
    "start_time": "2023-05-04T18:55:28.035Z"
   },
   {
    "duration": 3,
    "start_time": "2023-05-04T18:55:28.664Z"
   },
   {
    "duration": 8,
    "start_time": "2023-05-04T18:55:28.672Z"
   },
   {
    "duration": 4,
    "start_time": "2023-05-04T18:55:28.682Z"
   },
   {
    "duration": 6,
    "start_time": "2023-05-04T18:55:28.688Z"
   },
   {
    "duration": 22,
    "start_time": "2023-05-04T18:55:28.696Z"
   },
   {
    "duration": 35,
    "start_time": "2023-05-04T18:55:28.720Z"
   },
   {
    "duration": 75,
    "start_time": "2023-05-04T18:55:28.757Z"
   },
   {
    "duration": 17,
    "start_time": "2023-05-04T18:55:28.849Z"
   },
   {
    "duration": 270,
    "start_time": "2023-05-04T18:55:28.868Z"
   },
   {
    "duration": 396,
    "start_time": "2023-05-04T18:55:29.140Z"
   },
   {
    "duration": 518,
    "start_time": "2023-05-04T18:55:29.539Z"
   },
   {
    "duration": 30,
    "start_time": "2023-05-04T18:55:30.058Z"
   },
   {
    "duration": 497,
    "start_time": "2023-05-04T18:55:30.089Z"
   },
   {
    "duration": 521,
    "start_time": "2023-05-04T18:55:30.588Z"
   },
   {
    "duration": 569,
    "start_time": "2023-05-04T18:55:31.111Z"
   },
   {
    "duration": 82,
    "start_time": "2023-05-04T18:55:31.682Z"
   },
   {
    "duration": 53,
    "start_time": "2023-05-04T18:55:31.766Z"
   },
   {
    "duration": 459,
    "start_time": "2023-05-04T18:55:31.821Z"
   },
   {
    "duration": 485,
    "start_time": "2023-05-04T18:55:32.281Z"
   },
   {
    "duration": 595,
    "start_time": "2023-05-04T18:55:32.768Z"
   },
   {
    "duration": 16,
    "start_time": "2023-05-04T18:55:33.364Z"
   },
   {
    "duration": 34,
    "start_time": "2023-05-04T18:55:33.381Z"
   },
   {
    "duration": 21,
    "start_time": "2023-05-04T18:55:33.417Z"
   },
   {
    "duration": 4,
    "start_time": "2023-05-04T18:56:24.767Z"
   },
   {
    "duration": 6,
    "start_time": "2023-05-04T18:59:02.514Z"
   },
   {
    "duration": 5,
    "start_time": "2023-05-04T18:59:16.725Z"
   },
   {
    "duration": 5,
    "start_time": "2023-05-04T18:59:32.875Z"
   },
   {
    "duration": 4,
    "start_time": "2023-05-04T18:59:33.547Z"
   },
   {
    "duration": 4,
    "start_time": "2023-05-04T18:59:34.298Z"
   },
   {
    "duration": 5,
    "start_time": "2023-05-04T19:00:35.488Z"
   },
   {
    "duration": 6,
    "start_time": "2023-05-04T19:01:01.235Z"
   },
   {
    "duration": 4,
    "start_time": "2023-05-04T19:01:40.149Z"
   },
   {
    "duration": 4,
    "start_time": "2023-05-04T19:01:40.967Z"
   },
   {
    "duration": 5,
    "start_time": "2023-05-04T19:01:41.596Z"
   },
   {
    "duration": 4,
    "start_time": "2023-05-04T19:01:45.697Z"
   },
   {
    "duration": 2336,
    "start_time": "2023-05-04T19:01:49.516Z"
   },
   {
    "duration": 6,
    "start_time": "2023-05-04T19:03:41.846Z"
   },
   {
    "duration": 84817,
    "start_time": "2023-05-04T19:03:53.500Z"
   },
   {
    "duration": 0,
    "start_time": "2023-05-04T19:05:18.318Z"
   },
   {
    "duration": 24596,
    "start_time": "2023-05-04T19:05:27.680Z"
   },
   {
    "duration": 7,
    "start_time": "2023-05-04T19:05:55.086Z"
   },
   {
    "duration": 5,
    "start_time": "2023-05-04T19:06:31.949Z"
   },
   {
    "duration": 45,
    "start_time": "2023-05-05T01:29:42.472Z"
   },
   {
    "duration": 1666,
    "start_time": "2023-05-05T01:29:51.544Z"
   },
   {
    "duration": 3008,
    "start_time": "2023-05-05T01:29:53.212Z"
   },
   {
    "duration": 717,
    "start_time": "2023-05-05T01:29:56.222Z"
   },
   {
    "duration": 3,
    "start_time": "2023-05-05T01:29:56.943Z"
   },
   {
    "duration": 30,
    "start_time": "2023-05-05T01:29:56.948Z"
   },
   {
    "duration": 5,
    "start_time": "2023-05-05T01:29:56.979Z"
   },
   {
    "duration": 5,
    "start_time": "2023-05-05T01:29:56.985Z"
   },
   {
    "duration": 17,
    "start_time": "2023-05-05T01:29:56.991Z"
   },
   {
    "duration": 33,
    "start_time": "2023-05-05T01:29:57.010Z"
   },
   {
    "duration": 98,
    "start_time": "2023-05-05T01:29:57.047Z"
   },
   {
    "duration": 17,
    "start_time": "2023-05-05T01:29:57.147Z"
   },
   {
    "duration": 248,
    "start_time": "2023-05-05T01:29:57.166Z"
   },
   {
    "duration": 512,
    "start_time": "2023-05-05T01:29:57.415Z"
   },
   {
    "duration": 484,
    "start_time": "2023-05-05T01:29:57.929Z"
   },
   {
    "duration": 44,
    "start_time": "2023-05-05T01:29:58.415Z"
   },
   {
    "duration": 518,
    "start_time": "2023-05-05T01:29:58.461Z"
   },
   {
    "duration": 535,
    "start_time": "2023-05-05T01:29:58.981Z"
   },
   {
    "duration": 617,
    "start_time": "2023-05-05T01:29:59.517Z"
   },
   {
    "duration": 60,
    "start_time": "2023-05-05T01:30:00.136Z"
   },
   {
    "duration": 120,
    "start_time": "2023-05-05T01:30:00.198Z"
   },
   {
    "duration": 1,
    "start_time": "2023-05-05T01:30:00.319Z"
   },
   {
    "duration": 0,
    "start_time": "2023-05-05T01:30:00.321Z"
   },
   {
    "duration": 0,
    "start_time": "2023-05-05T01:30:00.322Z"
   },
   {
    "duration": 0,
    "start_time": "2023-05-05T01:30:00.334Z"
   },
   {
    "duration": 0,
    "start_time": "2023-05-05T01:30:00.336Z"
   },
   {
    "duration": 0,
    "start_time": "2023-05-05T01:30:00.338Z"
   },
   {
    "duration": 0,
    "start_time": "2023-05-05T01:30:00.339Z"
   },
   {
    "duration": 0,
    "start_time": "2023-05-05T01:30:00.340Z"
   },
   {
    "duration": 0,
    "start_time": "2023-05-05T01:30:00.342Z"
   },
   {
    "duration": 0,
    "start_time": "2023-05-05T01:30:00.343Z"
   },
   {
    "duration": 0,
    "start_time": "2023-05-05T01:30:00.344Z"
   },
   {
    "duration": 0,
    "start_time": "2023-05-05T01:30:00.345Z"
   },
   {
    "duration": 0,
    "start_time": "2023-05-05T01:30:00.347Z"
   },
   {
    "duration": 0,
    "start_time": "2023-05-05T01:30:00.348Z"
   },
   {
    "duration": 0,
    "start_time": "2023-05-05T01:30:00.350Z"
   },
   {
    "duration": 10,
    "start_time": "2023-05-05T01:30:28.844Z"
   },
   {
    "duration": 1416,
    "start_time": "2023-05-05T01:30:35.513Z"
   },
   {
    "duration": 645,
    "start_time": "2023-05-05T01:30:36.930Z"
   },
   {
    "duration": 663,
    "start_time": "2023-05-05T01:30:37.577Z"
   },
   {
    "duration": 10,
    "start_time": "2023-05-05T01:30:38.243Z"
   },
   {
    "duration": 15,
    "start_time": "2023-05-05T01:30:38.256Z"
   },
   {
    "duration": 11,
    "start_time": "2023-05-05T01:30:38.273Z"
   },
   {
    "duration": 10,
    "start_time": "2023-05-05T01:30:38.286Z"
   },
   {
    "duration": 21,
    "start_time": "2023-05-05T01:30:38.297Z"
   },
   {
    "duration": 23,
    "start_time": "2023-05-05T01:30:38.319Z"
   },
   {
    "duration": 79,
    "start_time": "2023-05-05T01:30:38.344Z"
   },
   {
    "duration": 16,
    "start_time": "2023-05-05T01:30:38.434Z"
   },
   {
    "duration": 236,
    "start_time": "2023-05-05T01:30:38.451Z"
   },
   {
    "duration": 395,
    "start_time": "2023-05-05T01:30:38.688Z"
   },
   {
    "duration": 476,
    "start_time": "2023-05-05T01:30:39.085Z"
   },
   {
    "duration": 33,
    "start_time": "2023-05-05T01:30:39.563Z"
   },
   {
    "duration": 521,
    "start_time": "2023-05-05T01:30:39.598Z"
   },
   {
    "duration": 565,
    "start_time": "2023-05-05T01:30:40.120Z"
   },
   {
    "duration": 656,
    "start_time": "2023-05-05T01:30:40.687Z"
   },
   {
    "duration": 55,
    "start_time": "2023-05-05T01:30:41.345Z"
   },
   {
    "duration": 127,
    "start_time": "2023-05-05T01:30:41.402Z"
   },
   {
    "duration": 0,
    "start_time": "2023-05-05T01:30:41.531Z"
   },
   {
    "duration": 0,
    "start_time": "2023-05-05T01:30:41.532Z"
   },
   {
    "duration": 0,
    "start_time": "2023-05-05T01:30:41.534Z"
   },
   {
    "duration": 0,
    "start_time": "2023-05-05T01:30:41.537Z"
   },
   {
    "duration": 0,
    "start_time": "2023-05-05T01:30:41.539Z"
   },
   {
    "duration": 0,
    "start_time": "2023-05-05T01:30:41.540Z"
   },
   {
    "duration": 0,
    "start_time": "2023-05-05T01:30:41.540Z"
   },
   {
    "duration": 0,
    "start_time": "2023-05-05T01:30:41.542Z"
   },
   {
    "duration": 0,
    "start_time": "2023-05-05T01:30:41.543Z"
   },
   {
    "duration": 0,
    "start_time": "2023-05-05T01:30:41.544Z"
   },
   {
    "duration": 1,
    "start_time": "2023-05-05T01:30:41.545Z"
   },
   {
    "duration": 0,
    "start_time": "2023-05-05T01:30:41.547Z"
   },
   {
    "duration": 0,
    "start_time": "2023-05-05T01:30:41.548Z"
   },
   {
    "duration": 0,
    "start_time": "2023-05-05T01:30:41.549Z"
   },
   {
    "duration": 0,
    "start_time": "2023-05-05T01:30:41.550Z"
   },
   {
    "duration": 12,
    "start_time": "2023-05-05T01:32:22.489Z"
   },
   {
    "duration": 31,
    "start_time": "2023-05-05T01:32:55.955Z"
   },
   {
    "duration": 11,
    "start_time": "2023-05-05T01:32:59.666Z"
   },
   {
    "duration": 5,
    "start_time": "2023-05-05T01:33:02.024Z"
   },
   {
    "duration": 4,
    "start_time": "2023-05-05T01:33:07.505Z"
   },
   {
    "duration": 5,
    "start_time": "2023-05-05T01:33:09.624Z"
   },
   {
    "duration": 4,
    "start_time": "2023-05-05T01:33:11.806Z"
   },
   {
    "duration": 4,
    "start_time": "2023-05-05T01:33:15.424Z"
   },
   {
    "duration": 3389,
    "start_time": "2023-05-05T01:33:17.345Z"
   },
   {
    "duration": 559058,
    "start_time": "2023-05-05T01:33:29.756Z"
   },
   {
    "duration": 1403,
    "start_time": "2023-05-05T15:17:07.819Z"
   },
   {
    "duration": 806,
    "start_time": "2023-05-05T15:17:09.224Z"
   },
   {
    "duration": 786,
    "start_time": "2023-05-05T15:17:10.033Z"
   },
   {
    "duration": 4,
    "start_time": "2023-05-05T15:17:10.821Z"
   },
   {
    "duration": 12,
    "start_time": "2023-05-05T15:17:10.827Z"
   },
   {
    "duration": 6,
    "start_time": "2023-05-05T15:17:10.841Z"
   },
   {
    "duration": 35,
    "start_time": "2023-05-05T15:17:10.850Z"
   },
   {
    "duration": 17,
    "start_time": "2023-05-05T15:17:10.888Z"
   },
   {
    "duration": 19,
    "start_time": "2023-05-05T15:17:10.907Z"
   },
   {
    "duration": 149,
    "start_time": "2023-05-05T15:17:10.929Z"
   },
   {
    "duration": 17,
    "start_time": "2023-05-05T15:17:11.080Z"
   },
   {
    "duration": 275,
    "start_time": "2023-05-05T15:17:11.099Z"
   },
   {
    "duration": 431,
    "start_time": "2023-05-05T15:17:11.383Z"
   },
   {
    "duration": 513,
    "start_time": "2023-05-05T15:17:11.817Z"
   },
   {
    "duration": 60,
    "start_time": "2023-05-05T15:17:12.332Z"
   },
   {
    "duration": 652,
    "start_time": "2023-05-05T15:17:12.394Z"
   },
   {
    "duration": 711,
    "start_time": "2023-05-05T15:17:13.048Z"
   },
   {
    "duration": 841,
    "start_time": "2023-05-05T15:17:13.762Z"
   },
   {
    "duration": 94,
    "start_time": "2023-05-05T15:17:14.606Z"
   },
   {
    "duration": 31,
    "start_time": "2023-05-05T15:17:14.703Z"
   },
   {
    "duration": 13,
    "start_time": "2023-05-05T15:17:14.736Z"
   },
   {
    "duration": 32,
    "start_time": "2023-05-05T15:17:14.752Z"
   },
   {
    "duration": 4,
    "start_time": "2023-05-05T15:17:14.787Z"
   },
   {
    "duration": 16,
    "start_time": "2023-05-05T15:17:14.793Z"
   },
   {
    "duration": 18,
    "start_time": "2023-05-05T15:17:14.813Z"
   },
   {
    "duration": 25,
    "start_time": "2023-05-05T15:17:14.835Z"
   },
   {
    "duration": 4,
    "start_time": "2023-05-05T15:17:56.777Z"
   },
   {
    "duration": 28322,
    "start_time": "2023-05-05T15:19:20.339Z"
   },
   {
    "duration": 5,
    "start_time": "2023-05-05T15:19:57.250Z"
   },
   {
    "duration": 8,
    "start_time": "2023-05-05T15:19:58.022Z"
   },
   {
    "duration": 16,
    "start_time": "2023-05-05T15:20:03.019Z"
   }
  ],
  "kernelspec": {
   "display_name": "Python 3 (ipykernel)",
   "language": "python",
   "name": "python3"
  },
  "language_info": {
   "codemirror_mode": {
    "name": "ipython",
    "version": 3
   },
   "file_extension": ".py",
   "mimetype": "text/x-python",
   "name": "python",
   "nbconvert_exporter": "python",
   "pygments_lexer": "ipython3",
   "version": "3.9.5"
  },
  "toc": {
   "base_numbering": 1,
   "nav_menu": {},
   "number_sections": true,
   "sideBar": true,
   "skip_h1_title": true,
   "title_cell": "Содержание",
   "title_sidebar": "Contents",
   "toc_cell": true,
   "toc_position": {
    "height": "calc(100% - 180px)",
    "left": "10px",
    "top": "150px",
    "width": "165px"
   },
   "toc_section_display": true,
   "toc_window_display": true
  }
 },
 "nbformat": 4,
 "nbformat_minor": 2
}
